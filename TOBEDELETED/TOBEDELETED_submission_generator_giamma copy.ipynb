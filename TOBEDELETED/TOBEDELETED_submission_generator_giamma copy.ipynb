{
 "cells": [
  {
   "cell_type": "code",
   "execution_count": 1,
   "id": "6ee26eba",
   "metadata": {},
   "outputs": [],
   "source": [
    "import sys\n",
    "\n",
    "sys.path.append('../')\n",
    "\n",
    "import numpy as np\n",
    "\n",
    "from sklearn.pipeline import Pipeline\n",
    "from sklearn.preprocessing import StandardScaler\n",
    "from sklearn.neighbors import KNeighborsRegressor\n",
    "from sklearn.ensemble import RandomForestRegressor\n",
    "from sklearn.kernel_ridge import KernelRidge\n",
    "from sklearn.linear_model import LinearRegression, Ridge, Lasso\n",
    "from sklearn.gaussian_process import GaussianProcessRegressor\n",
    "from sklearn.gaussian_process.kernels import RBF, WhiteKernel\n",
    "from sklearn.decomposition import PCA\n",
    "\n",
    "from xgboost import XGBRegressor\n",
    "\n",
    "from config.regressors import *\n",
    "from config.models import *\n",
    "from config.loss_functions import *\n",
    "from config.transformers import *\n",
    "from config.validation import *\n",
    "\n",
    "import pyriemann"
   ]
  },
  {
   "cell_type": "markdown",
   "id": "41ea8cb9",
   "metadata": {},
   "source": [
    "# Models"
   ]
  },
  {
   "cell_type": "markdown",
   "id": "455d5401",
   "metadata": {},
   "source": [
    "### Baseline models"
   ]
  },
  {
   "cell_type": "code",
   "execution_count": null,
   "id": "c52f725c",
   "metadata": {},
   "outputs": [],
   "source": [
    "from sklearn.pipeline import FeatureUnion\n",
    "from sklearn.decomposition import PCA\n",
    "\n",
    "# Combine features\n",
    "# Define your base feature extractors\n",
    "time_feat = ('time_features', TimeDomainTransformer(sigma_mpr=0.3))\n",
    "wavelet_feat = ('wavelet_features', WaveletFeatureTransformer())\n",
    "\n",
    "combined_features = FeatureUnion([\n",
    "    time_feat,\n",
    "    wavelet_feat\n",
    "])\n",
    "\n",
    "# Wrap with session-wise transformer\n",
    "sessionwise_combined = SessionwiseTransformer(combined_features)\n",
    "\n",
    "baseline_guided_kr = Pipeline([\n",
    "    ('feature_extraction', sessionwise_combined),\n",
    "    ('scaler', StandardScaler()),\n",
    "    ('pca', PCA(n_components=float(0.9), random_state=42)),\n",
    "    ('regressor', KernelRidge(\n",
    "        alpha=0.01,\n",
    "        gamma=0.01,\n",
    "        kernel='rbf'\n",
    "    ))\n",
    "])\n",
    "\n",
    "baseline_guided_knn = Pipeline([\n",
    "    ('feature_extraction', sessionwise_combined),\n",
    "    ('scaler', StandardScaler()),\n",
    "    ('pca', PCA(n_components=float(0.9), random_state=42)),\n",
    "    ('regressor', KNeighborsRegressor(n_neighbors=5))\n",
    "])\n",
    "\n",
    "baseline_guided_rf = Pipeline([\n",
    "    ('feature_extraction', sessionwise_combined),\n",
    "    ('scaler', StandardScaler()),\n",
    "    ('pca', PCA(n_components=float(0.9), random_state=42)),\n",
    "    ('regressor', RandomForestRegressor(n_estimators=50, max_depth=10))\n",
    "])"
   ]
  },
  {
   "cell_type": "code",
   "execution_count": 3,
   "id": "36c566c8",
   "metadata": {},
   "outputs": [],
   "source": [
    "baseline_guided_kr = Pipeline(\n",
    "    [\n",
    "        ('feature_extraction', WaveletFeatureTransformer()),\n",
    "        ('scaler', StandardScaler()),\n",
    "        ('regressor', KernelRidge(\n",
    "            alpha = 0.01,\n",
    "            gamma = 0.01,\n",
    "            kernel='laplacian'))\n",
    "    ]\n",
    ")\n",
    "\n",
    "baseline_guided_knn = Pipeline(\n",
    "    [\n",
    "        ('feature_extraction', WaveletFeatureTransformer()),\n",
    "        ('scaler', StandardScaler()),\n",
    "        ('regressor', KNeighborsRegressor(\n",
    "            n_neighbors = 7))\n",
    "    ]\n",
    ")\n",
    "\n",
    "baseline_guided_rf = Pipeline(\n",
    "    [\n",
    "        ('feature_extraction', WaveletFeatureTransformer()),\n",
    "        ('scaler', StandardScaler()),\n",
    "        ('regressor', RandomForestRegressor(\n",
    "            n_estimators = 50,\n",
    "            max_depth = 10))\n",
    "    ]\n",
    ")\n",
    "\n",
    "timedomain_xgboost = Pipeline(\n",
    "    [\n",
    "        ('feature_extraction', WaveletFeatureTransformer()),\n",
    "        ('scaler', StandardScaler()),\n",
    "        ('regressor', XGBRegressor(\n",
    "            n_estimators = 100,\n",
    "            max_depth = 5,\n",
    "            learning_rate = 0.1,\n",
    "            objective='reg:squarederror',\n",
    "            n_jobs=-1,\n",
    "            verbosity=1\n",
    "        ))\n",
    "    ]\n",
    ")"
   ]
  },
  {
   "cell_type": "markdown",
   "id": "0785ada4",
   "metadata": {},
   "source": [
    "### Riemannian models"
   ]
  },
  {
   "cell_type": "code",
   "execution_count": 4,
   "id": "c84f91d1",
   "metadata": {},
   "outputs": [],
   "source": [
    "# Riemannian geometry of covariance matrices\n",
    "riem1 = Pipeline(\n",
    "    [\n",
    "        ('feature_extraction', pyriemann.estimation.Covariances()),\n",
    "        ('transformation', pyriemann.tangentspace.TangentSpace(\n",
    "            metric = 'riemann',\n",
    "            tsupdate = True)),\n",
    "        ('scaler', StandardScaler()),\n",
    "        ('regressor', KernelRidge(\n",
    "            alpha = 0.01,\n",
    "            gamma = 0.01,\n",
    "            kernel='laplacian'))\n",
    "    ]\n",
    ")\n",
    "\n",
    "riem2 = Pipeline(\n",
    "    [\n",
    "        ('feature_extraction', pyriemann.estimation.Covariances()),\n",
    "        ('transformation', pyriemann.tangentspace.TangentSpace(\n",
    "            metric = 'riemann',\n",
    "            tsupdate = True)),\n",
    "        ('scaler', StandardScaler()),\n",
    "        ('regressor', KNeighborsRegressor(\n",
    "            n_neighbors = 7))\n",
    "    ]\n",
    ")\n",
    "\n",
    "riem3 = Pipeline(\n",
    "    [\n",
    "        ('feature_extraction', pyriemann.estimation.Covariances()),\n",
    "        ('transformation', pyriemann.tangentspace.TangentSpace(\n",
    "            metric = 'riemann',\n",
    "            tsupdate = True)),\n",
    "        ('scaler', StandardScaler()),\n",
    "        ('regressor', RandomForestRegressor(\n",
    "            n_estimators = 50,\n",
    "            max_depth = 10))\n",
    "    ]\n",
    ")\n",
    "\n",
    "riem4 = Pipeline(\n",
    "    [\n",
    "        ('feature_extraction', pyriemann.estimation.Covariances()),\n",
    "        ('transformation', pyriemann.tangentspace.TangentSpace(\n",
    "            metric = 'riemann',\n",
    "            tsupdate = True)),\n",
    "        ('scaler', StandardScaler()),\n",
    "        ('regressor', XGBRegressor(\n",
    "            n_estimators = 100,\n",
    "            max_depth = 5,\n",
    "            learning_rate = 0.1,\n",
    "            objective='reg:squarederror',\n",
    "            n_jobs=-1,\n",
    "            verbosity=1\n",
    "        ))\n",
    "    ]\n",
    ")"
   ]
  },
  {
   "cell_type": "markdown",
   "id": "f4ed2284",
   "metadata": {},
   "source": [
    "### Ensemble models"
   ]
  },
  {
   "cell_type": "code",
   "execution_count": 4,
   "id": "f6488776",
   "metadata": {},
   "outputs": [],
   "source": [
    "voting_estimator = VotingRegressor(\n",
    "    estimators = [\n",
    "        baseline_guided_kr,\n",
    "        baseline_guided_knn,\n",
    "        baseline_guided_rf,\n",
    "        timedomain_xgboost,\n",
    "        riem1,\n",
    "        riem2,\n",
    "        riem3,\n",
    "        riem4\n",
    "    ]\n",
    ")\n",
    "\n",
    "stacking_estimator = StackingRegressor(\n",
    "    estimators = [\n",
    "        baseline_guided_kr,\n",
    "        # baseline_guided_knn,\n",
    "        # baseline_guided_rf,\n",
    "        timedomain_xgboost,\n",
    "        # riem1,\n",
    "        # riem2,\n",
    "        # riem3,\n",
    "        riem4\n",
    "    ],\n",
    "    end_estimator = RandomForestRegressor(\n",
    "        n_estimators = 50,\n",
    "        max_depth = 10)\n",
    ")"
   ]
  },
  {
   "cell_type": "markdown",
   "id": "ae29bf95",
   "metadata": {},
   "source": [
    "# Final generalization evaluation"
   ]
  },
  {
   "cell_type": "code",
   "execution_count": 5,
   "id": "d464e9ef",
   "metadata": {},
   "outputs": [],
   "source": [
    "# PATH = f'/Users/marco/PROJECTS/data/'\n",
    "PATH = r'C:\\Users\\gianm\\Documents\\Uni\\Big Data\\F422\\project\\data\\\\'\n",
    "\n",
    "# model = baseline_guided_kr\n",
    "step = 250\n",
    "\n",
    "metric_fns = {'RMSE': RMSE, 'NMSE': NMSE}"
   ]
  },
  {
   "cell_type": "code",
   "execution_count": 6,
   "id": "3a016181",
   "metadata": {},
   "outputs": [],
   "source": [
    "tw_extractor = TimeWindowTransformer(size = 500, step = step)\n",
    "label_extractor = LabelWindowExtractor(size = 500, step = step)\n",
    "\n",
    "# guided\n",
    "X_guided = np.load(PATH + f'guided/guided_dataset_X.npy')\n",
    "Y_guided = np.load(PATH + f'guided/guided_dataset_Y.npy')\n",
    "X_guided_windows = tw_extractor.transform(X_guided)\n",
    "Y_guided_labels = label_extractor.transform(Y_guided)\n",
    "\n",
    "# freemoves\n",
    "X_freemoves = np.load(PATH + f'freemoves/freemoves_dataset_X.npy')\n",
    "Y_freemoves = np.load(PATH + f'freemoves/freemoves_dataset_Y.npy')\n",
    "X_freemoves_windows = tw_extractor.transform(X_freemoves)\n",
    "Y_freemoves_labels = label_extractor.transform(Y_freemoves)\n",
    "\n",
    "# # stacked\n",
    "# X_stacked_windows = np.concatenate([X_guided_windows, X_freemoves_windows], axis=1)\n",
    "# Y_stacked_labels = np.concatenate([Y_guided_labels, Y_freemoves_labels], axis=1)"
   ]
  },
  {
   "cell_type": "code",
   "execution_count": 8,
   "id": "5b5bb091",
   "metadata": {},
   "outputs": [
    {
     "name": "stdout",
     "output_type": "stream",
     "text": [
      "Time-domain feature shape: (5, 1079, 8, 500)\n",
      "Flat Time-domain feature shape: (5, 1079, 96)\n",
      "Riemannian feature shape: (5395, 36)\n",
      "Wavelet feature shape: (5, 1079, 128)\n"
     ]
    }
   ],
   "source": [
    "# Time-domain features\n",
    "print(\"Time-domain feature shape:\", X_freemoves_windows.shape)  # (n_windows, td_features)\n",
    "print(\"Flat Time-domain feature shape:\", TimeDomainTransformer(sigma_mpr=0.3).fit_transform(X_freemoves_windows).shape)\n",
    "\n",
    "riem_pipeline = Pipeline([\n",
    "    ('feature_extraction', pyriemann.estimation.Covariances()),\n",
    "    ('transformation', pyriemann.tangentspace.TangentSpace(\n",
    "        metric = 'riemann',\n",
    "        tsupdate = True))\n",
    "])\n",
    "\n",
    "X_riem = riem_pipeline.fit_transform(X_freemoves_windows.reshape(-1, 8, 500))  # shape: (n_windows, riem_features)\n",
    "print(\"Riemannian feature shape:\", X_riem.shape)\n",
    "\n",
    "# Step 3: Wavelet features\n",
    "wave = WaveletFeatureTransformer()\n",
    "X_wave = wave.fit_transform(X_freemoves_windows)  # shape: (n_windows, wave_features)\n",
    "print(\"Wavelet feature shape:\", X_wave.shape)"
   ]
  },
  {
   "cell_type": "markdown",
   "id": "2cb5119d",
   "metadata": {},
   "source": [
    "#### RMSE guided"
   ]
  },
  {
   "cell_type": "code",
   "execution_count": 14,
   "id": "debe9a8d",
   "metadata": {},
   "outputs": [
    {
     "name": "stdout",
     "output_type": "stream",
     "text": [
      "Ridge(alpha=0.01): avg_val_RMSE = 4.6993\n",
      "Ridge(alpha=0.1): avg_val_RMSE = 4.7044\n",
      "Ridge(alpha=1.0): avg_val_RMSE = 4.7192\n",
      "Ridge(alpha=10.0): avg_val_RMSE = 4.7392\n"
     ]
    }
   ],
   "source": [
    "from sklearn.linear_model import LinearRegression, Ridge, Lasso\n",
    "from sklearn.ensemble import RandomForestRegressor, GradientBoostingRegressor\n",
    "from sklearn.svm import SVR\n",
    "from sklearn.multioutput import MultiOutputRegressor\n",
    "from sklearn.neural_network import MLPRegressor\n",
    "from xgboost import XGBRegressor\n",
    "\n",
    "base_models = [\n",
    "        baseline_guided_kr,\n",
    "        # baseline_guided_knn,\n",
    "        baseline_guided_rf,\n",
    "        # timedomain_xgboost,\n",
    "        # riem1,\n",
    "        # riem2,\n",
    "        riem3,\n",
    "        # riem4\n",
    "    ]\n",
    "\n",
    "alphas = [0.01, 0.1, 1.0, 10.0]\n",
    "for alpha in alphas:\n",
    "    meta = Ridge(alpha=alpha)\n",
    "    model = StackingRegressor(estimators=base_models, end_estimator=meta)\n",
    "    scores = cross_validate_pipeline(model, X_guided_windows, Y_guided_labels, metric_fns, n_folds=5, verbose=0)\n",
    "    print(f\"Ridge(alpha={alpha}): avg_val_RMSE = {scores['avg_val_RMSE']:.4f}\")"
   ]
  },
  {
   "cell_type": "code",
   "execution_count": 1,
   "id": "57d4b809",
   "metadata": {},
   "outputs": [],
   "source": [
    "# alphas = [0.01, 0.1, 1.0, 10.0]\n",
    "# for alpha in alphas:\n",
    "#     meta = Lasso(alpha=alpha, max_iter=10000)\n",
    "#     model = StackingRegressor(estimators=base_models, end_estimator=meta)\n",
    "#     scores = cross_validate_pipeline(model, X_guided_windows, Y_guided_labels, metric_fns, n_folds=5, verbose=0)\n",
    "#     print(f\"Lasso(alpha={alpha}): avg_val_RMSE = {scores['avg_val_RMSE']:.4f}\")"
   ]
  },
  {
   "cell_type": "code",
   "execution_count": 2,
   "id": "c458c672",
   "metadata": {},
   "outputs": [],
   "source": [
    "# n_estimators = [10, 50, 100]\n",
    "# # max_depths = [5, 7, 10]\n",
    "# max_depths = [7, 10, 13, 15]\n",
    "\n",
    "# for n in n_estimators:\n",
    "#     for d in max_depths:\n",
    "#         meta = RandomForestRegressor(n_estimators=n, max_depth=d, random_state=42)\n",
    "#         model = StackingRegressor(estimators=base_models, end_estimator=meta)\n",
    "#         scores = cross_validate_pipeline(model, X_guided_windows, Y_guided_labels, metric_fns, n_folds=5, verbose=0)\n",
    "#         print(f\"RandomForest(n={n}, depth={d}): avg_val_RMSE = {scores['avg_val_RMSE']:.4f}\")"
   ]
  },
  {
   "cell_type": "code",
   "execution_count": 19,
   "id": "20e448b0",
   "metadata": {},
   "outputs": [
    {
     "name": "stdout",
     "output_type": "stream",
     "text": [
      "\n",
      "Average Scores across folds:\n",
      "RMSE: train=1.8400, val=4.2512\n",
      "NMSE: train=0.0167, val=0.0906\n"
     ]
    }
   ],
   "source": [
    "ensemble = VotingRegressor(estimators=estimators, weights=[0.0, 0.3, 0.3, 0.2, 0.1, 0.1])\n",
    "results_guided = cross_validate_pipeline(ensemble, X_guided_windows, Y_guided_labels, metric_fns, n_folds=5, verbose=1)"
   ]
  },
  {
   "cell_type": "markdown",
   "id": "ebba378b",
   "metadata": {},
   "source": [
    "#### RMSE freemoves"
   ]
  },
  {
   "cell_type": "code",
   "execution_count": 7,
   "id": "a21b09bc",
   "metadata": {},
   "outputs": [
    {
     "ename": "KeyboardInterrupt",
     "evalue": "",
     "output_type": "error",
     "traceback": [
      "\u001b[1;31m---------------------------------------------------------------------------\u001b[0m",
      "\u001b[1;31mKeyboardInterrupt\u001b[0m                         Traceback (most recent call last)",
      "Cell \u001b[1;32mIn[7], line 42\u001b[0m\n\u001b[0;32m     39\u001b[0m \u001b[38;5;28;01mfor\u001b[39;00m weights \u001b[38;5;129;01min\u001b[39;00m weight_sets:\n\u001b[0;32m     40\u001b[0m     ensemble \u001b[38;5;241m=\u001b[39m VotingRegressor(estimators\u001b[38;5;241m=\u001b[39mestimators, weights\u001b[38;5;241m=\u001b[39mweights)\n\u001b[1;32m---> 42\u001b[0m     cv_scores \u001b[38;5;241m=\u001b[39m \u001b[43mcross_validate_pipeline\u001b[49m\u001b[43m(\u001b[49m\n\u001b[0;32m     43\u001b[0m \u001b[43m        \u001b[49m\u001b[43mensemble\u001b[49m\u001b[43m,\u001b[49m\u001b[43m \u001b[49m\u001b[43mX_freemoves_windows\u001b[49m\u001b[43m,\u001b[49m\u001b[43m \u001b[49m\u001b[43mY_freemoves_labels\u001b[49m\u001b[43m,\u001b[49m\u001b[43m \u001b[49m\u001b[43mmetric_fns\u001b[49m\u001b[43m,\u001b[49m\u001b[43m \u001b[49m\u001b[43mn_folds\u001b[49m\u001b[38;5;241;43m=\u001b[39;49m\u001b[38;5;241;43m5\u001b[39;49m\u001b[43m,\u001b[49m\u001b[43m \u001b[49m\u001b[43mverbose\u001b[49m\u001b[38;5;241;43m=\u001b[39;49m\u001b[38;5;241;43m0\u001b[39;49m\n\u001b[0;32m     44\u001b[0m \u001b[43m    \u001b[49m\u001b[43m)\u001b[49m\n\u001b[0;32m     45\u001b[0m     results\u001b[38;5;241m.\u001b[39mappend((weights, cv_scores[\u001b[38;5;124m'\u001b[39m\u001b[38;5;124mavg_val_RMSE\u001b[39m\u001b[38;5;124m'\u001b[39m]))\n\u001b[0;32m     46\u001b[0m     \u001b[38;5;28mprint\u001b[39m(\u001b[38;5;124mf\u001b[39m\u001b[38;5;124m\"\u001b[39m\u001b[38;5;124mWeights: \u001b[39m\u001b[38;5;132;01m{\u001b[39;00mweights\u001b[38;5;132;01m}\u001b[39;00m\u001b[38;5;124m → avg_val_RMSE: \u001b[39m\u001b[38;5;132;01m{\u001b[39;00mcv_scores[\u001b[38;5;124m'\u001b[39m\u001b[38;5;124mavg_val_RMSE\u001b[39m\u001b[38;5;124m'\u001b[39m]\u001b[38;5;132;01m:\u001b[39;00m\u001b[38;5;124m.4f\u001b[39m\u001b[38;5;132;01m}\u001b[39;00m\u001b[38;5;124m\"\u001b[39m)\n",
      "File \u001b[1;32mc:\\Users\\gianm\\Documents\\Uni\\Big Data\\F422\\project\\pose-estimation-from-emg-signal-team-1\\TOBEDELETED\\..\\config\\validation.py:134\u001b[0m, in \u001b[0;36mcross_validate_pipeline\u001b[1;34m(pipeline, X_folds, Y_folds, metric_fns, n_folds, verbose)\u001b[0m\n\u001b[0;32m    131\u001b[0m Y_val \u001b[38;5;241m=\u001b[39m Y_folds[val_idx]\n\u001b[0;32m    133\u001b[0m pipeline\u001b[38;5;241m.\u001b[39mfit(X_train, Y_train)\n\u001b[1;32m--> 134\u001b[0m Y_train_pred \u001b[38;5;241m=\u001b[39m \u001b[43mpipeline\u001b[49m\u001b[38;5;241;43m.\u001b[39;49m\u001b[43mpredict\u001b[49m\u001b[43m(\u001b[49m\u001b[43mX_train\u001b[49m\u001b[43m)\u001b[49m\n\u001b[0;32m    135\u001b[0m Y_val_pred \u001b[38;5;241m=\u001b[39m pipeline\u001b[38;5;241m.\u001b[39mpredict(X_val)\n\u001b[0;32m    137\u001b[0m results[fold] \u001b[38;5;241m=\u001b[39m {}\n",
      "File \u001b[1;32mc:\\Users\\gianm\\Documents\\Uni\\Big Data\\F422\\project\\pose-estimation-from-emg-signal-team-1\\TOBEDELETED\\..\\config\\regressors.py:35\u001b[0m, in \u001b[0;36mVotingRegressor.predict\u001b[1;34m(self, X)\u001b[0m\n\u001b[0;32m     32\u001b[0m \u001b[38;5;28;01mdef\u001b[39;00m \u001b[38;5;21mpredict\u001b[39m(\u001b[38;5;28mself\u001b[39m, X):\n\u001b[0;32m     33\u001b[0m     X \u001b[38;5;241m=\u001b[39m np\u001b[38;5;241m.\u001b[39masarray(X)\n\u001b[0;32m     34\u001b[0m     predictions \u001b[38;5;241m=\u001b[39m np\u001b[38;5;241m.\u001b[39masarray(\n\u001b[1;32m---> 35\u001b[0m         [\u001b[43mestimator\u001b[49m\u001b[38;5;241;43m.\u001b[39;49m\u001b[43mpredict\u001b[49m\u001b[43m(\u001b[49m\u001b[43mX\u001b[49m\u001b[43m)\u001b[49m \u001b[38;5;28;01mfor\u001b[39;00m estimator \u001b[38;5;129;01min\u001b[39;00m \u001b[38;5;28mself\u001b[39m\u001b[38;5;241m.\u001b[39mestimators]\n\u001b[0;32m     36\u001b[0m     )\n\u001b[0;32m     37\u001b[0m     \u001b[38;5;28;01mreturn\u001b[39;00m np\u001b[38;5;241m.\u001b[39maverage(predictions, weights\u001b[38;5;241m=\u001b[39m\u001b[38;5;28mself\u001b[39m\u001b[38;5;241m.\u001b[39mweights, axis\u001b[38;5;241m=\u001b[39m\u001b[38;5;241m0\u001b[39m)\n",
      "File \u001b[1;32mc:\\Users\\gianm\\miniforge3\\envs\\test\\Lib\\site-packages\\sklearn\\pipeline.py:600\u001b[0m, in \u001b[0;36mPipeline.predict\u001b[1;34m(self, X, **params)\u001b[0m\n\u001b[0;32m    598\u001b[0m \u001b[38;5;28;01mif\u001b[39;00m \u001b[38;5;129;01mnot\u001b[39;00m _routing_enabled():\n\u001b[0;32m    599\u001b[0m     \u001b[38;5;28;01mfor\u001b[39;00m _, name, transform \u001b[38;5;129;01min\u001b[39;00m \u001b[38;5;28mself\u001b[39m\u001b[38;5;241m.\u001b[39m_iter(with_final\u001b[38;5;241m=\u001b[39m\u001b[38;5;28;01mFalse\u001b[39;00m):\n\u001b[1;32m--> 600\u001b[0m         Xt \u001b[38;5;241m=\u001b[39m \u001b[43mtransform\u001b[49m\u001b[38;5;241;43m.\u001b[39;49m\u001b[43mtransform\u001b[49m\u001b[43m(\u001b[49m\u001b[43mXt\u001b[49m\u001b[43m)\u001b[49m\n\u001b[0;32m    601\u001b[0m     \u001b[38;5;28;01mreturn\u001b[39;00m \u001b[38;5;28mself\u001b[39m\u001b[38;5;241m.\u001b[39msteps[\u001b[38;5;241m-\u001b[39m\u001b[38;5;241m1\u001b[39m][\u001b[38;5;241m1\u001b[39m]\u001b[38;5;241m.\u001b[39mpredict(Xt, \u001b[38;5;241m*\u001b[39m\u001b[38;5;241m*\u001b[39mparams)\n\u001b[0;32m    603\u001b[0m \u001b[38;5;66;03m# metadata routing enabled\u001b[39;00m\n",
      "File \u001b[1;32mc:\\Users\\gianm\\miniforge3\\envs\\test\\Lib\\site-packages\\sklearn\\utils\\_set_output.py:316\u001b[0m, in \u001b[0;36m_wrap_method_output.<locals>.wrapped\u001b[1;34m(self, X, *args, **kwargs)\u001b[0m\n\u001b[0;32m    314\u001b[0m \u001b[38;5;129m@wraps\u001b[39m(f)\n\u001b[0;32m    315\u001b[0m \u001b[38;5;28;01mdef\u001b[39;00m \u001b[38;5;21mwrapped\u001b[39m(\u001b[38;5;28mself\u001b[39m, X, \u001b[38;5;241m*\u001b[39margs, \u001b[38;5;241m*\u001b[39m\u001b[38;5;241m*\u001b[39mkwargs):\n\u001b[1;32m--> 316\u001b[0m     data_to_wrap \u001b[38;5;241m=\u001b[39m \u001b[43mf\u001b[49m\u001b[43m(\u001b[49m\u001b[38;5;28;43mself\u001b[39;49m\u001b[43m,\u001b[49m\u001b[43m \u001b[49m\u001b[43mX\u001b[49m\u001b[43m,\u001b[49m\u001b[43m \u001b[49m\u001b[38;5;241;43m*\u001b[39;49m\u001b[43margs\u001b[49m\u001b[43m,\u001b[49m\u001b[43m \u001b[49m\u001b[38;5;241;43m*\u001b[39;49m\u001b[38;5;241;43m*\u001b[39;49m\u001b[43mkwargs\u001b[49m\u001b[43m)\u001b[49m\n\u001b[0;32m    317\u001b[0m     \u001b[38;5;28;01mif\u001b[39;00m \u001b[38;5;28misinstance\u001b[39m(data_to_wrap, \u001b[38;5;28mtuple\u001b[39m):\n\u001b[0;32m    318\u001b[0m         \u001b[38;5;66;03m# only wrap the first output for cross decomposition\u001b[39;00m\n\u001b[0;32m    319\u001b[0m         return_tuple \u001b[38;5;241m=\u001b[39m (\n\u001b[0;32m    320\u001b[0m             _wrap_data_with_container(method, data_to_wrap[\u001b[38;5;241m0\u001b[39m], X, \u001b[38;5;28mself\u001b[39m),\n\u001b[0;32m    321\u001b[0m             \u001b[38;5;241m*\u001b[39mdata_to_wrap[\u001b[38;5;241m1\u001b[39m:],\n\u001b[0;32m    322\u001b[0m         )\n",
      "File \u001b[1;32mc:\\Users\\gianm\\Documents\\Uni\\Big Data\\F422\\project\\pose-estimation-from-emg-signal-team-1\\TOBEDELETED\\..\\config\\transformers.py:500\u001b[0m, in \u001b[0;36mWaveletFeatureTransformer.transform\u001b[1;34m(self, X)\u001b[0m\n\u001b[0;32m    498\u001b[0m \u001b[38;5;28;01mfor\u001b[39;00m ch \u001b[38;5;129;01min\u001b[39;00m window:\n\u001b[0;32m    499\u001b[0m     ch \u001b[38;5;241m=\u001b[39m np\u001b[38;5;241m.\u001b[39masarray(ch)\u001b[38;5;241m.\u001b[39mcopy()\n\u001b[1;32m--> 500\u001b[0m     coeffs \u001b[38;5;241m=\u001b[39m \u001b[43mpywt\u001b[49m\u001b[38;5;241;43m.\u001b[39;49m\u001b[43mwavedec\u001b[49m\u001b[43m(\u001b[49m\u001b[43mch\u001b[49m\u001b[43m,\u001b[49m\u001b[43m \u001b[49m\u001b[38;5;28;43mself\u001b[39;49m\u001b[38;5;241;43m.\u001b[39;49m\u001b[43mwavelet\u001b[49m\u001b[43m,\u001b[49m\u001b[43m \u001b[49m\u001b[43mlevel\u001b[49m\u001b[38;5;241;43m=\u001b[39;49m\u001b[38;5;28;43mself\u001b[39;49m\u001b[38;5;241;43m.\u001b[39;49m\u001b[43mlevel\u001b[49m\u001b[43m)\u001b[49m\n\u001b[0;32m    501\u001b[0m     band_feats \u001b[38;5;241m=\u001b[39m [np\u001b[38;5;241m.\u001b[39marray([m(b) \u001b[38;5;28;01mfor\u001b[39;00m m \u001b[38;5;129;01min\u001b[39;00m \u001b[38;5;28mself\u001b[39m\u001b[38;5;241m.\u001b[39mmetrics]) \u001b[38;5;28;01mfor\u001b[39;00m b \u001b[38;5;129;01min\u001b[39;00m coeffs]\n\u001b[0;32m    502\u001b[0m     ch_feats\u001b[38;5;241m.\u001b[39mappend(np\u001b[38;5;241m.\u001b[39mconcatenate(band_feats))\n",
      "File \u001b[1;32mc:\\Users\\gianm\\miniforge3\\envs\\test\\Lib\\site-packages\\pywt\\_multilevel.py:103\u001b[0m, in \u001b[0;36mwavedec\u001b[1;34m(data, wavelet, mode, level, axis)\u001b[0m\n\u001b[0;32m    101\u001b[0m a \u001b[38;5;241m=\u001b[39m data\n\u001b[0;32m    102\u001b[0m \u001b[38;5;28;01mfor\u001b[39;00m i \u001b[38;5;129;01min\u001b[39;00m \u001b[38;5;28mrange\u001b[39m(level):\n\u001b[1;32m--> 103\u001b[0m     a, d \u001b[38;5;241m=\u001b[39m \u001b[43mdwt\u001b[49m\u001b[43m(\u001b[49m\u001b[43ma\u001b[49m\u001b[43m,\u001b[49m\u001b[43m \u001b[49m\u001b[43mwavelet\u001b[49m\u001b[43m,\u001b[49m\u001b[43m \u001b[49m\u001b[43mmode\u001b[49m\u001b[43m,\u001b[49m\u001b[43m \u001b[49m\u001b[43maxis\u001b[49m\u001b[43m)\u001b[49m\n\u001b[0;32m    104\u001b[0m     coeffs_list\u001b[38;5;241m.\u001b[39mappend(d)\n\u001b[0;32m    106\u001b[0m coeffs_list\u001b[38;5;241m.\u001b[39mappend(a)\n",
      "File \u001b[1;32mc:\\Users\\gianm\\miniforge3\\envs\\test\\Lib\\site-packages\\pywt\\_dwt.py:182\u001b[0m, in \u001b[0;36mdwt\u001b[1;34m(data, wavelet, mode, axis)\u001b[0m\n\u001b[0;32m    179\u001b[0m     \u001b[38;5;28;01mraise\u001b[39;00m AxisError(\u001b[38;5;124m\"\u001b[39m\u001b[38;5;124mAxis greater than data dimensions\u001b[39m\u001b[38;5;124m\"\u001b[39m)\n\u001b[0;32m    181\u001b[0m \u001b[38;5;28;01mif\u001b[39;00m data\u001b[38;5;241m.\u001b[39mndim \u001b[38;5;241m==\u001b[39m \u001b[38;5;241m1\u001b[39m:\n\u001b[1;32m--> 182\u001b[0m     cA, cD \u001b[38;5;241m=\u001b[39m \u001b[43mdwt_single\u001b[49m\u001b[43m(\u001b[49m\u001b[43mdata\u001b[49m\u001b[43m,\u001b[49m\u001b[43m \u001b[49m\u001b[43mwavelet\u001b[49m\u001b[43m,\u001b[49m\u001b[43m \u001b[49m\u001b[43mmode\u001b[49m\u001b[43m)\u001b[49m\n\u001b[0;32m    183\u001b[0m     \u001b[38;5;66;03m# TODO: Check whether this makes a copy\u001b[39;00m\n\u001b[0;32m    184\u001b[0m     cA, cD \u001b[38;5;241m=\u001b[39m np\u001b[38;5;241m.\u001b[39masarray(cA, dt), np\u001b[38;5;241m.\u001b[39masarray(cD, dt)\n",
      "\u001b[1;31mKeyboardInterrupt\u001b[0m: "
     ]
    }
   ],
   "source": [
    "# Define all your models (trained or pipelines)\n",
    "estimators = [\n",
    "    baseline_guided_kr,\n",
    "    baseline_guided_knn,\n",
    "    baseline_guided_rf,\n",
    "    riem1,\n",
    "    riem2,\n",
    "    riem3\n",
    "]\n",
    "\n",
    "# Define weight combinations manually (they must sum to 1)\n",
    "weight_sets = [\n",
    "    [1/6] * 6,  # uniform\n",
    "    [0.2, 0.2, 0.2, 0.2, 0.1, 0.1],\n",
    "    [0.1, 0.1, 0.4, 0.1, 0.15, 0.15],\n",
    "    [0.25, 0.25, 0.25, 0.0, 0.15, 0.10],\n",
    "    [0.4, 0.0, 0.0, 0.2, 0.2, 0.2],\n",
    "    [0.3, 0.3, 0.0, 0.1, 0.2, 0.1],\n",
    "    [0.2, 0.2, 0.1, 0.1, 0.2, 0.2],\n",
    "    [0.15, 0.15, 0.15, 0.15, 0.2, 0.2],\n",
    "    [0.1, 0.1, 0.1, 0.2, 0.3, 0.2],\n",
    "    [0.2, 0.0, 0.0, 0.3, 0.3, 0.2],\n",
    "    [0.5, 0.2, 0.0, 0.0, 0.2, 0.1],\n",
    "    [0.6, 0.0, 0.0, 0.0, 0.2, 0.2],\n",
    "    [0.4, 0.3, 0.0, 0.1, 0.1, 0.1],\n",
    "    [0.3, 0.0, 0.1, 0.1, 0.3, 0.2],\n",
    "    [0.1, 0.1, 0.2, 0.2, 0.2, 0.2],\n",
    "    [0.0, 0.3, 0.3, 0.2, 0.1, 0.1],\n",
    "    [0.0, 0.0, 0.4, 0.2, 0.2, 0.2],\n",
    "    [0.0, 0.0, 0.0, 0.5, 0.3, 0.2],\n",
    "    [0.2, 0.2, 0.0, 0.0, 0.3, 0.3],\n",
    "    [0.1, 0.1, 0.1, 0.1, 0.3, 0.3]\n",
    "]\n",
    "\n",
    "# Track results\n",
    "results = []\n",
    "\n",
    "# Loop through each weight set and evaluate with cross-validation\n",
    "for weights in weight_sets:\n",
    "    ensemble = VotingRegressor(estimators=estimators, weights=weights)\n",
    "    \n",
    "    cv_scores = cross_validate_pipeline(\n",
    "        ensemble, X_freemoves_windows, Y_freemoves_labels, metric_fns, n_folds=5, verbose=0\n",
    "    )\n",
    "    results.append((weights, cv_scores['avg_val_RMSE']))\n",
    "    print(f\"Weights: {weights} → avg_val_RMSE: {cv_scores['avg_val_RMSE']:.4f}\")"
   ]
  },
  {
   "cell_type": "code",
   "execution_count": null,
   "id": "29ef94c8",
   "metadata": {},
   "outputs": [],
   "source": [
    "metric_fns = {'RMSE': RMSE, 'NMSE': NMSE}\n",
    "models = {\n",
    "    'Combined features + Kernel Ridge': baseline_guided_kr,\n",
    "    'Combined features + KNN': baseline_guided_knn,\n",
    "    'Combined features + RF': baseline_guided_rf,\n",
    "}\n",
    "\n",
    "for model_name, model in models.items():\n",
    "    print(f\"\\nModel: {model_name}\")\n",
    "    results = cross_validate_pipeline(\n",
    "        model, \n",
    "        X_freemoves_windows, \n",
    "        Y_freemoves_labels, \n",
    "        metric_fns=metric_fns,\n",
    "        n_folds=5,\n",
    "        verbose=1\n",
    "    )"
   ]
  },
  {
   "cell_type": "code",
   "execution_count": null,
   "id": "5ae8f87a",
   "metadata": {},
   "outputs": [],
   "source": [
    "base_models = [\n",
    "        baseline_guided_kr,\n",
    "        # baseline_guided_knn,\n",
    "        # baseline_guided_rf,\n",
    "        timedomain_xgboost,\n",
    "        # riem1,\n",
    "        # riem2,\n",
    "        # riem3,\n",
    "        riem4\n",
    "    ]\n",
    "\n",
    "for name, meta in meta_models.items():\n",
    "    model = StackingRegressor(estimators=base_models, \n",
    "                              end_estimator=RandomForestRegressor(\n",
    "                                  n_estimators = 50, max_depth = 10))\n",
    "    results = cross_validate_pipeline(model, X_freemoves_windows, Y_freemoves_labels, metric_fns, n_folds=5, verbose=0)\n",
    "    print(f\"{name} meta: avg_val_RMSE = {results['avg_val_RMSE']:.4f}\")"
   ]
  },
  {
   "cell_type": "code",
   "execution_count": null,
   "id": "ec3afb5c",
   "metadata": {},
   "outputs": [
    {
     "name": "stdout",
     "output_type": "stream",
     "text": [
      "\n",
      "Average Scores across folds:\n",
      "RMSE: train=0.0000, val=0.1519\n",
      "NMSE: train=0.0000, val=1.0009\n"
     ]
    }
   ],
   "source": [
    "from sklearn.base import BaseEstimator, TransformerMixin\n",
    "\n",
    "class FlattenTransformer(BaseEstimator, TransformerMixin):\n",
    "    def fit(self, X, y=None):\n",
    "        return self\n",
    "\n",
    "    def transform(self, X):\n",
    "        return X.reshape(X.shape[0], -1)\n",
    "\n",
    "kernel = RBF(length_scale=np.ones(8)) # One per EMG channel\n",
    "\n",
    "X_transformed = EmgFilterTransformer().fit_transform(X_freemoves)\n",
    "Y_transformed = EmgFilterTransformer().fit_transform(Y_freemoves)\n",
    "\n",
    "# X_transformed = EMGPreprocessor().fit_transform(X_freemoves)\n",
    "# Y_transformed = EMGPreprocessor().fit_transform(Y_freemoves)\n",
    "\n",
    "X_transformed = tw_extractor.transform(X_transformed)"
   ]
  },
  {
   "cell_type": "code",
   "execution_count": null,
   "id": "91071078",
   "metadata": {},
   "outputs": [
    {
     "name": "stderr",
     "output_type": "stream",
     "text": [
      "c:\\Users\\gianm\\miniforge3\\envs\\test\\Lib\\site-packages\\sklearn\\gaussian_process\\kernels.py:442: ConvergenceWarning: The optimal value found for dimension 0 of parameter length_scale is close to the specified lower bound 1e-05. Decreasing the bound and calling fit again may find a better value.\n",
      "  warnings.warn(\n"
     ]
    }
   ],
   "source": [
    "from sklearn.gaussian_process.kernels import RationalQuadratic, WhiteKernel\n",
    "\n",
    "baseline = Pipeline(\n",
    "    [\n",
    "        ('window_extraction', TimeWindowPipeline()),\n",
    "        ('flatten', FlattenTransformer()),\n",
    "        ('scaler', StandardScaler()),\n",
    "        ('regressor', GaussianProcessRegressor(kernel=RationalQuadratic()))\n",
    "    ]\n",
    ")\n",
    "\n",
    "results_freemoves = cross_validate_pipeline(baseline, \n",
    "                                            X_transformed, \n",
    "                                            Y_freemoves_labels, \n",
    "                                            metric_fns, \n",
    "                                            n_folds=5, \n",
    "                                            verbose=1)"
   ]
  },
  {
   "cell_type": "code",
   "execution_count": 20,
   "id": "6021fae5",
   "metadata": {},
   "outputs": [
    {
     "name": "stdout",
     "output_type": "stream",
     "text": [
      "\n",
      "Average Scores across folds:\n",
      "RMSE: train=3.9533, val=10.1630\n",
      "NMSE: train=0.0987, val=0.7275\n"
     ]
    }
   ],
   "source": [
    "ensemble = VotingRegressor(estimators=estimators, weights=[0.2, 0.2, 0.2, 0.2, 0.1, 0.1])\n",
    "results_freemoves = cross_validate_pipeline(ensemble, X_freemoves_windows, Y_freemoves_labels, metric_fns, n_folds=5, verbose=1)"
   ]
  },
  {
   "cell_type": "markdown",
   "id": "1f68ce3c",
   "metadata": {},
   "source": [
    "#### RMSE total"
   ]
  },
  {
   "cell_type": "code",
   "execution_count": 21,
   "id": "a62f06fb",
   "metadata": {},
   "outputs": [
    {
     "data": {
      "text/plain": [
       "np.float64(7.789721324122596)"
      ]
     },
     "execution_count": 21,
     "metadata": {},
     "output_type": "execute_result"
    }
   ],
   "source": [
    "results_combined = \\\n",
    "    ((results_guided['avg_val_RMSE']**2 * X_guided.shape[0] + \\\n",
    "    results_freemoves['avg_val_RMSE']**2 * X_freemoves.shape[0])/(X_guided.shape[0]+X_freemoves.shape[0]))**0.5\n",
    "\n",
    "results_combined # I think that this should be the result that is most correlated to the score"
   ]
  },
  {
   "cell_type": "markdown",
   "id": "5ba40ba5",
   "metadata": {},
   "source": [
    "# Submission\n"
   ]
  },
  {
   "cell_type": "markdown",
   "id": "f431d83a",
   "metadata": {},
   "source": [
    "### Guided training and predictions"
   ]
  },
  {
   "cell_type": "code",
   "execution_count": 26,
   "id": "4346b0b8",
   "metadata": {},
   "outputs": [],
   "source": [
    "DATASET = 'guided'\n",
    "\n",
    "# training\n",
    "X = np.load(PATH + f'{DATASET}/{DATASET}_dataset_X.npy')\n",
    "Y = np.load(PATH + f'{DATASET}/{DATASET}_dataset_Y.npy')\n",
    "\n",
    "tw_extractor = TimeWindowTransformer(size = 500, step = 50)\n",
    "label_extractor = LabelWindowExtractor(size = 500, step = 50)\n",
    "\n",
    "X_windows = tw_extractor.transform(X)\n",
    "Y_labels = label_extractor.transform(Y)\n",
    "\n",
    "X_train = X_windows.reshape(-1, *X_windows.shape[2:])\n",
    "Y_train = Y_labels.reshape(-1, *Y_labels.shape[2:])\n",
    "\n",
    "model_guided = VotingRegressor(estimators=estimators)\n",
    "\n",
    "model_guided.fit(X_train, Y_train)\n",
    "\n",
    "# predicting\n",
    "X_test = np.load(PATH + f'{DATASET}/{DATASET}_testset_X.npy')\n",
    "X_test = X_test.reshape(-1, *X_windows.shape[2:])\n",
    "\n",
    "Y_guided_pred = model.predict(X_test)"
   ]
  },
  {
   "cell_type": "markdown",
   "id": "b298626a",
   "metadata": {},
   "source": [
    "### Freemoves training and predictions"
   ]
  },
  {
   "cell_type": "code",
   "execution_count": 27,
   "id": "0a73f541",
   "metadata": {},
   "outputs": [],
   "source": [
    "DATASET = 'freemoves'\n",
    "\n",
    "# training\n",
    "X = np.load(PATH + f'{DATASET}/{DATASET}_dataset_X.npy')\n",
    "Y = np.load(PATH + f'{DATASET}/{DATASET}_dataset_Y.npy')\n",
    "\n",
    "tw_extractor = TimeWindowTransformer(size = 500, step = 50)\n",
    "label_extractor = LabelWindowExtractor(size = 500, step = 50)\n",
    "\n",
    "X_windows = tw_extractor.transform(X)\n",
    "Y_labels = label_extractor.transform(Y)\n",
    "\n",
    "X_train = X_windows.reshape(-1, *X_windows.shape[2:])\n",
    "Y_train = Y_labels.reshape(-1, *Y_labels.shape[2:])\n",
    "\n",
    "model_freemoves = VotingRegressor(estimators=estimators, weights=[0.2, 0.2, 0.2, 0.2, 0.1, 0.1])\n",
    "\n",
    "model_freemoves.fit(X_train, Y_train)\n",
    "\n",
    "# predicting\n",
    "X_test = np.load(PATH + f'{DATASET}/{DATASET}_testset_X.npy')\n",
    "X_test = X_test.reshape(-1, *X_windows.shape[2:])\n",
    "\n",
    "Y_freemoves_pred = model.predict(X_test)"
   ]
  },
  {
   "cell_type": "markdown",
   "id": "f64d74dd",
   "metadata": {},
   "source": [
    "### CSV generation"
   ]
  },
  {
   "cell_type": "code",
   "execution_count": 28,
   "id": "9222528f",
   "metadata": {},
   "outputs": [],
   "source": [
    "import pandas as pd\n",
    "\n",
    "fname = 'voting_step_50.csv'\n",
    "\n",
    "Y_pred = np.vstack([Y_guided_pred, Y_freemoves_pred])\n",
    "Y_pred_df = pd.DataFrame(Y_pred)\n",
    "Y_pred_df.to_csv(fname, index=False, header=None)"
   ]
  }
 ],
 "metadata": {
  "kernelspec": {
   "display_name": "test",
   "language": "python",
   "name": "python3"
  },
  "language_info": {
   "codemirror_mode": {
    "name": "ipython",
    "version": 3
   },
   "file_extension": ".py",
   "mimetype": "text/x-python",
   "name": "python",
   "nbconvert_exporter": "python",
   "pygments_lexer": "ipython3",
   "version": "3.12.7"
  }
 },
 "nbformat": 4,
 "nbformat_minor": 5
}

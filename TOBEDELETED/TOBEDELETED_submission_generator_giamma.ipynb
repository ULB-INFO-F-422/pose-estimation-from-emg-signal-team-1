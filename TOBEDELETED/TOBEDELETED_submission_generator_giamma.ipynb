{
 "cells": [
  {
   "cell_type": "code",
   "execution_count": 22,
   "id": "6ee26eba",
   "metadata": {},
   "outputs": [],
   "source": [
    "import sys\n",
    "\n",
    "sys.path.append('../')\n",
    "\n",
    "import numpy as np\n",
    "\n",
    "from sklearn.pipeline import Pipeline\n",
    "from sklearn.preprocessing import StandardScaler\n",
    "from sklearn.neighbors import KNeighborsRegressor\n",
    "from sklearn.ensemble import RandomForestRegressor\n",
    "from sklearn.kernel_ridge import KernelRidge\n",
    "from sklearn.gaussian_process import GaussianProcessRegressor\n",
    "from sklearn.gaussian_process.kernels import RBF\n",
    "\n",
    "from xgboost import XGBRegressor\n",
    "\n",
    "from config.regressors import VotingRegressor, StackingRegressor, NNRegressor\n",
    "\n",
    "from config.models import ConvNN\n",
    "\n",
    "from config.loss_functions import RMSELoss\n",
    "\n",
    "import pyriemann\n",
    "import pyriemann.regression\n",
    "\n",
    "from config.transformers import TimeDomainTransformer, TimeWindowTransformer, LabelWindowExtractor, WaveletFeatureTransformer, EmgFilterTransformer, EMGPreprocessor\n",
    "from config.validation import RMSE, NMSE, cross_validate_pipeline, cross_validate_NN"
   ]
  },
  {
   "cell_type": "markdown",
   "id": "41ea8cb9",
   "metadata": {},
   "source": [
    "# Models"
   ]
  },
  {
   "cell_type": "markdown",
   "id": "455d5401",
   "metadata": {},
   "source": [
    "### Baseline models"
   ]
  },
  {
   "cell_type": "code",
   "execution_count": 20,
   "id": "c52f725c",
   "metadata": {},
   "outputs": [
    {
     "ename": "NameError",
     "evalue": "name 'SessionwiseTransformer' is not defined",
     "output_type": "error",
     "traceback": [
      "\u001b[1;31m---------------------------------------------------------------------------\u001b[0m",
      "\u001b[1;31mNameError\u001b[0m                                 Traceback (most recent call last)",
      "Cell \u001b[1;32mIn[20], line 15\u001b[0m\n\u001b[0;32m      9\u001b[0m combined_features \u001b[38;5;241m=\u001b[39m FeatureUnion([\n\u001b[0;32m     10\u001b[0m     time_feat,\n\u001b[0;32m     11\u001b[0m     wavelet_feat\n\u001b[0;32m     12\u001b[0m ])\n\u001b[0;32m     14\u001b[0m \u001b[38;5;66;03m# Wrap with session-wise transformer\u001b[39;00m\n\u001b[1;32m---> 15\u001b[0m sessionwise_combined \u001b[38;5;241m=\u001b[39m \u001b[43mSessionwiseTransformer\u001b[49m(combined_features)\n\u001b[0;32m     17\u001b[0m baseline_guided_kr \u001b[38;5;241m=\u001b[39m Pipeline([\n\u001b[0;32m     18\u001b[0m     (\u001b[38;5;124m'\u001b[39m\u001b[38;5;124mfeature_extraction\u001b[39m\u001b[38;5;124m'\u001b[39m, sessionwise_combined),\n\u001b[0;32m     19\u001b[0m     (\u001b[38;5;124m'\u001b[39m\u001b[38;5;124mscaler\u001b[39m\u001b[38;5;124m'\u001b[39m, StandardScaler()),\n\u001b[1;32m   (...)\u001b[0m\n\u001b[0;32m     25\u001b[0m     ))\n\u001b[0;32m     26\u001b[0m ])\n\u001b[0;32m     28\u001b[0m baseline_guided_knn \u001b[38;5;241m=\u001b[39m Pipeline([\n\u001b[0;32m     29\u001b[0m     (\u001b[38;5;124m'\u001b[39m\u001b[38;5;124mfeature_extraction\u001b[39m\u001b[38;5;124m'\u001b[39m, sessionwise_combined),\n\u001b[0;32m     30\u001b[0m     (\u001b[38;5;124m'\u001b[39m\u001b[38;5;124mscaler\u001b[39m\u001b[38;5;124m'\u001b[39m, StandardScaler()),\n\u001b[0;32m     31\u001b[0m     (\u001b[38;5;124m'\u001b[39m\u001b[38;5;124mpca\u001b[39m\u001b[38;5;124m'\u001b[39m, PCA(n_components\u001b[38;5;241m=\u001b[39m\u001b[38;5;28mfloat\u001b[39m(\u001b[38;5;241m0.9\u001b[39m), random_state\u001b[38;5;241m=\u001b[39m\u001b[38;5;241m42\u001b[39m)),\n\u001b[0;32m     32\u001b[0m     (\u001b[38;5;124m'\u001b[39m\u001b[38;5;124mregressor\u001b[39m\u001b[38;5;124m'\u001b[39m, KNeighborsRegressor(n_neighbors\u001b[38;5;241m=\u001b[39m\u001b[38;5;241m5\u001b[39m))\n\u001b[0;32m     33\u001b[0m ])\n",
      "\u001b[1;31mNameError\u001b[0m: name 'SessionwiseTransformer' is not defined"
     ]
    }
   ],
   "source": [
    "from sklearn.pipeline import FeatureUnion\n",
    "from sklearn.decomposition import PCA\n",
    "\n",
    "# Combine features\n",
    "# Define your base feature extractors\n",
    "time_feat = ('time_features', TimeDomainTransformer(sigma_mpr=0.3))\n",
    "wavelet_feat = ('wavelet_features', WaveletFeatureTransformer())\n",
    "\n",
    "combined_features = FeatureUnion([\n",
    "    time_feat,\n",
    "    wavelet_feat\n",
    "])\n",
    "\n",
    "# Wrap with session-wise transformer\n",
    "sessionwise_combined = SessionwiseTransformer(combined_features)\n",
    "\n",
    "baseline_guided_kr = Pipeline([\n",
    "    ('feature_extraction', sessionwise_combined),\n",
    "    ('scaler', StandardScaler()),\n",
    "    ('pca', PCA(n_components=float(0.9), random_state=42)),\n",
    "    ('regressor', KernelRidge(\n",
    "        alpha=0.01,\n",
    "        gamma=0.01,\n",
    "        kernel='rbf'\n",
    "    ))\n",
    "])\n",
    "\n",
    "baseline_guided_knn = Pipeline([\n",
    "    ('feature_extraction', sessionwise_combined),\n",
    "    ('scaler', StandardScaler()),\n",
    "    ('pca', PCA(n_components=float(0.9), random_state=42)),\n",
    "    ('regressor', KNeighborsRegressor(n_neighbors=5))\n",
    "])\n",
    "\n",
    "baseline_guided_rf = Pipeline([\n",
    "    ('feature_extraction', sessionwise_combined),\n",
    "    ('scaler', StandardScaler()),\n",
    "    ('pca', PCA(n_components=float(0.9), random_state=42)),\n",
    "    ('regressor', RandomForestRegressor(n_estimators=50, max_depth=10))\n",
    "])"
   ]
  },
  {
   "cell_type": "code",
   "execution_count": 2,
   "id": "36c566c8",
   "metadata": {},
   "outputs": [],
   "source": [
    "baseline_guided_kr = Pipeline(\n",
    "    [\n",
    "        ('feature_extraction', TimeDomainTransformer(sigma_mpr=0.3)),\n",
    "        ('scaler', StandardScaler()),\n",
    "        ('regressor', KernelRidge(\n",
    "            alpha = 0.01,\n",
    "            gamma = 0.01,\n",
    "            kernel='laplacian'))\n",
    "    ]\n",
    ")\n",
    "\n",
    "baseline_guided_knn = Pipeline(\n",
    "    [\n",
    "        ('feature_extraction', TimeDomainTransformer(sigma_mpr=0.3)),\n",
    "        ('scaler', StandardScaler()),\n",
    "        ('regressor', KNeighborsRegressor(\n",
    "            n_neighbors = 7))\n",
    "    ]\n",
    ")\n",
    "\n",
    "baseline_guided_rf = Pipeline(\n",
    "    [\n",
    "        ('feature_extraction', TimeDomainTransformer(sigma_mpr=0.3)),\n",
    "        ('scaler', StandardScaler()),\n",
    "        ('regressor', RandomForestRegressor(\n",
    "            n_estimators = 50,\n",
    "            max_depth = 10))\n",
    "    ]\n",
    ")\n",
    "\n",
    "timedomain_xgboost = Pipeline(\n",
    "    [\n",
    "        ('feature_extraction', TimeDomainTransformer(sigma_mpr=0.3)),\n",
    "        ('scaler', StandardScaler()),\n",
    "        ('regressor', XGBRegressor(\n",
    "            n_estimators = 100,\n",
    "            max_depth = 5,\n",
    "            learning_rate = 0.1,\n",
    "            objective='reg:squarederror',\n",
    "            n_jobs=-1,\n",
    "            verbosity=1\n",
    "        ))\n",
    "    ]\n",
    ")"
   ]
  },
  {
   "cell_type": "markdown",
   "id": "0785ada4",
   "metadata": {},
   "source": [
    "### Riemannian models"
   ]
  },
  {
   "cell_type": "code",
   "execution_count": 3,
   "id": "c84f91d1",
   "metadata": {},
   "outputs": [],
   "source": [
    "# Riemannian geometry of covariance matrices\n",
    "riem1 = Pipeline(\n",
    "    [\n",
    "        ('feature_extraction', pyriemann.estimation.Covariances()),\n",
    "        ('transformation', pyriemann.tangentspace.TangentSpace(\n",
    "            metric = 'riemann',\n",
    "            tsupdate = True)),\n",
    "        ('scaler', StandardScaler()),\n",
    "        ('regressor', KernelRidge(\n",
    "            alpha = 0.01,\n",
    "            gamma = 0.01,\n",
    "            kernel='laplacian'))\n",
    "    ]\n",
    ")\n",
    "\n",
    "riem2 = Pipeline(\n",
    "    [\n",
    "        ('feature_extraction', pyriemann.estimation.Covariances()),\n",
    "        ('transformation', pyriemann.tangentspace.TangentSpace(\n",
    "            metric = 'riemann',\n",
    "            tsupdate = True)),\n",
    "        ('scaler', StandardScaler()),\n",
    "        ('regressor', KNeighborsRegressor(\n",
    "            n_neighbors = 7))\n",
    "    ]\n",
    ")\n",
    "\n",
    "riem3 = Pipeline(\n",
    "    [\n",
    "        ('feature_extraction', pyriemann.estimation.Covariances()),\n",
    "        ('transformation', pyriemann.tangentspace.TangentSpace(\n",
    "            metric = 'riemann',\n",
    "            tsupdate = True)),\n",
    "        ('scaler', StandardScaler()),\n",
    "        ('regressor', RandomForestRegressor(\n",
    "            n_estimators = 50,\n",
    "            max_depth = 10))\n",
    "    ]\n",
    ")\n",
    "\n",
    "riem4 = Pipeline(\n",
    "    [\n",
    "        ('feature_extraction', pyriemann.estimation.Covariances()),\n",
    "        ('transformation', pyriemann.tangentspace.TangentSpace(\n",
    "            metric = 'riemann',\n",
    "            tsupdate = True)),\n",
    "        ('scaler', StandardScaler()),\n",
    "        ('regressor', XGBRegressor(\n",
    "            n_estimators = 100,\n",
    "            max_depth = 5,\n",
    "            learning_rate = 0.1,\n",
    "            objective='reg:squarederror',\n",
    "            n_jobs=-1,\n",
    "            verbosity=1\n",
    "        ))\n",
    "    ]\n",
    ")"
   ]
  },
  {
   "cell_type": "markdown",
   "id": "f4ed2284",
   "metadata": {},
   "source": [
    "### Ensemble models"
   ]
  },
  {
   "cell_type": "code",
   "execution_count": null,
   "id": "f6488776",
   "metadata": {},
   "outputs": [],
   "source": [
    "voting_estimator = VotingRegressor(\n",
    "    estimators = [\n",
    "        baseline_guided_kr,\n",
    "        baseline_guided_knn,\n",
    "        baseline_guided_rf,\n",
    "        timedomain_xgboost,\n",
    "        riem1,\n",
    "        riem2,\n",
    "        riem3,\n",
    "        riem4\n",
    "    ]\n",
    ")\n",
    "\n",
    "stacking_estimator = StackingRegressor(\n",
    "    estimators = [\n",
    "        baseline_guided_kr,\n",
    "        # baseline_guided_knn,\n",
    "        # baseline_guided_rf,\n",
    "        timedomain_xgboost,\n",
    "        # riem1,\n",
    "        # riem2,\n",
    "        # riem3,\n",
    "        riem4\n",
    "    ],\n",
    "    end_estimator = RandomForestRegressor(\n",
    "        n_estimators = 50,\n",
    "        max_depth = 10)\n",
    ")"
   ]
  },
  {
   "cell_type": "markdown",
   "id": "ae29bf95",
   "metadata": {},
   "source": [
    "# Final generalization evaluation"
   ]
  },
  {
   "cell_type": "code",
   "execution_count": 2,
   "id": "d464e9ef",
   "metadata": {},
   "outputs": [],
   "source": [
    "# PATH = f'/Users/marco/PROJECTS/data/'\n",
    "PATH = r'C:\\Users\\gianm\\Documents\\Uni\\Big Data\\F422\\project\\data\\\\'\n",
    "\n",
    "# model = baseline_guided_kr\n",
    "step = 250\n",
    "\n",
    "metric_fns = {'RMSE': RMSE, 'NMSE': NMSE}"
   ]
  },
  {
   "cell_type": "code",
   "execution_count": 11,
   "id": "3a016181",
   "metadata": {},
   "outputs": [
    {
     "name": "stdout",
     "output_type": "stream",
     "text": [
      "(5, 8, 230000)\n"
     ]
    }
   ],
   "source": [
    "tw_extractor = TimeWindowTransformer(size = 500, step = step)\n",
    "label_extractor = LabelWindowExtractor(size = 500, step = step)\n",
    "\n",
    "# guided\n",
    "X_guided = np.load(PATH + f'guided/guided_dataset_X.npy')\n",
    "Y_guided = np.load(PATH + f'guided/guided_dataset_Y.npy')\n",
    "X_guided_windows = tw_extractor.transform(X_guided)\n",
    "Y_guided_labels = label_extractor.transform(Y_guided)\n",
    "\n",
    "\n",
    "print(X_guided.shape)\n",
    "# freemoves\n",
    "X_freemoves = np.load(PATH + f'freemoves/freemoves_dataset_X.npy')\n",
    "Y_freemoves = np.load(PATH + f'freemoves/freemoves_dataset_Y.npy')\n",
    "X_freemoves_windows = tw_extractor.transform(X_freemoves)\n",
    "Y_freemoves_labels = label_extractor.transform(Y_freemoves)\n",
    "\n",
    "# # stacked\n",
    "# X_stacked_windows = np.concatenate([X_guided_windows, X_freemoves_windows], axis=1)\n",
    "# Y_stacked_labels = np.concatenate([Y_guided_labels, Y_freemoves_labels], axis=1)"
   ]
  },
  {
   "cell_type": "markdown",
   "id": "2cb5119d",
   "metadata": {},
   "source": [
    "#### RMSE guided"
   ]
  },
  {
   "cell_type": "code",
   "execution_count": 6,
   "id": "debe9a8d",
   "metadata": {},
   "outputs": [],
   "source": [
    "# # Define all your models (trained or pipelines)\n",
    "# estimators = [\n",
    "#     baseline_guided_kr,\n",
    "#     baseline_guided_knn,\n",
    "#     baseline_guided_rf,\n",
    "#     riem1,\n",
    "#     riem2,\n",
    "#     riem3\n",
    "# ]\n",
    "\n",
    "# # Define weight combinations manually (they must sum to 1)\n",
    "# weight_sets = [\n",
    "#     [1/6] * 6,  # uniform\n",
    "#     [0.2, 0.2, 0.2, 0.2, 0.1, 0.1],\n",
    "#     [0.1, 0.1, 0.4, 0.1, 0.15, 0.15],\n",
    "#     [0.25, 0.25, 0.25, 0.0, 0.15, 0.10],\n",
    "#     [0.4, 0.0, 0.0, 0.2, 0.2, 0.2],\n",
    "#     [0.3, 0.3, 0.0, 0.1, 0.2, 0.1],\n",
    "#     [0.2, 0.2, 0.1, 0.1, 0.2, 0.2],\n",
    "#     [0.15, 0.15, 0.15, 0.15, 0.2, 0.2],\n",
    "#     [0.1, 0.1, 0.1, 0.2, 0.3, 0.2],\n",
    "#     [0.2, 0.0, 0.3, 0.0, 0.3, 0.2],\n",
    "#     [0.5, 0.2, 0.0, 0.0, 0.2, 0.1],\n",
    "#     [0.6, 0.0, 0.0, 0.0, 0.2, 0.2],\n",
    "#     [0.4, 0.3, 0.0, 0.1, 0.1, 0.1],\n",
    "#     [0.3, 0.0, 0.1, 0.1, 0.3, 0.2],\n",
    "#     [0.1, 0.1, 0.2, 0.2, 0.2, 0.2],\n",
    "#     [0.0, 0.3, 0.3, 0.2, 0.1, 0.1],\n",
    "#     [0.0, 0.0, 0.4, 0.2, 0.2, 0.2],\n",
    "#     [0.0, 0.0, 0.0, 0.5, 0.3, 0.2],\n",
    "#     [0.2, 0.2, 0.0, 0.0, 0.3, 0.3],\n",
    "#     [0.1, 0.1, 0.1, 0.1, 0.3, 0.3]\n",
    "# ]\n",
    "\n",
    "# # Track results\n",
    "# results = []\n",
    "\n",
    "# # Loop through each weight set and evaluate with cross-validation\n",
    "# for weights in weight_sets:\n",
    "#     ensemble = VotingRegressor(estimators=estimators, weights=weights)\n",
    "    \n",
    "#     cv_scores = cross_validate_pipeline(\n",
    "#         ensemble, X_guided_windows, Y_guided_labels, metric_fns, n_folds=5, verbose=0\n",
    "#     )\n",
    "#     results.append((weights, cv_scores['avg_val_RMSE']))\n",
    "#     print(f\"Weights: {weights} → avg_val_RMSE: {cv_scores['avg_val_RMSE']:.4f}\")\n"
   ]
  },
  {
   "cell_type": "code",
   "execution_count": 19,
   "id": "20e448b0",
   "metadata": {},
   "outputs": [
    {
     "name": "stdout",
     "output_type": "stream",
     "text": [
      "\n",
      "Average Scores across folds:\n",
      "RMSE: train=1.8400, val=4.2512\n",
      "NMSE: train=0.0167, val=0.0906\n"
     ]
    }
   ],
   "source": [
    "ensemble = VotingRegressor(estimators=estimators, weights=[0.0, 0.3, 0.3, 0.2, 0.1, 0.1])\n",
    "results_guided = cross_validate_pipeline(ensemble, X_guided_windows, Y_guided_labels, metric_fns, n_folds=5, verbose=1)"
   ]
  },
  {
   "cell_type": "markdown",
   "id": "ebba378b",
   "metadata": {},
   "source": [
    "#### RMSE freemoves"
   ]
  },
  {
   "cell_type": "code",
   "execution_count": null,
   "id": "a21b09bc",
   "metadata": {},
   "outputs": [],
   "source": [
    "# Define all your models (trained or pipelines)\n",
    "estimators = [\n",
    "    baseline_guided_kr,\n",
    "    baseline_guided_knn,\n",
    "    baseline_guided_rf,\n",
    "    riem1,\n",
    "    riem2,\n",
    "    riem3\n",
    "]\n",
    "\n",
    "# Define weight combinations manually (they must sum to 1)\n",
    "weight_sets = [\n",
    "    [1/6] * 6,  # uniform\n",
    "    [0.2, 0.2, 0.2, 0.2, 0.1, 0.1],\n",
    "    [0.1, 0.1, 0.4, 0.1, 0.15, 0.15],\n",
    "    [0.25, 0.25, 0.25, 0.0, 0.15, 0.10],\n",
    "    [0.4, 0.0, 0.0, 0.2, 0.2, 0.2],\n",
    "    [0.3, 0.3, 0.0, 0.1, 0.2, 0.1],\n",
    "    [0.2, 0.2, 0.1, 0.1, 0.2, 0.2],\n",
    "    [0.15, 0.15, 0.15, 0.15, 0.2, 0.2],\n",
    "    [0.1, 0.1, 0.1, 0.2, 0.3, 0.2],\n",
    "    [0.2, 0.0, 0.0, 0.3, 0.3, 0.2],\n",
    "    [0.5, 0.2, 0.0, 0.0, 0.2, 0.1],\n",
    "    [0.6, 0.0, 0.0, 0.0, 0.2, 0.2],\n",
    "    [0.4, 0.3, 0.0, 0.1, 0.1, 0.1],\n",
    "    [0.3, 0.0, 0.1, 0.1, 0.3, 0.2],\n",
    "    [0.1, 0.1, 0.2, 0.2, 0.2, 0.2],\n",
    "    [0.0, 0.3, 0.3, 0.2, 0.1, 0.1],\n",
    "    [0.0, 0.0, 0.4, 0.2, 0.2, 0.2],\n",
    "    [0.0, 0.0, 0.0, 0.5, 0.3, 0.2],\n",
    "    [0.2, 0.2, 0.0, 0.0, 0.3, 0.3],\n",
    "    [0.1, 0.1, 0.1, 0.1, 0.3, 0.3]\n",
    "]\n",
    "\n",
    "# Track results\n",
    "results = []\n",
    "\n",
    "# Loop through each weight set and evaluate with cross-validation\n",
    "for weights in weight_sets:\n",
    "    ensemble = VotingRegressor(estimators=estimators, weights=weights)\n",
    "    \n",
    "    cv_scores = cross_validate_pipeline(\n",
    "        ensemble, X_freemoves_windows, Y_freemoves_labels, metric_fns, n_folds=5, verbose=0\n",
    "    )\n",
    "    results.append((weights, cv_scores['avg_val_RMSE']))\n",
    "    print(f\"Weights: {weights} → avg_val_RMSE: {cv_scores['avg_val_RMSE']:.4f}\")"
   ]
  },
  {
   "cell_type": "code",
   "execution_count": null,
   "id": "29ef94c8",
   "metadata": {},
   "outputs": [],
   "source": [
    "metric_fns = {'RMSE': RMSE, 'NMSE': NMSE}\n",
    "models = {\n",
    "    'Combined features + Kernel Ridge': baseline_guided_kr,\n",
    "    'Combined features + KNN': baseline_guided_knn,\n",
    "    'Combined features + RF': baseline_guided_rf,\n",
    "}\n",
    "\n",
    "for model_name, model in models.items():\n",
    "    print(f\"\\nModel: {model_name}\")\n",
    "    results = cross_validate_pipeline(\n",
    "        model, \n",
    "        X_freemoves_windows, \n",
    "        Y_freemoves_labels, \n",
    "        metric_fns=metric_fns,\n",
    "        n_folds=5,\n",
    "        verbose=1\n",
    "    )"
   ]
  },
  {
   "cell_type": "code",
   "execution_count": 16,
   "id": "5ae8f87a",
   "metadata": {},
   "outputs": [
    {
     "name": "stdout",
     "output_type": "stream",
     "text": [
      "Linear meta: avg_val_RMSE = 10.6024\n",
      "Ridge meta: avg_val_RMSE = 10.7589\n",
      "Lasso meta: avg_val_RMSE = 10.7527\n"
     ]
    }
   ],
   "source": [
    "from sklearn.linear_model import LinearRegression, Ridge, Lasso\n",
    "from sklearn.ensemble import RandomForestRegressor, GradientBoostingRegressor\n",
    "from sklearn.svm import SVR\n",
    "from sklearn.multioutput import MultiOutputRegressor\n",
    "from sklearn.neural_network import MLPRegressor\n",
    "from xgboost import XGBRegressor\n",
    "\n",
    "base_models = [\n",
    "        baseline_guided_kr,\n",
    "        # baseline_guided_knn,\n",
    "        # baseline_guided_rf,\n",
    "        timedomain_xgboost,\n",
    "        # riem1,\n",
    "        # riem2,\n",
    "        # riem3,\n",
    "        riem4\n",
    "    ]\n",
    "\n",
    "meta_models = {\n",
    "    'Linear': LinearRegression(),\n",
    "    'Ridge': Ridge(),\n",
    "    'Lasso': MultiOutputRegressor(Lasso()),\n",
    "    # 'SVR': MultiOutputRegressor(SVR()),\n",
    "    # 'MLP': MultiOutputRegressor(MLPRegressor(max_iter=500)),\n",
    "    # 'RF': RandomForestRegressor(n_estimators=50),\n",
    "    # 'XGB': XGBRegressor(objective='reg:squarederror')\n",
    "}\n",
    "\n",
    "for name, meta in meta_models.items():\n",
    "    model = StackingRegressor(estimators=base_models, end_estimator=meta)\n",
    "    results = cross_validate_pipeline(model, X_freemoves_windows, Y_freemoves_labels, metric_fns, n_folds=5, verbose=0)\n",
    "    print(f\"{name} meta: avg_val_RMSE = {results['avg_val_RMSE']:.4f}\")"
   ]
  },
  {
   "cell_type": "code",
   "execution_count": 21,
   "id": "f0ab45ae",
   "metadata": {},
   "outputs": [
    {
     "name": "stdout",
     "output_type": "stream",
     "text": [
      "Ridge(alpha=0.01): avg_val_RMSE = 10.6071\n",
      "Ridge(alpha=0.1): avg_val_RMSE = 10.6437\n",
      "Ridge(alpha=1.0): avg_val_RMSE = 10.7589\n",
      "Ridge(alpha=10.0): avg_val_RMSE = 10.8044\n"
     ]
    }
   ],
   "source": [
    "alphas = [0.01, 0.1, 1.0, 10.0]\n",
    "for alpha in alphas:\n",
    "    meta = Ridge(alpha=alpha)\n",
    "    model = StackingRegressor(estimators=base_models, end_estimator=meta)\n",
    "    scores = cross_validate_pipeline(model, X_freemoves_windows, Y_freemoves_labels, metric_fns, n_folds=5, verbose=0)\n",
    "    print(f\"Ridge(alpha={alpha}): avg_val_RMSE = {scores['avg_val_RMSE']:.4f}\")"
   ]
  },
  {
   "cell_type": "code",
   "execution_count": 22,
   "id": "a48e0d1a",
   "metadata": {},
   "outputs": [
    {
     "name": "stdout",
     "output_type": "stream",
     "text": [
      "Lasso(alpha=0.01): avg_val_RMSE = 10.8180\n",
      "Lasso(alpha=0.1): avg_val_RMSE = 10.8094\n",
      "Lasso(alpha=1.0): avg_val_RMSE = 10.7527\n",
      "Lasso(alpha=10.0): avg_val_RMSE = 10.6556\n"
     ]
    }
   ],
   "source": [
    "from sklearn.multioutput import MultiOutputRegressor\n",
    "\n",
    "alphas = [0.01, 0.1, 1.0, 10.0]\n",
    "for alpha in alphas:\n",
    "    meta = MultiOutputRegressor(Lasso(alpha=alpha, max_iter=10000))\n",
    "    model = StackingRegressor(estimators=base_models, end_estimator=meta)\n",
    "    scores = cross_validate_pipeline(model, X_freemoves_windows, Y_freemoves_labels, metric_fns, n_folds=5, verbose=0)\n",
    "    print(f\"Lasso(alpha={alpha}): avg_val_RMSE = {scores['avg_val_RMSE']:.4f}\")"
   ]
  },
  {
   "cell_type": "code",
   "execution_count": null,
   "id": "602215d3",
   "metadata": {},
   "outputs": [
    {
     "name": "stdout",
     "output_type": "stream",
     "text": [
      "(5, 8, 270000)\n",
      "(5, 8, 270000)\n",
      "(5, 1079, 8, 500)\n"
     ]
    }
   ],
   "source": [
    "kernel = RBF(length_scale=np.ones(8)) # One per EMG channel\n",
    "\n",
    "X_transformed = EmgFilterTransformer().fit_transform(X_freemoves)\n",
    "Y_transformed = EmgFilterTransformer().fit_transform(Y_freemoves)\n",
    "\n",
    "# X_transformed = EMGPreprocessor().fit_transform(X_freemoves)\n",
    "# Y_transformed = EMGPreprocessor().fit_transform(Y_freemoves)\n",
    "\n",
    "X_transformed = tw_extractor.transform(X_transformed)\n",
    "Y_transformed = label_extractor.transform(Y_transformed)\n",
    "\n",
    "baseline = Pipeline(\n",
    "    [\n",
    "        ('feature_extraction', TimeDomainTransformer(sigma_mpr=0.3)),\n",
    "        ('scaler', StandardScaler()),\n",
    "        ('regressor', GaussianProcessRegressor())\n",
    "    ]\n",
    ")\n",
    "\n",
    "results_freemoves = cross_validate_pipeline(baseline, \n",
    "                                            X_transformed, \n",
    "                                            Y_transformed, \n",
    "                                            metric_fns, \n",
    "                                            n_folds=5, \n",
    "                                            verbose=1)"
   ]
  },
  {
   "cell_type": "code",
   "execution_count": null,
   "id": "3a182a07",
   "metadata": {},
   "outputs": [],
   "source": [
    "from sklearn.gaussian_process.kernels import RationalQuadratic, WhiteKernel\n",
    "\n",
    "gp1 = Pipeline(\n",
    "    [\n",
    "        ('feature_extraction', EmgFilterTransformer()),\n",
    "        ('scaler', StandardScaler()),\n",
    "        ('regressor', GaussianProcessRegressor(kernel=RBF))\n",
    "    ]\n",
    ")\n",
    "\n",
    "gp2 = Pipeline(\n",
    "    [\n",
    "        ('feature_extraction', EmgFilterTransformer()),\n",
    "        ('scaler', StandardScaler()),\n",
    "        ('regressor', GaussianProcessRegressor(kernel=RationalQuadratic))\n",
    "    ]\n",
    ")\n",
    "\n",
    "gp3 = Pipeline(\n",
    "    [\n",
    "        ('feature_extraction', EmgFilterTransformer()),\n",
    "        ('scaler', StandardScaler()),\n",
    "        ('regressor', GaussianProcessRegressor(kernel=WhiteKernel))\n",
    "    ]\n",
    ")\n",
    "\n",
    "estimators = [\n",
    "    gp1,\n",
    "    gp2,\n",
    "    gp3\n",
    "]\n",
    "\n",
    "ensemble = VotingRegressor(estimators=estimators)\n",
    "results_freemoves = cross_validate_pipeline(ensemble, X_freemoves_windows, Y_freemoves_labels, metric_fns, n_folds=5, verbose=1)"
   ]
  },
  {
   "cell_type": "code",
   "execution_count": 20,
   "id": "6021fae5",
   "metadata": {},
   "outputs": [
    {
     "name": "stdout",
     "output_type": "stream",
     "text": [
      "\n",
      "Average Scores across folds:\n",
      "RMSE: train=3.9533, val=10.1630\n",
      "NMSE: train=0.0987, val=0.7275\n"
     ]
    }
   ],
   "source": [
    "ensemble = VotingRegressor(estimators=estimators, weights=[0.2, 0.2, 0.2, 0.2, 0.1, 0.1])\n",
    "results_freemoves = cross_validate_pipeline(ensemble, X_freemoves_windows, Y_freemoves_labels, metric_fns, n_folds=5, verbose=1)"
   ]
  },
  {
   "cell_type": "markdown",
   "id": "1f68ce3c",
   "metadata": {},
   "source": [
    "#### RMSE total"
   ]
  },
  {
   "cell_type": "code",
   "execution_count": 21,
   "id": "a62f06fb",
   "metadata": {},
   "outputs": [
    {
     "data": {
      "text/plain": [
       "np.float64(7.789721324122596)"
      ]
     },
     "execution_count": 21,
     "metadata": {},
     "output_type": "execute_result"
    }
   ],
   "source": [
    "results_combined = \\\n",
    "    ((results_guided['avg_val_RMSE']**2 * X_guided.shape[0] + \\\n",
    "    results_freemoves['avg_val_RMSE']**2 * X_freemoves.shape[0])/(X_guided.shape[0]+X_freemoves.shape[0]))**0.5\n",
    "\n",
    "results_combined # I think that this should be the result that is most correlated to the score"
   ]
  },
  {
   "cell_type": "markdown",
   "id": "5ba40ba5",
   "metadata": {},
   "source": [
    "# Submission\n"
   ]
  },
  {
   "cell_type": "markdown",
   "id": "f431d83a",
   "metadata": {},
   "source": [
    "### Guided training and predictions"
   ]
  },
  {
   "cell_type": "code",
   "execution_count": 26,
   "id": "4346b0b8",
   "metadata": {},
   "outputs": [],
   "source": [
    "DATASET = 'guided'\n",
    "\n",
    "# training\n",
    "X = np.load(PATH + f'{DATASET}/{DATASET}_dataset_X.npy')\n",
    "Y = np.load(PATH + f'{DATASET}/{DATASET}_dataset_Y.npy')\n",
    "\n",
    "tw_extractor = TimeWindowTransformer(size = 500, step = 50)\n",
    "label_extractor = LabelWindowExtractor(size = 500, step = 50)\n",
    "\n",
    "X_windows = tw_extractor.transform(X)\n",
    "Y_labels = label_extractor.transform(Y)\n",
    "\n",
    "X_train = X_windows.reshape(-1, *X_windows.shape[2:])\n",
    "Y_train = Y_labels.reshape(-1, *Y_labels.shape[2:])\n",
    "\n",
    "model_guided = VotingRegressor(estimators=estimators)\n",
    "\n",
    "model_guided.fit(X_train, Y_train)\n",
    "\n",
    "# predicting\n",
    "X_test = np.load(PATH + f'{DATASET}/{DATASET}_testset_X.npy')\n",
    "X_test = X_test.reshape(-1, *X_windows.shape[2:])\n",
    "\n",
    "Y_guided_pred = model.predict(X_test)"
   ]
  },
  {
   "cell_type": "markdown",
   "id": "b298626a",
   "metadata": {},
   "source": [
    "### Freemoves training and predictions"
   ]
  },
  {
   "cell_type": "code",
   "execution_count": 27,
   "id": "0a73f541",
   "metadata": {},
   "outputs": [],
   "source": [
    "DATASET = 'freemoves'\n",
    "\n",
    "# training\n",
    "X = np.load(PATH + f'{DATASET}/{DATASET}_dataset_X.npy')\n",
    "Y = np.load(PATH + f'{DATASET}/{DATASET}_dataset_Y.npy')\n",
    "\n",
    "tw_extractor = TimeWindowTransformer(size = 500, step = 50)\n",
    "label_extractor = LabelWindowExtractor(size = 500, step = 50)\n",
    "\n",
    "X_windows = tw_extractor.transform(X)\n",
    "Y_labels = label_extractor.transform(Y)\n",
    "\n",
    "X_train = X_windows.reshape(-1, *X_windows.shape[2:])\n",
    "Y_train = Y_labels.reshape(-1, *Y_labels.shape[2:])\n",
    "\n",
    "model_freemoves = VotingRegressor(estimators=estimators, weights=[0.2, 0.2, 0.2, 0.2, 0.1, 0.1])\n",
    "\n",
    "model_freemoves.fit(X_train, Y_train)\n",
    "\n",
    "# predicting\n",
    "X_test = np.load(PATH + f'{DATASET}/{DATASET}_testset_X.npy')\n",
    "X_test = X_test.reshape(-1, *X_windows.shape[2:])\n",
    "\n",
    "Y_freemoves_pred = model.predict(X_test)"
   ]
  },
  {
   "cell_type": "markdown",
   "id": "f64d74dd",
   "metadata": {},
   "source": [
    "### CSV generation"
   ]
  },
  {
   "cell_type": "code",
   "execution_count": 28,
   "id": "9222528f",
   "metadata": {},
   "outputs": [],
   "source": [
    "import pandas as pd\n",
    "\n",
    "fname = 'voting_step_50.csv'\n",
    "\n",
    "Y_pred = np.vstack([Y_guided_pred, Y_freemoves_pred])\n",
    "Y_pred_df = pd.DataFrame(Y_pred)\n",
    "Y_pred_df.to_csv(fname, index=False, header=None)"
   ]
  }
 ],
 "metadata": {
  "kernelspec": {
   "display_name": "test",
   "language": "python",
   "name": "python3"
  },
  "language_info": {
   "codemirror_mode": {
    "name": "ipython",
    "version": 3
   },
   "file_extension": ".py",
   "mimetype": "text/x-python",
   "name": "python",
   "nbconvert_exporter": "python",
   "pygments_lexer": "ipython3",
   "version": "3.12.7"
  }
 },
 "nbformat": 4,
 "nbformat_minor": 5
}

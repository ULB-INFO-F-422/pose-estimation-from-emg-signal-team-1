{
 "cells": [
  {
   "cell_type": "code",
   "execution_count": 113,
   "id": "c9720ae8",
   "metadata": {},
   "outputs": [],
   "source": [
    "import sys\n",
    "\n",
    "sys.path.append('../')"
   ]
  },
  {
   "cell_type": "code",
   "execution_count": 114,
   "id": "204f8c2f",
   "metadata": {},
   "outputs": [],
   "source": [
    "import numpy as np\n",
    "\n",
    "import torch\n",
    "import torch.nn as nn\n",
    "import torch.nn.functional as F\n",
    "import torch.optim as optim\n",
    "from torch.utils.data import DataLoader, TensorDataset\n",
    "\n",
    "from config.regressors import NNRegressor"
   ]
  },
  {
   "cell_type": "code",
   "execution_count": 115,
   "id": "f5fbd872",
   "metadata": {},
   "outputs": [],
   "source": [
    "class AutoEncoder(nn.Module):\n",
    "    def __init__(self, latent_dim):\n",
    "        super().__init__()\n",
    "        \n",
    "        # Encoder: [3 → 64 → 32 → 16 → latent_dim]\n",
    "        self.encoder = nn.Sequential(\n",
    "            nn.Linear(3, 16),\n",
    "            nn.SELU(),\n",
    "            nn.Linear(16, 8),\n",
    "            nn.SELU(),\n",
    "            nn.Linear(8, 4),\n",
    "            nn.SELU(),\n",
    "            nn.Linear(4, latent_dim)  # No activation\n",
    "        )\n",
    "        \n",
    "        # Decoder: [latent_dim → 16 → 32 → 64 → 3]\n",
    "        self.decoder = nn.Sequential(\n",
    "            nn.Linear(latent_dim, 4),\n",
    "            nn.SELU(),\n",
    "            nn.Linear(4, 8),\n",
    "            nn.SELU(),\n",
    "            nn.Linear(8, 16),\n",
    "            nn.SELU(),\n",
    "            nn.Linear(16, 3)  # No activation\n",
    "        )\n",
    "        \n",
    "        self._init_weights()\n",
    "    \n",
    "    def _init_weights(self):\n",
    "        for m in self.modules():\n",
    "            if isinstance(m, nn.Linear):\n",
    "                # LeCun normal initialization for SELU\n",
    "                nn.init.normal_(m.weight, 0, std=1. / np.sqrt(m.in_features))\n",
    "                if m.bias is not None:\n",
    "                    nn.init.zeros_(m.bias)\n",
    "    \n",
    "    def forward(self, x):\n",
    "        return self.decoder(self.encoder(x))"
   ]
  },
  {
   "cell_type": "code",
   "execution_count": 116,
   "id": "0adeec8a",
   "metadata": {},
   "outputs": [],
   "source": [
    "def trainer(bone, latent_dim):\n",
    "    # ----------------------------\n",
    "    # 1. Configuration\n",
    "    # ----------------------------\n",
    "    device = 'mps' if torch.backends.mps.is_available() else 'cpu'\n",
    "    print(f\"Using device: {device}\")\n",
    "\n",
    "    # Hyperparameters\n",
    "    batch_size     = 4096\n",
    "    learning_rate  = 1e-3\n",
    "    weight_decay   = 1e-4\n",
    "    max_epochs     = 100\n",
    "    patience       = 20\n",
    "    num_workers    = 4  # >0 for parallel loading\n",
    "\n",
    "    # ----------------------------\n",
    "    # 2. Prepare Data (CPU‑only)\n",
    "    # ----------------------------\n",
    "    # Assume Y is your NumPy array of shape [N, 3*B]\n",
    "    PATH = f'/Users/marco/PROJECTS/data/'\n",
    "    Y = np.load(PATH + 'Y_all.npy')\n",
    "    Y_bone = Y[:, bone*3:(bone+1)*3]\n",
    "\n",
    "    Yb_cpu   = torch.as_tensor(Y_bone, dtype=torch.float32)  # stays on CPU\n",
    "\n",
    "    dataset      = TensorDataset(Yb_cpu, Yb_cpu)\n",
    "    train_loader = DataLoader(\n",
    "        dataset,\n",
    "        batch_size=batch_size,\n",
    "        shuffle=True,\n",
    "        num_workers=num_workers,\n",
    "        persistent_workers=True\n",
    "    )\n",
    "    val_loader   = DataLoader(\n",
    "        dataset,\n",
    "        batch_size=batch_size,\n",
    "        shuffle=False,\n",
    "        num_workers=num_workers,\n",
    "        persistent_workers=True\n",
    "    )\n",
    "\n",
    "    # instantiate with your chosen latent dimension\n",
    "    model = AutoEncoder(latent_dim).to(device)\n",
    "\n",
    "    # ----------------------------\n",
    "    # 4. Loss & Optimizer\n",
    "    # ----------------------------\n",
    "    criterion = nn.MSELoss()\n",
    "    optimizer = optim.Adam(\n",
    "        model.parameters(),\n",
    "        lr=learning_rate,\n",
    "        weight_decay=weight_decay\n",
    "    )\n",
    "\n",
    "    # ----------------------------\n",
    "    # 5. Training Loop w/ Early Stopping\n",
    "    # ----------------------------\n",
    "    best_val_loss     = float('inf')\n",
    "    epochs_no_improve = 0\n",
    "\n",
    "    for epoch in range(1, max_epochs+1):\n",
    "        # —— Training —— \n",
    "        model.train()\n",
    "        running_loss = 0.0\n",
    "\n",
    "        for xb_cpu, yb_cpu in train_loader:\n",
    "            # move batch to MPS (or CUDA) on-the-fly\n",
    "            xb = xb_cpu.to(device, non_blocking=True)\n",
    "            yb = yb_cpu.to(device, non_blocking=True)\n",
    "\n",
    "            optimizer.zero_grad()\n",
    "            preds = model(xb)              \n",
    "            loss  = criterion(preds, yb)\n",
    "            loss.backward()\n",
    "            optimizer.step()\n",
    "\n",
    "            running_loss += loss.item()\n",
    "\n",
    "        avg_train_loss = running_loss / len(train_loader)\n",
    "\n",
    "        # —— Validation ——\n",
    "        model.eval()\n",
    "        running_val = 0.0\n",
    "        with torch.no_grad():\n",
    "            for xb_cpu, yb_cpu in val_loader:\n",
    "                xb = xb_cpu.to(device, non_blocking=True)\n",
    "                yb = yb_cpu.to(device, non_blocking=True)\n",
    "                running_val += criterion(model(xb), yb).item()\n",
    "        avg_val_loss = running_val / len(val_loader)\n",
    "\n",
    "        print(f\"Epoch {epoch:02d}: Train MSE = {avg_train_loss:.6f} | Val MSE = {avg_val_loss:.6f}\")\n",
    "\n",
    "        # —— Early Stopping ——\n",
    "        if avg_val_loss < best_val_loss:\n",
    "            best_val_loss     = avg_val_loss\n",
    "            epochs_no_improve = 0\n",
    "            torch.save(model.state_dict(), f\"best_models/best_model_bone{bone}.pth\")\n",
    "            print(\"  → New best model saved\")\n",
    "        else:\n",
    "            epochs_no_improve += 1\n",
    "            if epochs_no_improve >= patience:\n",
    "                print(\"Early stopping triggered\")\n",
    "                break"
   ]
  },
  {
   "cell_type": "code",
   "execution_count": 117,
   "id": "dae3adf7",
   "metadata": {},
   "outputs": [],
   "source": [
    "latent_dims = {\n",
    "    0: 1,\n",
    "    1: 1,\n",
    "    2: 1,\n",
    "    3: 1,\n",
    "    4: 2,\n",
    "    5: 1,\n",
    "    6: 1,\n",
    "    7: 2,\n",
    "    8: 1,\n",
    "    9: 1,\n",
    "    10: 2,\n",
    "    11: 1,\n",
    "    12: 1,\n",
    "    13: 1,\n",
    "    14: 2,\n",
    "    15: 1,\n",
    "    16: 1,\n",
    "}"
   ]
  },
  {
   "cell_type": "markdown",
   "id": "37428936",
   "metadata": {},
   "source": [
    "### Test"
   ]
  },
  {
   "cell_type": "code",
   "execution_count": 118,
   "id": "c12aeddd",
   "metadata": {},
   "outputs": [],
   "source": [
    "from config.transformers import TimeDomainTransformer\n",
    "\n",
    "from sklearn.pipeline import Pipeline\n",
    "from sklearn.preprocessing import StandardScaler\n",
    "\n",
    "from sklearn.kernel_ridge import KernelRidge\n",
    "from sklearn.neighbors import KNeighborsRegressor\n",
    "from sklearn.ensemble import RandomForestRegressor\n",
    "\n",
    "baseline_kr = Pipeline(\n",
    "    [\n",
    "        ('feature_extraction', TimeDomainTransformer(sigma_mpr=0.3)),\n",
    "        ('scaler', StandardScaler()),\n",
    "        ('regressor', KernelRidge(\n",
    "            alpha = 0.01,\n",
    "            gamma = 0.01,\n",
    "            kernel='laplacian'))\n",
    "    ]\n",
    ")\n",
    "\n",
    "baseline_knn = Pipeline(\n",
    "    [\n",
    "        ('feature_extraction', TimeDomainTransformer(sigma_mpr=0.3)),\n",
    "        ('scaler', StandardScaler()),\n",
    "        ('regressor', KNeighborsRegressor(\n",
    "            n_neighbors = 5))\n",
    "    ]\n",
    ")\n",
    "\n",
    "baseline_rf = Pipeline(\n",
    "    [\n",
    "        ('feature_extraction', TimeDomainTransformer(sigma_mpr=0.3)),\n",
    "        ('scaler', StandardScaler()),\n",
    "        ('regressor', RandomForestRegressor(\n",
    "            n_estimators = 50,\n",
    "            max_depth = 10))\n",
    "    ]\n",
    ")"
   ]
  },
  {
   "cell_type": "code",
   "execution_count": 119,
   "id": "ad2f7314",
   "metadata": {},
   "outputs": [],
   "source": [
    "import numpy as np\n",
    "\n",
    "PATH = f'/Users/marco/PROJECTS/data/'\n",
    "# PATH = r'C:\\Users\\gianm\\Documents\\Uni\\Big Data\\F422\\project\\data\\\\'\n",
    "\n",
    "DATASET = 'guided'\n",
    "X_freemoves = np.load(PATH + f'{DATASET}/{DATASET}_dataset_X.npy')         # shape (5, 8, 230000)\n",
    "Y_freemoves = np.load(PATH + f'{DATASET}/{DATASET}_dataset_Y.npy')         # shape (5, 51, 230000)"
   ]
  },
  {
   "cell_type": "code",
   "execution_count": 120,
   "id": "6c27e5d5",
   "metadata": {},
   "outputs": [],
   "source": [
    "Y_freemoves_enc = []\n",
    "\n",
    "for bone in range(17):\n",
    "    latent_dim = latent_dims[bone]\n",
    "    model = AutoEncoder(latent_dim=latent_dim).to('mps')\n",
    "    model.load_state_dict(torch.load(f'best_models/best_model_bone{bone}.pth'))\n",
    "\n",
    "    to_encode = Y_freemoves[:, 3*bone:3*(bone+1)]\n",
    "    to_encode = to_encode.transpose(0,2,1).reshape(-1, 3)\n",
    "    to_encode_tensor = torch.tensor(\n",
    "        to_encode,\n",
    "        dtype=torch.float,\n",
    "        device='mps')\n",
    "    encoded_tensor = model.encoder(to_encode_tensor)\n",
    "    Y_freemoves_enc.append(encoded_tensor\\\n",
    "        .cpu().detach().numpy()\\\n",
    "        .reshape(5, 230000, latent_dim)\\\n",
    "        .transpose(0,2,1))\n",
    "\n",
    "Y_freemoves_enc = np.hstack(Y_freemoves_enc)"
   ]
  },
  {
   "cell_type": "code",
   "execution_count": 121,
   "id": "715a901a",
   "metadata": {},
   "outputs": [],
   "source": [
    "from config.transformers import TimeWindowTransformer, LabelWindowExtractor\n",
    "\n",
    "# define parameters\n",
    "size = 500\n",
    "step = 250\n",
    "\n",
    "# initialize transformers\n",
    "tw_transformer = TimeWindowTransformer(size=size, step=step)\n",
    "label_extractor = LabelWindowExtractor(size=size, step=step)\n",
    "\n",
    "# apply transformations\n",
    "X_freemoves_windows = tw_transformer.transform(X_freemoves)           # shape: (5, n_windows, 8, 500)\n",
    "Y_freemoves_labels = label_extractor.transform(Y_freemoves)\n",
    "Y_freemoves_enc_labels = label_extractor.transform(Y_freemoves_enc)"
   ]
  },
  {
   "cell_type": "code",
   "execution_count": 122,
   "id": "3504c446",
   "metadata": {},
   "outputs": [],
   "source": [
    "from config.validation import cross_validate_pipeline, RMSE, NMSE\n",
    "\n",
    "X_folds = np.vstack(X_freemoves_windows[:4])\n",
    "X_test = X_freemoves_windows[4]\n",
    "\n",
    "Y_folds = np.vstack(Y_freemoves_labels[:4])\n",
    "Y_test = Y_freemoves_labels[4]\n",
    "\n",
    "Y_enc_folds = np.vstack(Y_freemoves_enc_labels[:4])\n",
    "Y_enc_test = Y_freemoves_enc_labels[4]"
   ]
  },
  {
   "cell_type": "code",
   "execution_count": 123,
   "id": "9612fbd7",
   "metadata": {},
   "outputs": [],
   "source": [
    "pipeline = baseline_knn"
   ]
  },
  {
   "cell_type": "code",
   "execution_count": 124,
   "id": "b443dcf0",
   "metadata": {},
   "outputs": [],
   "source": [
    "pipeline.fit(X_folds, Y_folds)\n",
    "Y_pred = pipeline.predict(X_test)"
   ]
  },
  {
   "cell_type": "code",
   "execution_count": 125,
   "id": "15529c20",
   "metadata": {},
   "outputs": [
    {
     "data": {
      "text/plain": [
       "np.float64(4.589927200536382)"
      ]
     },
     "execution_count": 125,
     "metadata": {},
     "output_type": "execute_result"
    }
   ],
   "source": [
    "RMSE(Y_pred, Y_test)"
   ]
  },
  {
   "cell_type": "code",
   "execution_count": 126,
   "id": "3c788c82",
   "metadata": {},
   "outputs": [],
   "source": [
    "pipeline.fit(X_folds, Y_enc_folds)\n",
    "\n",
    "Y_enc_pred = pipeline.predict(X_test)"
   ]
  },
  {
   "cell_type": "code",
   "execution_count": 127,
   "id": "a8d5ca3f",
   "metadata": {},
   "outputs": [],
   "source": [
    "current = 0\n",
    "Y_dec_pred = []\n",
    "for bone in range(17):\n",
    "    latent_dim = latent_dims[bone]\n",
    "    model = AutoEncoder(latent_dim=latent_dim).to('mps')\n",
    "\n",
    "    model.load_state_dict(torch.load(f'best_models/best_model_bone{bone}.pth'))\n",
    "\n",
    "    to_decode = Y_enc_pred[:, current:current + latent_dim]\n",
    "    current += latent_dim\n",
    "\n",
    "    bone_data_tensor = torch.tensor(to_decode, dtype=torch.float, device='mps')\n",
    "    bone_data_tensor_dec = model.decoder(bone_data_tensor)\n",
    "    Y_dec_pred.append(bone_data_tensor_dec.cpu().detach().numpy())\n",
    "\n",
    "Y_dec_pred = np.hstack(Y_dec_pred)"
   ]
  },
  {
   "cell_type": "code",
   "execution_count": 128,
   "id": "d96f9b4d",
   "metadata": {},
   "outputs": [
    {
     "data": {
      "text/plain": [
       "np.float64(4.540428741006081)"
      ]
     },
     "execution_count": 128,
     "metadata": {},
     "output_type": "execute_result"
    }
   ],
   "source": [
    "RMSE(Y_dec_pred, Y_test)"
   ]
  },
  {
   "cell_type": "code",
   "execution_count": 129,
   "id": "810a1359",
   "metadata": {},
   "outputs": [],
   "source": [
    "Y_ensemble = (Y_dec_pred + Y_pred)/2"
   ]
  },
  {
   "cell_type": "code",
   "execution_count": 130,
   "id": "722f4698",
   "metadata": {},
   "outputs": [
    {
     "data": {
      "text/plain": [
       "np.float64(4.563006935335711)"
      ]
     },
     "execution_count": 130,
     "metadata": {},
     "output_type": "execute_result"
    }
   ],
   "source": [
    "RMSE(Y_ensemble, Y_test)"
   ]
  },
  {
   "cell_type": "code",
   "execution_count": 131,
   "id": "c18f0483",
   "metadata": {},
   "outputs": [],
   "source": [
    "from config.utils import scatter_3d_points"
   ]
  },
  {
   "cell_type": "code",
   "execution_count": 132,
   "id": "9265e535",
   "metadata": {},
   "outputs": [
    {
     "data": {
      "text/plain": [
       "<Axes3D: xlabel='Roll', ylabel='Yaw', zlabel='Pitch'>"
      ]
     },
     "execution_count": 132,
     "metadata": {},
     "output_type": "execute_result"
    },
    {
     "data": {
      "image/png": "[encoded data removed]",
      "text/plain": [
       "<Figure size 640x480 with 1 Axes>"
      ]
     },
     "metadata": {},
     "output_type": "display_data"
    }
   ],
   "source": [
    "import matplotlib.pyplot as plt\n",
    "%matplotlib inline\n",
    "\n",
    "bone = 0\n",
    "\n",
    "ax = scatter_3d_points(Y_test[:, 3*bone:3*(bone+1)])\n",
    "scatter_3d_points(Y_dec_pred[:, 3*bone:3*(bone+1)], ax=ax, color='r')\n",
    "scatter_3d_points(Y_pred[:, 3*bone:3*(bone+1)], ax=ax, color='g')\n",
    "scatter_3d_points(Y_ensemble[:, 3*bone:3*(bone+1)], ax=ax, color='y')"
   ]
  }
 ],
 "metadata": {
  "kernelspec": {
   "display_name": "bgda",
   "language": "python",
   "name": "python3"
  },
  "language_info": {
   "codemirror_mode": {
    "name": "ipython",
    "version": 3
   },
   "file_extension": ".py",
   "mimetype": "text/x-python",
   "name": "python",
   "nbconvert_exporter": "python",
   "pygments_lexer": "ipython3",
   "version": "3.13.2"
  }
 },
 "nbformat": 4,
 "nbformat_minor": 5
}

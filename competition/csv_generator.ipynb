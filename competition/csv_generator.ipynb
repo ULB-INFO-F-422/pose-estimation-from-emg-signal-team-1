{
 "cells": [
  {
   "cell_type": "code",
   "execution_count": 5,
   "id": "8ade2b45",
   "metadata": {},
   "outputs": [],
   "source": [
    "import sys\n",
    "\n",
    "sys.path.append('../')"
   ]
  },
  {
   "cell_type": "code",
   "execution_count": 6,
   "id": "6ee26eba",
   "metadata": {},
   "outputs": [],
   "source": [
    "import numpy as np\n",
    "import pandas as pd"
   ]
  },
  {
   "cell_type": "code",
   "execution_count": 7,
   "id": "e5ec7e6f",
   "metadata": {},
   "outputs": [
    {
     "name": "stdout",
     "output_type": "stream",
     "text": [
      "8.101489870696623\n"
     ]
    }
   ],
   "source": [
    "# choosing predictions\n",
    "fname_guided = 'guided/stacking_kr_rf_riem3_steps_50_rmse_4-44.npy'\n",
    "fname_freemoves = 'freemoves/stacking_kr_xgb_riem4_steps_50_rmse_10-73.npy'\n",
    "\n",
    "# getting the expected RMSE\n",
    "guided_rmse = fname_guided.split('rmse_')[1].strip('.npy').replace('-', '.')\n",
    "guided_rmse = float(guided_rmse)\n",
    "\n",
    "freemoves_rmse = fname_freemoves.split('rmse_')[1].strip('.npy').replace('-', '.')\n",
    "freemoves_rmse = float(freemoves_rmse)\n",
    "\n",
    "expected_rmse = ((guided_rmse**2 * 1660 + freemoves_rmse**2 * 1540)/3200)**0.5\n",
    "\n",
    "expected_rmse_str = str(np.round(expected_rmse, 2)).replace('.', '-')\n",
    "\n",
    "print(expected_rmse)"
   ]
  },
  {
   "cell_type": "code",
   "execution_count": null,
   "id": "a0ad98fb",
   "metadata": {},
   "outputs": [],
   "source": [
    "# loading predictions \n",
    "Y_pred_guided = np.load(fname_guided)\n",
    "Y_pred_freemoves = np.load(fname_freemoves)\n",
    "\n",
    "# saving in csv file\n",
    "SUBMISSION_FOLDER = 'submissions/'\n",
    "fname_csv = SUBMISSION_FOLDER + 'submission_rmse_' + expected_rmse_str + '.csv'\n",
    "\n",
    "Y_pred = np.vstack([Y_pred_guided, Y_pred_freemoves])\n",
    "Y_pred_df = pd.DataFrame(Y_pred)\n",
    "Y_pred_df.to_csv(fname_csv, index=False, header=None)"
   ]
  }
 ],
 "metadata": {
  "kernelspec": {
   "display_name": "bgda",
   "language": "python",
   "name": "python3"
  },
  "language_info": {
   "codemirror_mode": {
    "name": "ipython",
    "version": 3
   },
   "file_extension": ".py",
   "mimetype": "text/x-python",
   "name": "python",
   "nbconvert_exporter": "python",
   "pygments_lexer": "ipython3",
   "version": "3.13.2"
  }
 },
 "nbformat": 4,
 "nbformat_minor": 5
}

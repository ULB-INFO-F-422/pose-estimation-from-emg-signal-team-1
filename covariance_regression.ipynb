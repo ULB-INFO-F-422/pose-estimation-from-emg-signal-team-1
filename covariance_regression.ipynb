{
 "cells": [
  {
   "cell_type": "code",
   "execution_count": 167,
   "id": "70937089",
   "metadata": {},
   "outputs": [],
   "source": [
    "from preprocessing import *\n",
    "import pyriemann\n",
    "\n",
    "PATH = '/Users/marco/PROJECTS/F422_PROJECT/data'"
   ]
  },
  {
   "cell_type": "code",
   "execution_count": 168,
   "id": "ad0d694e",
   "metadata": {},
   "outputs": [],
   "source": [
    "# error functions\n",
    "def RMSE(y_pred, y_val):\n",
    "    \"\"\"\n",
    "    Computes the root mean squared error of y_pred with respect to y_val\n",
    "    assumes a shape (N, 51)\n",
    "    \"\"\"\n",
    "    return (np.sum((y_val - y_pred)**2)/np.prod(y_val.shape))**0.5\n",
    "\n",
    "def NMSE(y_pred, y_val):\n",
    "    \"\"\"\n",
    "    Computes the normalized mean squared error of y_pred with respect to y_val\n",
    "    assumes a shape (N, 51)\n",
    "    \"\"\"\n",
    "    num = np.sum((y_val - y_pred)**2)\n",
    "    den = np.sum((y_val - np.mean(y_val, axis=0))**2)\n",
    "    return num/den"
   ]
  },
  {
   "cell_type": "code",
   "execution_count": 169,
   "id": "27bdcb3d",
   "metadata": {},
   "outputs": [],
   "source": [
    "# loading raw data\n",
    "X, Y = load_data(\n",
    "    x_path = PATH + '/guided/guided_dataset_X.npy',\n",
    "    y_path = PATH + '/guided/guided_dataset_Y.npy'\n",
    ")\n",
    "\n",
    "# creating the time windows and the labels\n",
    "window_size = 500\n",
    "window_step = 100\n",
    "X_windows = create_time_windows(X, size = window_size, step = window_step)\n",
    "Y_labels = create_labels(Y, size = window_size, step = window_step)"
   ]
  },
  {
   "cell_type": "code",
   "execution_count": null,
   "id": "a507a44d",
   "metadata": {},
   "outputs": [
    {
     "name": "stdout",
     "output_type": "stream",
     "text": [
      "Fold 0\n",
      "RMSE: 7.608617430911178\n",
      "NMSE: 0.29832320785309335\n",
      "\n",
      "\n",
      "Fold 1\n",
      "RMSE: 7.776859222786738\n",
      "NMSE: 0.30639745500219995\n",
      "\n",
      "\n",
      "Fold 2\n",
      "RMSE: 8.083012150290418\n",
      "NMSE: 0.3084093514908876\n",
      "\n",
      "\n",
      "Fold 3\n",
      "RMSE: 7.194008494294022\n",
      "NMSE: 0.26092575631611686\n",
      "\n",
      "\n",
      "Average RMSE: 7.665624324570589\n",
      "Average NMSE: 0.29351394266557446\n"
     ]
    }
   ],
   "source": [
    "scores = np.zeros((4,2))\n",
    "for fold in range(4):\n",
    "    # splitting sessions into train and validation --- always keep fifth session out for model selection\n",
    "    train_sessions = [0,1,2,3]\n",
    "    train_sessions.remove(fold)\n",
    "    X_train, Y_train, X_val, Y_val = split_sessions(\n",
    "        X_windows, Y_labels,\n",
    "        train_sessions = train_sessions,\n",
    "        val_session = fold\n",
    "    )\n",
    "\n",
    "    # stacking the training sessions together\n",
    "    n_sessions = X_train.shape[0]\n",
    "    n_windows = X_train.shape[1]\n",
    "    X_train_stacked = X_train.reshape(n_sessions*n_windows, *X_train.shape[2:])\n",
    "    Y_train_stacked = Y_train.reshape(n_sessions*n_windows, *Y_train.shape[2:])\n",
    "\n",
    "    # computing the covariance matrices\n",
    "    estimator = 'cov'\n",
    "    cov = pyriemann.estimation.Covariances(estimator)\n",
    "    X_train_covariances = cov.fit_transform(X_train_stacked)\n",
    "    X_val_covariances = cov.fit_transform(X_val)\n",
    "\n",
    "    # training SVM model\n",
    "    metric = 'riemann'\n",
    "    SVR = pyriemann.regression.SVR(metric=metric)\n",
    "    Y_pred_labels = np.zeros_like(Y_val)\n",
    "    for i in range(51):\n",
    "        SVR.fit(X_train_covariances, Y_train_stacked[:, i])\n",
    "        Y_pred_labels[:,i] = SVR.predict(X_val_covariances)\n",
    "\n",
    "    scores[fold,0] = RMSE(Y_pred_labels, Y_val)\n",
    "    scores[fold,1] = NMSE(Y_pred_labels, Y_val)\n",
    "\n",
    "for fold in range(4):\n",
    "    print('Fold', fold)\n",
    "    print('RMSE:', scores[fold,0])\n",
    "    print('NMSE:', scores[fold,1])\n",
    "    print('\\n')\n",
    "\n",
    "print('Average RMSE:', np.mean(scores[:,0]))\n",
    "print('Average NMSE:', np.mean(scores[:,1]))"
   ]
  }
 ],
 "metadata": {
  "kernelspec": {
   "display_name": ".venv",
   "language": "python",
   "name": "python3"
  },
  "language_info": {
   "codemirror_mode": {
    "name": "ipython",
    "version": 3
   },
   "file_extension": ".py",
   "mimetype": "text/x-python",
   "name": "python",
   "nbconvert_exporter": "python",
   "pygments_lexer": "ipython3",
   "version": "3.13.2"
  }
 },
 "nbformat": 4,
 "nbformat_minor": 5
}

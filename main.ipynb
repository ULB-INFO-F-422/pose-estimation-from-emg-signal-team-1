{
 "cells": [
  {
   "cell_type": "markdown",
   "id": "b92cf27c",
   "metadata": {},
   "source": [
    "# Statistical foundation of machine learning"
   ]
  },
  {
   "cell_type": "code",
   "execution_count": 4,
   "id": "e1e0a179",
   "metadata": {},
   "outputs": [],
   "source": [
    "import numpy as np\n",
    "from prep import TimeWindowTransformer, LabelWindowExtractor, TimeDomainTransformer\n",
    "\n",
    "# adjust import if needed"
   ]
  },
  {
   "cell_type": "markdown",
   "id": "71d401a7",
   "metadata": {},
   "source": [
    "## Loading raw data"
   ]
  },
  {
   "cell_type": "code",
   "execution_count": 5,
   "id": "2e218cb6",
   "metadata": {},
   "outputs": [],
   "source": [
    "# loading raw data\n",
    "# PATH = f'data/\n",
    "PATH = r'C:\\Users\\gianm\\Documents\\Uni\\Big Data\\F422\\project\\data\\\\'\n",
    "DATASET = 'guided' # change this to guided/freemoves if needed\n",
    "\n",
    "X = np.load(PATH + f'{DATASET}/{DATASET}_dataset_X.npy')\n",
    "Y = np.load(PATH + f'{DATASET}/{DATASET}_dataset_Y.npy')"
   ]
  },
  {
   "cell_type": "markdown",
   "id": "a3adc425",
   "metadata": {},
   "source": [
    "## (Optional) Signal filtering\n",
    "\n",
    "if you plan to filter your sEMG signals, it is recommended to perform\n",
    "this preprocessing step directly on the continuous raw data prior to window extraction or feature\n",
    "computation. Note that this step is completely optional but may improve your results."
   ]
  },
  {
   "cell_type": "markdown",
   "id": "093990ea",
   "metadata": {},
   "source": [
    "## (0.5 point) Dataset preparation and augmentation through overlapping windows\n",
    "\n",
    "You should first segment your sEMG signals into smaller windows of fixed size k = 500. These windows should be created with a chosen degree of overlap, which you can adjust based on the computational and memory resources available to you. Keep in mind that a larger overlap results in a greater number of samples and thus a larger dataset to train your models but to the cost of increasing computational demands."
   ]
  },
  {
   "cell_type": "code",
   "execution_count": 6,
   "id": "9a311f5c",
   "metadata": {},
   "outputs": [
    {
     "name": "stdout",
     "output_type": "stream",
     "text": [
      "X_windows shape: (5, 919, 8, 500)\n",
      "Y_labels shape: (5, 919, 51)\n"
     ]
    }
   ],
   "source": [
    "# Define parameters\n",
    "size = 500\n",
    "step = 250\n",
    "\n",
    "# Initialize transformers\n",
    "tw_transformer = TimeWindowTransformer(size=size, step=step)\n",
    "label_extractor = LabelWindowExtractor(size=size, step=step)\n",
    "\n",
    "# Apply transformations\n",
    "X_windows = tw_transformer.transform(X)     # shape: (5, n_windows, 8, 500)\n",
    "Y_labels = label_extractor.transform(Y)     # shape: (5, n_windows, 51)\n",
    "\n",
    "# Inspect shapes\n",
    "print(\"X_windows shape:\", X_windows.shape)\n",
    "print(\"Y_labels shape:\", Y_labels.shape)\n"
   ]
  },
  {
   "cell_type": "markdown",
   "id": "fa6921d1",
   "metadata": {},
   "source": [
    "## (1 point) Cross-validation strategy\n",
    "\n",
    "Determine and implement an adequate cross-validation strategy to validate your regression models, specifying how you organized your data partitions for training and validation. Provide a detailed justification showing that your validation sets remain completely independent from the training set. Include reasoning or evidence demonstrating explicitly that your chosen partitioning strategy prevents data leakage or bias, ensuring the reliability and generalizability of your model performance estimates."
   ]
  },
  {
   "cell_type": "code",
   "execution_count": 12,
   "id": "e1d5c4c6",
   "metadata": {},
   "outputs": [],
   "source": [
    "X_train_val = X_windows[:4]\n",
    "Y_train_val = Y_labels[:4]\n",
    "X_test = X_windows[4]\n",
    "Y_test = Y_labels[4]"
   ]
  },
  {
   "cell_type": "markdown",
   "id": "b261336d",
   "metadata": {},
   "source": [
    "## (3 points) Baseline approach\n",
    "\n",
    "Create a custom class inheriting from scikit-learn’s `BaseEstimator`\n",
    "and `TransformerMixin` that implements the extraction of common time-domain features described\n",
    "in section 3.1. Note that the features described in Section 3.1 represent the minimal required set. We\n",
    "encourage you to include additional features or preprocessing steps if you would like to further improve your model performances. Select at least two different regression models, compare their cross-validated performance, and evaluate their feature importances. For both models, perform feature selection to determine the optimal subset of features minimizing the Root Mean Squared Error (RMSE).\n",
    "Clearly document this process in your notebook, discussing the outcomes in detail. Finally, create a\n",
    "scikit-learn `Pipeline` that integrates your custom feature extraction class, the optimal feature selection step, and the best-performing regression model identified from your cross-validation results.\n",
    "Using visualizations and tables to illustrate your findings, and employing formulas or pseudo-code\n",
    "to explain the feature selection procedure, is strongly encouraged. Note that one-third of the score\n",
    "will depend on the quality and clarity of your documentation."
   ]
  },
  {
   "cell_type": "code",
   "execution_count": 9,
   "id": "7f50af99",
   "metadata": {},
   "outputs": [],
   "source": [
    "import numpy as np\n",
    "from sklearn.pipeline import Pipeline\n",
    "from sklearn.linear_model import Lasso\n",
    "from sklearn.kernel_ridge import KernelRidge\n",
    "from sklearn.multioutput import MultiOutputRegressor\n",
    "from sklearn.svm import SVR\n",
    "from sklearn.tree import DecisionTreeRegressor, ExtraTreeRegressor\n",
    "from sklearn.ensemble import RandomForestRegressor\n",
    "from validation import *\n",
    "\n",
    "import pyriemann\n",
    "import pyriemann.regression"
   ]
  },
  {
   "cell_type": "markdown",
   "id": "46283caf",
   "metadata": {},
   "source": [
    "### Time domain pipelines"
   ]
  },
  {
   "cell_type": "code",
   "execution_count": 10,
   "id": "db28905f",
   "metadata": {},
   "outputs": [],
   "source": [
    "time_est0 = Pipeline(\n",
    "    [\n",
    "        ('time_domain_features', TimeDomainTransformer(0.3)),\n",
    "        ('regressor', Lasso())\n",
    "    ]\n",
    ")\n",
    "\n",
    "time_est1 = Pipeline(\n",
    "    [\n",
    "        ('time_domain_features', TimeDomainTransformer()),\n",
    "        ('kernel_ridge', KernelRidge())\n",
    "    ]\n",
    ")\n",
    "\n",
    "time_est2 = Pipeline(\n",
    "    [\n",
    "        ('time_domain_features', TimeDomainTransformer()),\n",
    "        ('multioutput_svr', MultiOutputRegressor(SVR()))\n",
    "    ]\n",
    ")\n",
    "\n",
    "time_est3 = Pipeline(\n",
    "    [\n",
    "        ('time_domain_features', TimeDomainTransformer()),\n",
    "        ('decision_tree', DecisionTreeRegressor())\n",
    "    ]\n",
    ")\n",
    "\n",
    "time_est4 = Pipeline(\n",
    "    [\n",
    "        ('time_domain_features', TimeDomainTransformer()),\n",
    "        ('extra_tree', ExtraTreeRegressor())\n",
    "    ]\n",
    ")\n",
    "\n",
    "time_est5 = Pipeline(\n",
    "    [\n",
    "        ('time_domain_features', TimeDomainTransformer()),\n",
    "        ('random_forest', RandomForestRegressor(\n",
    "            n_estimators = 30\n",
    "        ))\n",
    "    ]\n",
    ")"
   ]
  },
  {
   "cell_type": "code",
   "execution_count": null,
   "id": "8a05614f",
   "metadata": {},
   "outputs": [
    {
     "name": "stdout",
     "output_type": "stream",
     "text": [
      "\n",
      "--- Evaluating time_est0 ---\n"
     ]
    },
    {
     "name": "stderr",
     "output_type": "stream",
     "text": [
      "c:\\Users\\gianm\\miniforge3\\envs\\test\\Lib\\site-packages\\sklearn\\linear_model\\_coordinate_descent.py:697: ConvergenceWarning: Objective did not converge. You might want to increase the number of iterations, check the scale of the features or consider increasing regularisation. Duality gap: 1.729e+03, tolerance: 3.660e+00\n",
      "  model = cd_fast.enet_coordinate_descent(\n",
      "c:\\Users\\gianm\\miniforge3\\envs\\test\\Lib\\site-packages\\sklearn\\linear_model\\_coordinate_descent.py:697: ConvergenceWarning: Objective did not converge. You might want to increase the number of iterations, check the scale of the features or consider increasing regularisation. Duality gap: 2.694e+04, tolerance: 3.431e+01\n",
      "  model = cd_fast.enet_coordinate_descent(\n",
      "c:\\Users\\gianm\\miniforge3\\envs\\test\\Lib\\site-packages\\sklearn\\linear_model\\_coordinate_descent.py:697: ConvergenceWarning: Objective did not converge. You might want to increase the number of iterations, check the scale of the features or consider increasing regularisation. Duality gap: 7.748e+03, tolerance: 7.059e+00\n",
      "  model = cd_fast.enet_coordinate_descent(\n",
      "c:\\Users\\gianm\\miniforge3\\envs\\test\\Lib\\site-packages\\sklearn\\linear_model\\_coordinate_descent.py:697: ConvergenceWarning: Objective did not converge. You might want to increase the number of iterations, check the scale of the features or consider increasing regularisation. Duality gap: 1.554e+03, tolerance: 1.853e+00\n",
      "  model = cd_fast.enet_coordinate_descent(\n",
      "c:\\Users\\gianm\\miniforge3\\envs\\test\\Lib\\site-packages\\sklearn\\linear_model\\_coordinate_descent.py:697: ConvergenceWarning: Objective did not converge. You might want to increase the number of iterations, check the scale of the features or consider increasing regularisation. Duality gap: 3.584e+04, tolerance: 4.037e+01\n",
      "  model = cd_fast.enet_coordinate_descent(\n",
      "c:\\Users\\gianm\\miniforge3\\envs\\test\\Lib\\site-packages\\sklearn\\linear_model\\_coordinate_descent.py:697: ConvergenceWarning: Objective did not converge. You might want to increase the number of iterations, check the scale of the features or consider increasing regularisation. Duality gap: 9.768e+04, tolerance: 1.509e+02\n",
      "  model = cd_fast.enet_coordinate_descent(\n",
      "c:\\Users\\gianm\\miniforge3\\envs\\test\\Lib\\site-packages\\sklearn\\linear_model\\_coordinate_descent.py:697: ConvergenceWarning: Objective did not converge. You might want to increase the number of iterations, check the scale of the features or consider increasing regularisation. Duality gap: 1.034e+05, tolerance: 9.014e+01\n",
      "  model = cd_fast.enet_coordinate_descent(\n",
      "c:\\Users\\gianm\\miniforge3\\envs\\test\\Lib\\site-packages\\sklearn\\linear_model\\_coordinate_descent.py:697: ConvergenceWarning: Objective did not converge. You might want to increase the number of iterations, check the scale of the features or consider increasing regularisation. Duality gap: 4.075e+05, tolerance: 3.621e+02\n",
      "  model = cd_fast.enet_coordinate_descent(\n",
      "c:\\Users\\gianm\\miniforge3\\envs\\test\\Lib\\site-packages\\sklearn\\linear_model\\_coordinate_descent.py:697: ConvergenceWarning: Objective did not converge. You might want to increase the number of iterations, check the scale of the features or consider increasing regularisation. Duality gap: 2.182e+05, tolerance: 1.711e+02\n",
      "  model = cd_fast.enet_coordinate_descent(\n",
      "c:\\Users\\gianm\\miniforge3\\envs\\test\\Lib\\site-packages\\sklearn\\linear_model\\_coordinate_descent.py:697: ConvergenceWarning: Objective did not converge. You might want to increase the number of iterations, check the scale of the features or consider increasing regularisation. Duality gap: 8.421e+04, tolerance: 1.027e+02\n",
      "  model = cd_fast.enet_coordinate_descent(\n",
      "c:\\Users\\gianm\\miniforge3\\envs\\test\\Lib\\site-packages\\sklearn\\linear_model\\_coordinate_descent.py:697: ConvergenceWarning: Objective did not converge. You might want to increase the number of iterations, check the scale of the features or consider increasing regularisation. Duality gap: 2.749e+05, tolerance: 3.866e+02\n",
      "  model = cd_fast.enet_coordinate_descent(\n",
      "c:\\Users\\gianm\\miniforge3\\envs\\test\\Lib\\site-packages\\sklearn\\linear_model\\_coordinate_descent.py:697: ConvergenceWarning: Objective did not converge. You might want to increase the number of iterations, check the scale of the features or consider increasing regularisation. Duality gap: 1.098e+05, tolerance: 1.271e+02\n",
      "  model = cd_fast.enet_coordinate_descent(\n",
      "c:\\Users\\gianm\\miniforge3\\envs\\test\\Lib\\site-packages\\sklearn\\linear_model\\_coordinate_descent.py:697: ConvergenceWarning: Objective did not converge. You might want to increase the number of iterations, check the scale of the features or consider increasing regularisation. Duality gap: 1.103e+05, tolerance: 1.470e+02\n",
      "  model = cd_fast.enet_coordinate_descent(\n",
      "c:\\Users\\gianm\\miniforge3\\envs\\test\\Lib\\site-packages\\sklearn\\linear_model\\_coordinate_descent.py:697: ConvergenceWarning: Objective did not converge. You might want to increase the number of iterations, check the scale of the features or consider increasing regularisation. Duality gap: 3.631e+05, tolerance: 4.685e+02\n",
      "  model = cd_fast.enet_coordinate_descent(\n",
      "c:\\Users\\gianm\\miniforge3\\envs\\test\\Lib\\site-packages\\sklearn\\linear_model\\_coordinate_descent.py:697: ConvergenceWarning: Objective did not converge. You might want to increase the number of iterations, check the scale of the features or consider increasing regularisation. Duality gap: 1.160e+05, tolerance: 1.228e+02\n",
      "  model = cd_fast.enet_coordinate_descent(\n",
      "c:\\Users\\gianm\\miniforge3\\envs\\test\\Lib\\site-packages\\sklearn\\linear_model\\_coordinate_descent.py:697: ConvergenceWarning: Objective did not converge. You might want to increase the number of iterations, check the scale of the features or consider increasing regularisation. Duality gap: 4.209e+03, tolerance: 5.062e+00\n",
      "  model = cd_fast.enet_coordinate_descent(\n",
      "c:\\Users\\gianm\\miniforge3\\envs\\test\\Lib\\site-packages\\sklearn\\linear_model\\_coordinate_descent.py:697: ConvergenceWarning: Objective did not converge. You might want to increase the number of iterations, check the scale of the features or consider increasing regularisation. Duality gap: 1.375e+05, tolerance: 1.788e+02\n",
      "  model = cd_fast.enet_coordinate_descent(\n",
      "c:\\Users\\gianm\\miniforge3\\envs\\test\\Lib\\site-packages\\sklearn\\linear_model\\_coordinate_descent.py:697: ConvergenceWarning: Objective did not converge. You might want to increase the number of iterations, check the scale of the features or consider increasing regularisation. Duality gap: 3.383e+05, tolerance: 3.380e+02\n",
      "  model = cd_fast.enet_coordinate_descent(\n",
      "c:\\Users\\gianm\\miniforge3\\envs\\test\\Lib\\site-packages\\sklearn\\linear_model\\_coordinate_descent.py:697: ConvergenceWarning: Objective did not converge. You might want to increase the number of iterations, check the scale of the features or consider increasing regularisation. Duality gap: 5.845e+04, tolerance: 1.052e+02\n",
      "  model = cd_fast.enet_coordinate_descent(\n"
     ]
    },
    {
     "name": "stdout",
     "output_type": "stream",
     "text": [
      "\n",
      "Fold 1\n",
      "RMSE: train=6.2674, val=8.0515\n",
      "NMSE: train=0.1937, val=0.3344\n"
     ]
    },
    {
     "name": "stderr",
     "output_type": "stream",
     "text": [
      "c:\\Users\\gianm\\miniforge3\\envs\\test\\Lib\\site-packages\\sklearn\\linear_model\\_coordinate_descent.py:697: ConvergenceWarning: Objective did not converge. You might want to increase the number of iterations, check the scale of the features or consider increasing regularisation. Duality gap: 1.247e+03, tolerance: 3.294e+00\n",
      "  model = cd_fast.enet_coordinate_descent(\n",
      "c:\\Users\\gianm\\miniforge3\\envs\\test\\Lib\\site-packages\\sklearn\\linear_model\\_coordinate_descent.py:697: ConvergenceWarning: Objective did not converge. You might want to increase the number of iterations, check the scale of the features or consider increasing regularisation. Duality gap: 1.640e+04, tolerance: 3.009e+01\n",
      "  model = cd_fast.enet_coordinate_descent(\n",
      "c:\\Users\\gianm\\miniforge3\\envs\\test\\Lib\\site-packages\\sklearn\\linear_model\\_coordinate_descent.py:697: ConvergenceWarning: Objective did not converge. You might want to increase the number of iterations, check the scale of the features or consider increasing regularisation. Duality gap: 1.975e+01, tolerance: 7.343e+00\n",
      "  model = cd_fast.enet_coordinate_descent(\n",
      "c:\\Users\\gianm\\miniforge3\\envs\\test\\Lib\\site-packages\\sklearn\\linear_model\\_coordinate_descent.py:697: ConvergenceWarning: Objective did not converge. You might want to increase the number of iterations, check the scale of the features or consider increasing regularisation. Duality gap: 3.532e+04, tolerance: 4.317e+01\n",
      "  model = cd_fast.enet_coordinate_descent(\n",
      "c:\\Users\\gianm\\miniforge3\\envs\\test\\Lib\\site-packages\\sklearn\\linear_model\\_coordinate_descent.py:697: ConvergenceWarning: Objective did not converge. You might want to increase the number of iterations, check the scale of the features or consider increasing regularisation. Duality gap: 8.159e+04, tolerance: 1.386e+02\n",
      "  model = cd_fast.enet_coordinate_descent(\n",
      "c:\\Users\\gianm\\miniforge3\\envs\\test\\Lib\\site-packages\\sklearn\\linear_model\\_coordinate_descent.py:697: ConvergenceWarning: Objective did not converge. You might want to increase the number of iterations, check the scale of the features or consider increasing regularisation. Duality gap: 6.919e+04, tolerance: 8.955e+01\n",
      "  model = cd_fast.enet_coordinate_descent(\n",
      "c:\\Users\\gianm\\miniforge3\\envs\\test\\Lib\\site-packages\\sklearn\\linear_model\\_coordinate_descent.py:697: ConvergenceWarning: Objective did not converge. You might want to increase the number of iterations, check the scale of the features or consider increasing regularisation. Duality gap: 1.307e+05, tolerance: 3.663e+02\n",
      "  model = cd_fast.enet_coordinate_descent(\n",
      "c:\\Users\\gianm\\miniforge3\\envs\\test\\Lib\\site-packages\\sklearn\\linear_model\\_coordinate_descent.py:697: ConvergenceWarning: Objective did not converge. You might want to increase the number of iterations, check the scale of the features or consider increasing regularisation. Duality gap: 1.180e+03, tolerance: 1.568e+02\n",
      "  model = cd_fast.enet_coordinate_descent(\n",
      "c:\\Users\\gianm\\miniforge3\\envs\\test\\Lib\\site-packages\\sklearn\\linear_model\\_coordinate_descent.py:697: ConvergenceWarning: Objective did not converge. You might want to increase the number of iterations, check the scale of the features or consider increasing regularisation. Duality gap: 8.522e+04, tolerance: 1.038e+02\n",
      "  model = cd_fast.enet_coordinate_descent(\n",
      "c:\\Users\\gianm\\miniforge3\\envs\\test\\Lib\\site-packages\\sklearn\\linear_model\\_coordinate_descent.py:697: ConvergenceWarning: Objective did not converge. You might want to increase the number of iterations, check the scale of the features or consider increasing regularisation. Duality gap: 3.230e+05, tolerance: 3.932e+02\n",
      "  model = cd_fast.enet_coordinate_descent(\n",
      "c:\\Users\\gianm\\miniforge3\\envs\\test\\Lib\\site-packages\\sklearn\\linear_model\\_coordinate_descent.py:697: ConvergenceWarning: Objective did not converge. You might want to increase the number of iterations, check the scale of the features or consider increasing regularisation. Duality gap: 1.067e+05, tolerance: 1.165e+02\n",
      "  model = cd_fast.enet_coordinate_descent(\n",
      "c:\\Users\\gianm\\miniforge3\\envs\\test\\Lib\\site-packages\\sklearn\\linear_model\\_coordinate_descent.py:697: ConvergenceWarning: Objective did not converge. You might want to increase the number of iterations, check the scale of the features or consider increasing regularisation. Duality gap: 1.051e+05, tolerance: 1.481e+02\n",
      "  model = cd_fast.enet_coordinate_descent(\n",
      "c:\\Users\\gianm\\miniforge3\\envs\\test\\Lib\\site-packages\\sklearn\\linear_model\\_coordinate_descent.py:697: ConvergenceWarning: Objective did not converge. You might want to increase the number of iterations, check the scale of the features or consider increasing regularisation. Duality gap: 3.613e+05, tolerance: 4.814e+02\n",
      "  model = cd_fast.enet_coordinate_descent(\n",
      "c:\\Users\\gianm\\miniforge3\\envs\\test\\Lib\\site-packages\\sklearn\\linear_model\\_coordinate_descent.py:697: ConvergenceWarning: Objective did not converge. You might want to increase the number of iterations, check the scale of the features or consider increasing regularisation. Duality gap: 8.807e+04, tolerance: 1.171e+02\n",
      "  model = cd_fast.enet_coordinate_descent(\n",
      "c:\\Users\\gianm\\miniforge3\\envs\\test\\Lib\\site-packages\\sklearn\\linear_model\\_coordinate_descent.py:697: ConvergenceWarning: Objective did not converge. You might want to increase the number of iterations, check the scale of the features or consider increasing regularisation. Duality gap: 0.000e+00, tolerance: 0.000e+00\n",
      "  model = cd_fast.enet_coordinate_descent(\n",
      "c:\\Users\\gianm\\miniforge3\\envs\\test\\Lib\\site-packages\\sklearn\\linear_model\\_coordinate_descent.py:697: ConvergenceWarning: Objective did not converge. You might want to increase the number of iterations, check the scale of the features or consider increasing regularisation. Duality gap: 4.256e+03, tolerance: 5.119e+00\n",
      "  model = cd_fast.enet_coordinate_descent(\n",
      "c:\\Users\\gianm\\miniforge3\\envs\\test\\Lib\\site-packages\\sklearn\\linear_model\\_coordinate_descent.py:697: ConvergenceWarning: Objective did not converge. You might want to increase the number of iterations, check the scale of the features or consider increasing regularisation. Duality gap: 1.215e+05, tolerance: 1.925e+02\n",
      "  model = cd_fast.enet_coordinate_descent(\n",
      "c:\\Users\\gianm\\miniforge3\\envs\\test\\Lib\\site-packages\\sklearn\\linear_model\\_coordinate_descent.py:697: ConvergenceWarning: Objective did not converge. You might want to increase the number of iterations, check the scale of the features or consider increasing regularisation. Duality gap: 2.173e+05, tolerance: 3.393e+02\n",
      "  model = cd_fast.enet_coordinate_descent(\n",
      "c:\\Users\\gianm\\miniforge3\\envs\\test\\Lib\\site-packages\\sklearn\\linear_model\\_coordinate_descent.py:697: ConvergenceWarning: Objective did not converge. You might want to increase the number of iterations, check the scale of the features or consider increasing regularisation. Duality gap: 7.931e+04, tolerance: 1.000e+02\n",
      "  model = cd_fast.enet_coordinate_descent(\n"
     ]
    },
    {
     "name": "stdout",
     "output_type": "stream",
     "text": [
      "\n",
      "Fold 2\n",
      "RMSE: train=6.2658, val=7.4550\n",
      "NMSE: train=0.1943, val=0.2824\n"
     ]
    },
    {
     "name": "stderr",
     "output_type": "stream",
     "text": [
      "c:\\Users\\gianm\\miniforge3\\envs\\test\\Lib\\site-packages\\sklearn\\linear_model\\_coordinate_descent.py:697: ConvergenceWarning: Objective did not converge. You might want to increase the number of iterations, check the scale of the features or consider increasing regularisation. Duality gap: 1.819e+03, tolerance: 3.365e+00\n",
      "  model = cd_fast.enet_coordinate_descent(\n",
      "c:\\Users\\gianm\\miniforge3\\envs\\test\\Lib\\site-packages\\sklearn\\linear_model\\_coordinate_descent.py:697: ConvergenceWarning: Objective did not converge. You might want to increase the number of iterations, check the scale of the features or consider increasing regularisation. Duality gap: 2.632e+04, tolerance: 3.146e+01\n",
      "  model = cd_fast.enet_coordinate_descent(\n",
      "c:\\Users\\gianm\\miniforge3\\envs\\test\\Lib\\site-packages\\sklearn\\linear_model\\_coordinate_descent.py:697: ConvergenceWarning: Objective did not converge. You might want to increase the number of iterations, check the scale of the features or consider increasing regularisation. Duality gap: 3.216e+04, tolerance: 4.136e+01\n",
      "  model = cd_fast.enet_coordinate_descent(\n",
      "c:\\Users\\gianm\\miniforge3\\envs\\test\\Lib\\site-packages\\sklearn\\linear_model\\_coordinate_descent.py:697: ConvergenceWarning: Objective did not converge. You might want to increase the number of iterations, check the scale of the features or consider increasing regularisation. Duality gap: 1.120e+05, tolerance: 1.443e+02\n",
      "  model = cd_fast.enet_coordinate_descent(\n",
      "c:\\Users\\gianm\\miniforge3\\envs\\test\\Lib\\site-packages\\sklearn\\linear_model\\_coordinate_descent.py:697: ConvergenceWarning: Objective did not converge. You might want to increase the number of iterations, check the scale of the features or consider increasing regularisation. Duality gap: 5.250e+04, tolerance: 8.277e+01\n",
      "  model = cd_fast.enet_coordinate_descent(\n",
      "c:\\Users\\gianm\\miniforge3\\envs\\test\\Lib\\site-packages\\sklearn\\linear_model\\_coordinate_descent.py:697: ConvergenceWarning: Objective did not converge. You might want to increase the number of iterations, check the scale of the features or consider increasing regularisation. Duality gap: 3.889e+05, tolerance: 3.524e+02\n",
      "  model = cd_fast.enet_coordinate_descent(\n",
      "c:\\Users\\gianm\\miniforge3\\envs\\test\\Lib\\site-packages\\sklearn\\linear_model\\_coordinate_descent.py:697: ConvergenceWarning: Objective did not converge. You might want to increase the number of iterations, check the scale of the features or consider increasing regularisation. Duality gap: 1.541e+05, tolerance: 1.572e+02\n",
      "  model = cd_fast.enet_coordinate_descent(\n",
      "c:\\Users\\gianm\\miniforge3\\envs\\test\\Lib\\site-packages\\sklearn\\linear_model\\_coordinate_descent.py:697: ConvergenceWarning: Objective did not converge. You might want to increase the number of iterations, check the scale of the features or consider increasing regularisation. Duality gap: 6.659e+04, tolerance: 9.399e+01\n",
      "  model = cd_fast.enet_coordinate_descent(\n",
      "c:\\Users\\gianm\\miniforge3\\envs\\test\\Lib\\site-packages\\sklearn\\linear_model\\_coordinate_descent.py:697: ConvergenceWarning: Objective did not converge. You might want to increase the number of iterations, check the scale of the features or consider increasing regularisation. Duality gap: 3.264e+05, tolerance: 3.824e+02\n",
      "  model = cd_fast.enet_coordinate_descent(\n",
      "c:\\Users\\gianm\\miniforge3\\envs\\test\\Lib\\site-packages\\sklearn\\linear_model\\_coordinate_descent.py:697: ConvergenceWarning: Objective did not converge. You might want to increase the number of iterations, check the scale of the features or consider increasing regularisation. Duality gap: 1.126e+05, tolerance: 1.207e+02\n",
      "  model = cd_fast.enet_coordinate_descent(\n",
      "c:\\Users\\gianm\\miniforge3\\envs\\test\\Lib\\site-packages\\sklearn\\linear_model\\_coordinate_descent.py:697: ConvergenceWarning: Objective did not converge. You might want to increase the number of iterations, check the scale of the features or consider increasing regularisation. Duality gap: 9.238e+04, tolerance: 1.423e+02\n",
      "  model = cd_fast.enet_coordinate_descent(\n",
      "c:\\Users\\gianm\\miniforge3\\envs\\test\\Lib\\site-packages\\sklearn\\linear_model\\_coordinate_descent.py:697: ConvergenceWarning: Objective did not converge. You might want to increase the number of iterations, check the scale of the features or consider increasing regularisation. Duality gap: 3.386e+05, tolerance: 4.638e+02\n",
      "  model = cd_fast.enet_coordinate_descent(\n",
      "c:\\Users\\gianm\\miniforge3\\envs\\test\\Lib\\site-packages\\sklearn\\linear_model\\_coordinate_descent.py:697: ConvergenceWarning: Objective did not converge. You might want to increase the number of iterations, check the scale of the features or consider increasing regularisation. Duality gap: 1.137e+05, tolerance: 1.163e+02\n",
      "  model = cd_fast.enet_coordinate_descent(\n",
      "c:\\Users\\gianm\\miniforge3\\envs\\test\\Lib\\site-packages\\sklearn\\linear_model\\_coordinate_descent.py:697: ConvergenceWarning: Objective did not converge. You might want to increase the number of iterations, check the scale of the features or consider increasing regularisation. Duality gap: 3.415e+03, tolerance: 4.458e+00\n",
      "  model = cd_fast.enet_coordinate_descent(\n",
      "c:\\Users\\gianm\\miniforge3\\envs\\test\\Lib\\site-packages\\sklearn\\linear_model\\_coordinate_descent.py:697: ConvergenceWarning: Objective did not converge. You might want to increase the number of iterations, check the scale of the features or consider increasing regularisation. Duality gap: 1.033e+05, tolerance: 1.712e+02\n",
      "  model = cd_fast.enet_coordinate_descent(\n",
      "c:\\Users\\gianm\\miniforge3\\envs\\test\\Lib\\site-packages\\sklearn\\linear_model\\_coordinate_descent.py:697: ConvergenceWarning: Objective did not converge. You might want to increase the number of iterations, check the scale of the features or consider increasing regularisation. Duality gap: 2.698e+05, tolerance: 3.383e+02\n",
      "  model = cd_fast.enet_coordinate_descent(\n",
      "c:\\Users\\gianm\\miniforge3\\envs\\test\\Lib\\site-packages\\sklearn\\linear_model\\_coordinate_descent.py:697: ConvergenceWarning: Objective did not converge. You might want to increase the number of iterations, check the scale of the features or consider increasing regularisation. Duality gap: 9.690e+04, tolerance: 1.023e+02\n",
      "  model = cd_fast.enet_coordinate_descent(\n"
     ]
    },
    {
     "name": "stdout",
     "output_type": "stream",
     "text": [
      "\n",
      "Fold 3\n",
      "RMSE: train=6.2199, val=7.7785\n",
      "NMSE: train=0.1967, val=0.2843\n"
     ]
    },
    {
     "name": "stderr",
     "output_type": "stream",
     "text": [
      "c:\\Users\\gianm\\miniforge3\\envs\\test\\Lib\\site-packages\\sklearn\\linear_model\\_coordinate_descent.py:697: ConvergenceWarning: Objective did not converge. You might want to increase the number of iterations, check the scale of the features or consider increasing regularisation. Duality gap: 1.598e+03, tolerance: 3.111e+00\n",
      "  model = cd_fast.enet_coordinate_descent(\n",
      "c:\\Users\\gianm\\miniforge3\\envs\\test\\Lib\\site-packages\\sklearn\\linear_model\\_coordinate_descent.py:697: ConvergenceWarning: Objective did not converge. You might want to increase the number of iterations, check the scale of the features or consider increasing regularisation. Duality gap: 2.554e+04, tolerance: 2.973e+01\n",
      "  model = cd_fast.enet_coordinate_descent(\n",
      "c:\\Users\\gianm\\miniforge3\\envs\\test\\Lib\\site-packages\\sklearn\\linear_model\\_coordinate_descent.py:697: ConvergenceWarning: Objective did not converge. You might want to increase the number of iterations, check the scale of the features or consider increasing regularisation. Duality gap: 1.995e+02, tolerance: 1.876e+00\n",
      "  model = cd_fast.enet_coordinate_descent(\n",
      "c:\\Users\\gianm\\miniforge3\\envs\\test\\Lib\\site-packages\\sklearn\\linear_model\\_coordinate_descent.py:697: ConvergenceWarning: Objective did not converge. You might want to increase the number of iterations, check the scale of the features or consider increasing regularisation. Duality gap: 3.447e+04, tolerance: 4.236e+01\n",
      "  model = cd_fast.enet_coordinate_descent(\n",
      "c:\\Users\\gianm\\miniforge3\\envs\\test\\Lib\\site-packages\\sklearn\\linear_model\\_coordinate_descent.py:697: ConvergenceWarning: Objective did not converge. You might want to increase the number of iterations, check the scale of the features or consider increasing regularisation. Duality gap: 8.178e+04, tolerance: 1.477e+02\n",
      "  model = cd_fast.enet_coordinate_descent(\n",
      "c:\\Users\\gianm\\miniforge3\\envs\\test\\Lib\\site-packages\\sklearn\\linear_model\\_coordinate_descent.py:697: ConvergenceWarning: Objective did not converge. You might want to increase the number of iterations, check the scale of the features or consider increasing regularisation. Duality gap: 8.445e+04, tolerance: 8.494e+01\n",
      "  model = cd_fast.enet_coordinate_descent(\n",
      "c:\\Users\\gianm\\miniforge3\\envs\\test\\Lib\\site-packages\\sklearn\\linear_model\\_coordinate_descent.py:697: ConvergenceWarning: Objective did not converge. You might want to increase the number of iterations, check the scale of the features or consider increasing regularisation. Duality gap: 3.925e+05, tolerance: 3.619e+02\n",
      "  model = cd_fast.enet_coordinate_descent(\n",
      "c:\\Users\\gianm\\miniforge3\\envs\\test\\Lib\\site-packages\\sklearn\\linear_model\\_coordinate_descent.py:697: ConvergenceWarning: Objective did not converge. You might want to increase the number of iterations, check the scale of the features or consider increasing regularisation. Duality gap: 1.981e+05, tolerance: 1.676e+02\n",
      "  model = cd_fast.enet_coordinate_descent(\n",
      "c:\\Users\\gianm\\miniforge3\\envs\\test\\Lib\\site-packages\\sklearn\\linear_model\\_coordinate_descent.py:697: ConvergenceWarning: Objective did not converge. You might want to increase the number of iterations, check the scale of the features or consider increasing regularisation. Duality gap: 8.447e+04, tolerance: 9.955e+01\n",
      "  model = cd_fast.enet_coordinate_descent(\n",
      "c:\\Users\\gianm\\miniforge3\\envs\\test\\Lib\\site-packages\\sklearn\\linear_model\\_coordinate_descent.py:697: ConvergenceWarning: Objective did not converge. You might want to increase the number of iterations, check the scale of the features or consider increasing regularisation. Duality gap: 3.394e+05, tolerance: 3.900e+02\n",
      "  model = cd_fast.enet_coordinate_descent(\n",
      "c:\\Users\\gianm\\miniforge3\\envs\\test\\Lib\\site-packages\\sklearn\\linear_model\\_coordinate_descent.py:697: ConvergenceWarning: Objective did not converge. You might want to increase the number of iterations, check the scale of the features or consider increasing regularisation. Duality gap: 1.241e+05, tolerance: 1.225e+02\n",
      "  model = cd_fast.enet_coordinate_descent(\n",
      "c:\\Users\\gianm\\miniforge3\\envs\\test\\Lib\\site-packages\\sklearn\\linear_model\\_coordinate_descent.py:697: ConvergenceWarning: Objective did not converge. You might want to increase the number of iterations, check the scale of the features or consider increasing regularisation. Duality gap: 1.130e+05, tolerance: 1.491e+02\n",
      "  model = cd_fast.enet_coordinate_descent(\n",
      "c:\\Users\\gianm\\miniforge3\\envs\\test\\Lib\\site-packages\\sklearn\\linear_model\\_coordinate_descent.py:697: ConvergenceWarning: Objective did not converge. You might want to increase the number of iterations, check the scale of the features or consider increasing regularisation. Duality gap: 3.916e+05, tolerance: 4.666e+02\n",
      "  model = cd_fast.enet_coordinate_descent(\n",
      "c:\\Users\\gianm\\miniforge3\\envs\\test\\Lib\\site-packages\\sklearn\\linear_model\\_coordinate_descent.py:697: ConvergenceWarning: Objective did not converge. You might want to increase the number of iterations, check the scale of the features or consider increasing regularisation. Duality gap: 1.322e+05, tolerance: 1.197e+02\n",
      "  model = cd_fast.enet_coordinate_descent(\n",
      "c:\\Users\\gianm\\miniforge3\\envs\\test\\Lib\\site-packages\\sklearn\\linear_model\\_coordinate_descent.py:697: ConvergenceWarning: Objective did not converge. You might want to increase the number of iterations, check the scale of the features or consider increasing regularisation. Duality gap: 2.517e+03, tolerance: 4.919e+00\n",
      "  model = cd_fast.enet_coordinate_descent(\n",
      "c:\\Users\\gianm\\miniforge3\\envs\\test\\Lib\\site-packages\\sklearn\\linear_model\\_coordinate_descent.py:697: ConvergenceWarning: Objective did not converge. You might want to increase the number of iterations, check the scale of the features or consider increasing regularisation. Duality gap: 1.114e+05, tolerance: 1.923e+02\n",
      "  model = cd_fast.enet_coordinate_descent(\n",
      "c:\\Users\\gianm\\miniforge3\\envs\\test\\Lib\\site-packages\\sklearn\\linear_model\\_coordinate_descent.py:697: ConvergenceWarning: Objective did not converge. You might want to increase the number of iterations, check the scale of the features or consider increasing regularisation. Duality gap: 3.399e+05, tolerance: 3.405e+02\n",
      "  model = cd_fast.enet_coordinate_descent(\n",
      "c:\\Users\\gianm\\miniforge3\\envs\\test\\Lib\\site-packages\\sklearn\\linear_model\\_coordinate_descent.py:697: ConvergenceWarning: Objective did not converge. You might want to increase the number of iterations, check the scale of the features or consider increasing regularisation. Duality gap: 7.727e+04, tolerance: 1.014e+02\n",
      "  model = cd_fast.enet_coordinate_descent(\n"
     ]
    },
    {
     "name": "stdout",
     "output_type": "stream",
     "text": [
      "\n",
      "Fold 4\n",
      "RMSE: train=6.4948, val=6.5881\n",
      "NMSE: train=0.2088, val=0.2199\n",
      "\n",
      "Mean Validation Scores:\n",
      "mean_val_RMSE: 7.4683\n",
      "mean_val_NMSE: 0.2802\n"
     ]
    },
    {
     "name": "stderr",
     "output_type": "stream",
     "text": [
      "c:\\Users\\gianm\\miniforge3\\envs\\test\\Lib\\site-packages\\numpy\\_core\\fromnumeric.py:3860: RuntimeWarning: Mean of empty slice.\n",
      "  return _methods._mean(a, axis=axis, dtype=dtype,\n",
      "c:\\Users\\gianm\\miniforge3\\envs\\test\\Lib\\site-packages\\numpy\\_core\\_methods.py:145: RuntimeWarning: invalid value encountered in scalar divide\n",
      "  ret = ret.dtype.type(ret / rcount)\n"
     ]
    },
    {
     "ename": "NameError",
     "evalue": "name 'all_results' is not defined",
     "output_type": "error",
     "traceback": [
      "\u001b[1;31m---------------------------------------------------------------------------\u001b[0m",
      "\u001b[1;31mNameError\u001b[0m                                 Traceback (most recent call last)",
      "Cell \u001b[1;32mIn[13], line 8\u001b[0m\n\u001b[0;32m      6\u001b[0m \u001b[38;5;28mprint\u001b[39m(\u001b[38;5;124mf\u001b[39m\u001b[38;5;124m\"\u001b[39m\u001b[38;5;130;01m\\n\u001b[39;00m\u001b[38;5;124m--- Evaluating time_est\u001b[39m\u001b[38;5;132;01m{\u001b[39;00mi\u001b[38;5;132;01m}\u001b[39;00m\u001b[38;5;124m ---\u001b[39m\u001b[38;5;124m\"\u001b[39m)\n\u001b[0;32m      7\u001b[0m result \u001b[38;5;241m=\u001b[39m cross_validate_pipeline(pipeline, X_train_val, Y_train_val, metric_fns)\n\u001b[1;32m----> 8\u001b[0m \u001b[43mall_results\u001b[49m[\u001b[38;5;124mf\u001b[39m\u001b[38;5;124m'\u001b[39m\u001b[38;5;124mtime_est\u001b[39m\u001b[38;5;132;01m{\u001b[39;00mi\u001b[38;5;132;01m}\u001b[39;00m\u001b[38;5;124m'\u001b[39m] \u001b[38;5;241m=\u001b[39m result\n",
      "\u001b[1;31mNameError\u001b[0m: name 'all_results' is not defined"
     ]
    }
   ],
   "source": [
    "# --- Evaluation ---\n",
    "# X_train_val and Y_train_val must be loaded before calling this\n",
    "metric_fns = {'RMSE': RMSE, 'NMSE': NMSE}\n",
    "\n",
    "all_results = {}\n",
    "for i, pipeline in enumerate([time_est0, time_est1, time_est2, time_est3, time_est4, time_est5]):\n",
    "    print(f\"\\n--- Evaluating time_est{i} ---\")\n",
    "    result = cross_validate_pipeline(pipeline, X_train_val, Y_train_val, metric_fns)\n",
    "    all_results[f'time_est{i}'] = result"
   ]
  },
  {
   "cell_type": "markdown",
   "id": "f4fb85ea",
   "metadata": {},
   "source": [
    "### Riemannian geometry pipelines"
   ]
  },
  {
   "cell_type": "code",
   "execution_count": null,
   "id": "20eb30e3",
   "metadata": {},
   "outputs": [],
   "source": [
    "# # ----- Riemannian geometry of covariance matrices ----- #\n",
    "geom_est0 = Pipeline(\n",
    "    [\n",
    "        ('cov_matrices', pyriemann.estimation.Covariances()),\n",
    "        ('svr', MultiOutputRegressor(pyriemann.regression.SVR()))\n",
    "    ]\n",
    ")\n",
    "\n",
    "geom_est1 = Pipeline(\n",
    "    [\n",
    "        ('cov_matrices', pyriemann.estimation.Covariances()),\n",
    "        ('projection', pyriemann.tangentspace.TangentSpace(\n",
    "            metric = 'riemann',\n",
    "            tsupdate = True)),\n",
    "        ('kernel_ridge', KernelRidge(\n",
    "            kernel='laplacian'))\n",
    "    ]\n",
    ")\n",
    "\n",
    "geom_est2 = Pipeline(\n",
    "    [\n",
    "        ('cov_matrices', pyriemann.estimation.Covariances()),\n",
    "        ('projection', pyriemann.tangentspace.TangentSpace(\n",
    "            metric = 'riemann',\n",
    "            tsupdate = True)),\n",
    "        ('regressor', RandomForestRegressor())\n",
    "    ]\n",
    ")\n",
    "\n",
    "geom_est3 = Pipeline(\n",
    "    [\n",
    "        ('cov_matrices', pyriemann.estimation.Covariances()),\n",
    "        ('projection', pyriemann.tangentspace.TangentSpace(\n",
    "            metric = 'riemann',\n",
    "            tsupdate = True)),\n",
    "        ('regressor', Lasso())\n",
    "    ]\n",
    ")\n",
    "\n",
    "geom_est4 = Pipeline(\n",
    "    [\n",
    "        ('cov_matrices', pyriemann.estimation.Covariances()),\n",
    "        ('projection', pyriemann.tangentspace.TangentSpace(\n",
    "            metric = 'riemann',\n",
    "            tsupdate = True)),\n",
    "        ('regressor', MultiOutputRegressor(GradientBoostingRegressor()))\n",
    "    ]\n",
    ")"
   ]
  },
  {
   "cell_type": "code",
   "execution_count": null,
   "id": "c6a29de1",
   "metadata": {},
   "outputs": [],
   "source": [
    "print('Kernels for ridge:')\n",
    "display({'additive_chi2', 'polynomial', 'laplacian', 'poly', 'sigmoid', 'precomputed', 'cosine', 'rbf', 'linear', 'chi2'})\n",
    "print('Kernels for SVR:')\n",
    "display({'linear', 'poly', 'rbf', 'sigmoid'})"
   ]
  },
  {
   "cell_type": "markdown",
   "id": "f234b6e9",
   "metadata": {},
   "source": [
    "### Ensemble regressors"
   ]
  },
  {
   "cell_type": "code",
   "execution_count": null,
   "id": "31beb0b2",
   "metadata": {},
   "outputs": [],
   "source": [
    "ens_est0 = VotingRegressor(\n",
    "    estimators = [time_est5, geom_est1, geom_est4]\n",
    ")"
   ]
  },
  {
   "cell_type": "markdown",
   "id": "fe32c4c8",
   "metadata": {},
   "source": [
    "### Estimator validation"
   ]
  },
  {
   "cell_type": "code",
   "execution_count": null,
   "id": "90acc713",
   "metadata": {},
   "outputs": [],
   "source": [
    "pipeline = geom_est0 # change this to validate another pipeline\n",
    "\n",
    "results = {}\n",
    "for fold in range(4):\n",
    "    train_idx = [0,1,2,3]\n",
    "    train_idx.remove(fold)\n",
    "    val_idx = fold\n",
    "\n",
    "    X_train = X_train_val[train_idx].reshape(-1, *X_train_val.shape[2:])\n",
    "    Y_train = Y_train_val[train_idx].reshape(-1, *Y_train_val.shape[2:])\n",
    "    X_val = X_train_val[val_idx]\n",
    "    Y_val = Y_train_val[val_idx]\n",
    "    \n",
    "    pipeline.fit(X_train, Y_train)\n",
    "    Y_train_pred = pipeline.predict(X_train)\n",
    "    Y_val_pred = pipeline.predict(X_val)\n",
    "    print(f\"Fold {fold+1}\\n.\\\n",
    "          train RMSE:\\t{RMSE(Y_train_pred, Y_train):.4f}\\ttrain NMSE:\\t{NMSE(Y_train_pred, Y_train):.4f}\\n.\\\n",
    "            val RMSE:\\t{RMSE(Y_val_pred, Y_val):.4f}\\tval NMSE:\\t{NMSE(Y_val_pred, Y_val):.4f}\")\n",
    "    \n",
    "    results[fold] = {\n",
    "        'train_RMSE': RMSE(Y_train_pred, Y_train),\n",
    "        'train_NMSE': NMSE(Y_train_pred, Y_train),\n",
    "        'val_RMSE': RMSE(Y_val_pred, Y_val),\n",
    "        'val_NMSE': NMSE(Y_val_pred, Y_val),\n",
    "    }\n",
    "\n",
    "mean_val_RMSE = np.mean([dic['val_RMSE'] for dic in results.values()])\n",
    "mean_val_NMSE = np.mean([dic['val_NMSE'] for dic in results.values()])\n",
    "print('Mean val RMSE:', mean_val_RMSE)\n",
    "print('Mean val NMSE:', mean_val_NMSE)"
   ]
  },
  {
   "cell_type": "markdown",
   "id": "111a49a0",
   "metadata": {},
   "source": [
    "### Visualizing predictions to unseen data"
   ]
  },
  {
   "cell_type": "code",
   "execution_count": null,
   "id": "2d3dc537",
   "metadata": {},
   "outputs": [],
   "source": [
    "X_train_val_flat = X_train_val.reshape(-1, *X_train_val.shape[2:])\n",
    "Y_train_val_flat = Y_train_val.reshape(-1, *Y_train_val.shape[2:])\n",
    "\n",
    "pipeline.fit(X_train_val_flat, Y_train_val_flat)\n",
    "Y_train_pred = pipeline.predict(X_train_val_flat)\n",
    "Y_test_pred = pipeline.predict(X_test)\n",
    "\n",
    "print(f\"train RMSE:\\t{RMSE(Y_train_pred, Y_train_val_flat):.4f}\\ttrain NMSE:\\t{NMSE(Y_train_pred, Y_train_val_flat):.4f}\\ntest RMSE:\\t{RMSE(Y_test_pred, Y_test):.4f}\\ttest NMSE:\\t{NMSE(Y_test_pred, Y_test):.4f}\")"
   ]
  },
  {
   "cell_type": "code",
   "execution_count": null,
   "id": "624edfd8",
   "metadata": {},
   "outputs": [],
   "source": [
    "from visualization_tools import scatter_3d_points\n",
    "import matplotlib.pyplot as plt\n",
    "%matplotlib ipympl\n",
    "\n",
    "bone = 6\n",
    "Y_true_bone = Y_test[:,3*bone:3*(bone+1)]\n",
    "Y_pred_bone = Y_test_pred[:,3*bone:3*(bone+1)]\n",
    "\n",
    "print(f'RMSE for bone {bone}:', RMSE(Y_pred_bone, Y_true_bone))\n",
    "print(f'NMSE for bone {bone}:', NMSE(Y_pred_bone, Y_true_bone))\n",
    "\n",
    "ax = scatter_3d_points(Y_true_bone, color = 'b')\n",
    "scatter_3d_points(Y_pred_bone, color = 'r', ax = ax)\n",
    "# ax.set_xlim3d(-50, 50)\n",
    "# ax.set_ylim3d(-50, 50)\n",
    "# ax.set_zlim3d(-50, 50)\n",
    "plt.show()"
   ]
  }
 ],
 "metadata": {
  "kernelspec": {
   "display_name": "test",
   "language": "python",
   "name": "python3"
  },
  "language_info": {
   "codemirror_mode": {
    "name": "ipython",
    "version": 3
   },
   "file_extension": ".py",
   "mimetype": "text/x-python",
   "name": "python",
   "nbconvert_exporter": "python",
   "pygments_lexer": "ipython3",
   "version": "3.12.7"
  }
 },
 "nbformat": 4,
 "nbformat_minor": 5
}

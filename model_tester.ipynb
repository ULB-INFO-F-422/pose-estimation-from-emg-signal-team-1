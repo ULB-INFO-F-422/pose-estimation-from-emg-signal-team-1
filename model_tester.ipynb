{
 "cells": [
  {
   "cell_type": "code",
   "execution_count": null,
   "id": "eeac7663",
   "metadata": {},
   "outputs": [],
   "source": [
    "import torch\n",
    "import numpy as np\n",
    "\n",
    "from prep import TimeWindowTransformer, LabelWindowExtractor\n",
    "from models import ConvNN, CrossValidationManager"
   ]
  },
  {
   "cell_type": "code",
   "execution_count": null,
   "id": "401e52bc",
   "metadata": {},
   "outputs": [],
   "source": [
    "# === Dataset Class ===\n",
    "class EMGDataset(torch.utils.data.Dataset):\n",
    "    def __init__(self, X, y, standardize=True):\n",
    "        self.X = torch.tensor(X, dtype=torch.float32)\n",
    "        self.y = torch.tensor(y, dtype=torch.float32)\n",
    "        if standardize:\n",
    "            mean = self.X.mean(dim=(0, 2), keepdim=True)\n",
    "            std = self.X.std(dim=(0, 2), keepdim=True)\n",
    "            self.X = (self.X - mean) / (std + 1e-8)\n",
    "\n",
    "    def __len__(self):\n",
    "        return len(self.X)\n",
    "\n",
    "    def __getitem__(self, idx):\n",
    "        return self.X[idx], self.y[idx]\n",
    "\n",
    "# Model and training configs\n",
    "training_config = {\n",
    "    \"lr\": 1e-3,\n",
    "    \"epochs\": 100,\n",
    "    \"batch_size\": 64,\n",
    "    \"log_every\": 1\n",
    "}"
   ]
  },
  {
   "cell_type": "code",
   "execution_count": null,
   "id": "5709c5f7",
   "metadata": {},
   "outputs": [],
   "source": [
    "DATASET = 'freemoves'\n",
    "# FILTER = '_filt'\n",
    "X_PATH = f'data/{DATASET}/{DATASET}_dataset_X.npy'\n",
    "Y_PATH = f'data/{DATASET}/{DATASET}_dataset_Y.npy'\n",
    "\n",
    "X = np.load(X_PATH)\n",
    "Y = np.load(Y_PATH)\n",
    "\n",
    "tw_extractor = TimeWindowTransformer(size = 500, step = 100)\n",
    "label_extractor = LabelWindowExtractor(size = 500, step = 100)\n",
    "\n",
    "X_windows = tw_extractor.transform(X)\n",
    "Y_labels = label_extractor.transform(Y)\n",
    "\n",
    "train_val_idx = [0,1,2,4]\n",
    "test_idx = 3\n",
    "\n",
    "X_train_val = X_windows[train_val_idx].reshape(-1, *X_windows.shape[2:])\n",
    "Y_train_val = Y_labels[train_val_idx].reshape(-1, *Y_labels.shape[2:])\n",
    "\n",
    "X_test = X_windows[test_idx]\n",
    "Y_test = Y_labels[test_idx]\n",
    "\n",
    "print(X_train_val.shape)\n",
    "print(Y_train_val.shape)\n",
    "print(X_test.shape)\n",
    "print(Y_test.shape)"
   ]
  },
  {
   "cell_type": "code",
   "execution_count": null,
   "id": "c8142ddf",
   "metadata": {},
   "outputs": [],
   "source": [
    "cv = CrossValidationManager(\n",
    "    model_class = ConvNN,\n",
    "    model_config = {'end_dim': 51},\n",
    "    data = X_train_val,\n",
    "    labels = Y_train_val,\n",
    "    training_config = training_config,\n",
    "    dataset_class = EMGDataset,\n",
    "    n_folds = 4\n",
    ")\n",
    "\n",
    "cv.run()"
   ]
  }
 ],
 "metadata": {
  "kernelspec": {
   "display_name": "bgda",
   "language": "python",
   "name": "python3"
  },
  "language_info": {
   "codemirror_mode": {
    "name": "ipython",
    "version": 3
   },
   "file_extension": ".py",
   "mimetype": "text/x-python",
   "name": "python",
   "nbconvert_exporter": "python",
   "pygments_lexer": "ipython3",
   "version": "3.13.2"
  }
 },
 "nbformat": 4,
 "nbformat_minor": 5
}

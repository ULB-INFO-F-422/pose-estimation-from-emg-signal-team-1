{
 "cells": [
  {
   "cell_type": "code",
   "execution_count": 1,
   "id": "eeac7663",
   "metadata": {},
   "outputs": [],
   "source": [
    "import torch\n",
    "import numpy as np\n",
    "\n",
    "from prep import TimeWindowTransformer, LabelWindowExtractor"
   ]
  },
  {
   "cell_type": "markdown",
   "id": "bcdbdf87",
   "metadata": {},
   "source": [
    "### Testing new class"
   ]
  },
  {
   "cell_type": "code",
   "execution_count": 2,
   "id": "fe76dee9",
   "metadata": {},
   "outputs": [
    {
     "name": "stdout",
     "output_type": "stream",
     "text": [
      "(10784, 8, 500)\n",
      "(10784, 51)\n",
      "(2696, 8, 500)\n",
      "(2696, 51)\n"
     ]
    }
   ],
   "source": [
    "PATH = f'/Users/marco/PROJECTS/data/'\n",
    "# PATH = r'C:\\Users\\gianm\\Documents\\Uni\\Big Data\\F422\\project\\data\\\\'\n",
    "DATASET = 'freemoves' # change this to guided/freemoves if needed\n",
    "\n",
    "X = np.load(PATH + f'{DATASET}/{DATASET}_dataset_X.npy')\n",
    "Y = np.load(PATH + f'{DATASET}/{DATASET}_dataset_Y.npy')\n",
    "\n",
    "tw_extractor = TimeWindowTransformer(size = 500, step = 100)\n",
    "label_extractor = LabelWindowExtractor(size = 500, step = 100)\n",
    "\n",
    "X_windows = tw_extractor.transform(X)\n",
    "Y_labels = label_extractor.transform(Y)\n",
    "\n",
    "train_val_idx = [0,1,2,4]\n",
    "test_idx = 3\n",
    "\n",
    "X_train_val = X_windows[train_val_idx].reshape(-1, *X_windows.shape[2:])\n",
    "Y_train_val = Y_labels[train_val_idx].reshape(-1, *Y_labels.shape[2:])\n",
    "\n",
    "X_test = X_windows[test_idx]\n",
    "Y_test = Y_labels[test_idx]\n",
    "\n",
    "print(X_train_val.shape)\n",
    "print(Y_train_val.shape)\n",
    "print(X_test.shape)\n",
    "print(Y_test.shape)"
   ]
  },
  {
   "cell_type": "code",
   "execution_count": 3,
   "id": "498487b3",
   "metadata": {},
   "outputs": [
    {
     "name": "stdout",
     "output_type": "stream",
     "text": [
      "EPOCH  1\n"
     ]
    },
    {
     "ename": "NameError",
     "evalue": "name 'torch' is not defined",
     "output_type": "error",
     "traceback": [
      "\u001b[31m---------------------------------------------------------------------------\u001b[39m",
      "\u001b[31mNameError\u001b[39m                                 Traceback (most recent call last)",
      "\u001b[36mCell\u001b[39m\u001b[36m \u001b[39m\u001b[32mIn[3]\u001b[39m\u001b[32m, line 15\u001b[39m\n\u001b[32m      3\u001b[39m \u001b[38;5;28;01mfrom\u001b[39;00m\u001b[38;5;250m \u001b[39m\u001b[34;01mmodels\u001b[39;00m\u001b[38;5;250m \u001b[39m\u001b[38;5;28;01mimport\u001b[39;00m ConvNN\n\u001b[32m      5\u001b[39m my_NNRegressor = NNRegressor(\n\u001b[32m      6\u001b[39m     model_class=ConvNN,\n\u001b[32m      7\u001b[39m     model_parameters={\u001b[33m'\u001b[39m\u001b[33mend_dim\u001b[39m\u001b[33m'\u001b[39m: \u001b[32m51\u001b[39m},\n\u001b[32m   (...)\u001b[39m\u001b[32m     12\u001b[39m     patience = \u001b[32m10\u001b[39m\n\u001b[32m     13\u001b[39m )\n\u001b[32m---> \u001b[39m\u001b[32m15\u001b[39m \u001b[43mmy_NNRegressor\u001b[49m\u001b[43m.\u001b[49m\u001b[43mfit\u001b[49m\u001b[43m(\u001b[49m\u001b[43mX_train_val\u001b[49m\u001b[43m,\u001b[49m\u001b[43m \u001b[49m\u001b[43mY_train_val\u001b[49m\u001b[43m)\u001b[49m\n",
      "\u001b[36mFile \u001b[39m\u001b[32m~/PROJECTS/pose-estimation-from-emg-signal-team-1/regressors.py:58\u001b[39m, in \u001b[36mNNRegressor.fit\u001b[39m\u001b[34m(self, X, y)\u001b[39m\n\u001b[32m     56\u001b[39m optimizer.zero_grad()\n\u001b[32m     57\u001b[39m preds = model(Xb)\n\u001b[32m---> \u001b[39m\u001b[32m58\u001b[39m loss = \u001b[43mcriterion\u001b[49m\u001b[43m(\u001b[49m\u001b[43mpreds\u001b[49m\u001b[43m,\u001b[49m\u001b[43m \u001b[49m\u001b[43mYb\u001b[49m\u001b[43m)\u001b[49m\n\u001b[32m     59\u001b[39m loss.backward()\n\u001b[32m     60\u001b[39m optimizer.step()\n",
      "\u001b[36mFile \u001b[39m\u001b[32m~/ENV/bgda/lib/python3.13/site-packages/torch/nn/modules/module.py:1755\u001b[39m, in \u001b[36mModule._wrapped_call_impl\u001b[39m\u001b[34m(self, *args, **kwargs)\u001b[39m\n\u001b[32m   1753\u001b[39m     \u001b[38;5;28;01mreturn\u001b[39;00m \u001b[38;5;28mself\u001b[39m._compiled_call_impl(*args, **kwargs)  \u001b[38;5;66;03m# type: ignore[misc]\u001b[39;00m\n\u001b[32m   1754\u001b[39m \u001b[38;5;28;01melse\u001b[39;00m:\n\u001b[32m-> \u001b[39m\u001b[32m1755\u001b[39m     \u001b[38;5;28;01mreturn\u001b[39;00m \u001b[38;5;28;43mself\u001b[39;49m\u001b[43m.\u001b[49m\u001b[43m_call_impl\u001b[49m\u001b[43m(\u001b[49m\u001b[43m*\u001b[49m\u001b[43margs\u001b[49m\u001b[43m,\u001b[49m\u001b[43m \u001b[49m\u001b[43m*\u001b[49m\u001b[43m*\u001b[49m\u001b[43mkwargs\u001b[49m\u001b[43m)\u001b[49m\n",
      "\u001b[36mFile \u001b[39m\u001b[32m~/ENV/bgda/lib/python3.13/site-packages/torch/nn/modules/module.py:1766\u001b[39m, in \u001b[36mModule._call_impl\u001b[39m\u001b[34m(self, *args, **kwargs)\u001b[39m\n\u001b[32m   1761\u001b[39m \u001b[38;5;66;03m# If we don't have any hooks, we want to skip the rest of the logic in\u001b[39;00m\n\u001b[32m   1762\u001b[39m \u001b[38;5;66;03m# this function, and just call forward.\u001b[39;00m\n\u001b[32m   1763\u001b[39m \u001b[38;5;28;01mif\u001b[39;00m \u001b[38;5;129;01mnot\u001b[39;00m (\u001b[38;5;28mself\u001b[39m._backward_hooks \u001b[38;5;129;01mor\u001b[39;00m \u001b[38;5;28mself\u001b[39m._backward_pre_hooks \u001b[38;5;129;01mor\u001b[39;00m \u001b[38;5;28mself\u001b[39m._forward_hooks \u001b[38;5;129;01mor\u001b[39;00m \u001b[38;5;28mself\u001b[39m._forward_pre_hooks\n\u001b[32m   1764\u001b[39m         \u001b[38;5;129;01mor\u001b[39;00m _global_backward_pre_hooks \u001b[38;5;129;01mor\u001b[39;00m _global_backward_hooks\n\u001b[32m   1765\u001b[39m         \u001b[38;5;129;01mor\u001b[39;00m _global_forward_hooks \u001b[38;5;129;01mor\u001b[39;00m _global_forward_pre_hooks):\n\u001b[32m-> \u001b[39m\u001b[32m1766\u001b[39m     \u001b[38;5;28;01mreturn\u001b[39;00m \u001b[43mforward_call\u001b[49m\u001b[43m(\u001b[49m\u001b[43m*\u001b[49m\u001b[43margs\u001b[49m\u001b[43m,\u001b[49m\u001b[43m \u001b[49m\u001b[43m*\u001b[49m\u001b[43m*\u001b[49m\u001b[43mkwargs\u001b[49m\u001b[43m)\u001b[49m\n\u001b[32m   1768\u001b[39m result = \u001b[38;5;28;01mNone\u001b[39;00m\n\u001b[32m   1769\u001b[39m called_always_called_hooks = \u001b[38;5;28mset\u001b[39m()\n",
      "\u001b[36mFile \u001b[39m\u001b[32m~/PROJECTS/pose-estimation-from-emg-signal-team-1/loss_functions.py:19\u001b[39m, in \u001b[36mRMSELoss.forward\u001b[39m\u001b[34m(self, y_pred, y_true)\u001b[39m\n\u001b[32m     17\u001b[39m \u001b[38;5;28;01mdef\u001b[39;00m\u001b[38;5;250m \u001b[39m\u001b[34mforward\u001b[39m(\u001b[38;5;28mself\u001b[39m, y_pred, y_true):\n\u001b[32m     18\u001b[39m     mse_loss = \u001b[38;5;28mself\u001b[39m.mse(y_pred, y_true)\n\u001b[32m---> \u001b[39m\u001b[32m19\u001b[39m     \u001b[38;5;28;01mreturn\u001b[39;00m \u001b[43mtorch\u001b[49m.sqrt(mse_loss)\n",
      "\u001b[31mNameError\u001b[39m: name 'torch' is not defined"
     ]
    }
   ],
   "source": [
    "from regressors import NNRegressor\n",
    "from loss_functions import RMSELoss, NMSELoss\n",
    "from models import ConvNN\n",
    "\n",
    "my_NNRegressor = NNRegressor(\n",
    "    model_class=ConvNN,\n",
    "    model_parameters={'end_dim': 51},\n",
    "    loss_fnc=RMSELoss(),\n",
    "    batch_size = 50,\n",
    "    learning_rate = 0.001,\n",
    "    max_epochs = 100,\n",
    "    patience = 10\n",
    ")\n",
    "\n",
    "my_NNRegressor.fit(X_train_val, Y_train_val)"
   ]
  },
  {
   "cell_type": "code",
   "execution_count": 4,
   "id": "1dd32865",
   "metadata": {},
   "outputs": [
    {
     "ename": "TypeError",
     "evalue": "Expected state_dict to be dict-like, got <class 'NoneType'>.",
     "output_type": "error",
     "traceback": [
      "\u001b[31m---------------------------------------------------------------------------\u001b[39m",
      "\u001b[31mTypeError\u001b[39m                                 Traceback (most recent call last)",
      "\u001b[36mCell\u001b[39m\u001b[36m \u001b[39m\u001b[32mIn[4]\u001b[39m\u001b[32m, line 3\u001b[39m\n\u001b[32m      1\u001b[39m \u001b[38;5;28;01mfrom\u001b[39;00m\u001b[38;5;250m \u001b[39m\u001b[34;01mvalidation\u001b[39;00m\u001b[38;5;250m \u001b[39m\u001b[38;5;28;01mimport\u001b[39;00m RMSE, NMSE\n\u001b[32m----> \u001b[39m\u001b[32m3\u001b[39m Y_test_pred = \u001b[43mmy_NNRegressor\u001b[49m\u001b[43m.\u001b[49m\u001b[43mpredict\u001b[49m\u001b[43m(\u001b[49m\u001b[43mX_test\u001b[49m\u001b[43m)\u001b[49m\n\u001b[32m      5\u001b[39m \u001b[38;5;28mprint\u001b[39m(RMSE(Y_test_pred, Y_test))\n\u001b[32m      6\u001b[39m \u001b[38;5;28mprint\u001b[39m(NMSE(Y_test_pred, Y_test))\n",
      "\u001b[36mFile \u001b[39m\u001b[32m~/PROJECTS/pose-estimation-from-emg-signal-team-1/regressors.py:81\u001b[39m, in \u001b[36mNNRegressor.predict\u001b[39m\u001b[34m(self, X)\u001b[39m\n\u001b[32m     78\u001b[39m model.eval()\n\u001b[32m     80\u001b[39m \u001b[38;5;66;03m# load best model parameters\u001b[39;00m\n\u001b[32m---> \u001b[39m\u001b[32m81\u001b[39m \u001b[43mmodel\u001b[49m\u001b[43m.\u001b[49m\u001b[43mload_state_dict\u001b[49m\u001b[43m(\u001b[49m\u001b[38;5;28;43mself\u001b[39;49m\u001b[43m.\u001b[49m\u001b[43mbest_model\u001b[49m\u001b[43m)\u001b[49m\n\u001b[32m     83\u001b[39m \u001b[38;5;66;03m# compute predictions\u001b[39;00m\n\u001b[32m     84\u001b[39m XX = torch.tensor(X, dtype=torch.float, device=\u001b[38;5;28mself\u001b[39m.device)\n",
      "\u001b[36mFile \u001b[39m\u001b[32m~/ENV/bgda/lib/python3.13/site-packages/torch/nn/modules/module.py:2529\u001b[39m, in \u001b[36mModule.load_state_dict\u001b[39m\u001b[34m(self, state_dict, strict, assign)\u001b[39m\n\u001b[32m   2492\u001b[39m \u001b[38;5;250m\u001b[39m\u001b[33mr\u001b[39m\u001b[33;03m\"\"\"Copy parameters and buffers from :attr:`state_dict` into this module and its descendants.\u001b[39;00m\n\u001b[32m   2493\u001b[39m \n\u001b[32m   2494\u001b[39m \u001b[33;03mIf :attr:`strict` is ``True``, then\u001b[39;00m\n\u001b[32m   (...)\u001b[39m\u001b[32m   2526\u001b[39m \u001b[33;03m    ``RuntimeError``.\u001b[39;00m\n\u001b[32m   2527\u001b[39m \u001b[33;03m\"\"\"\u001b[39;00m\n\u001b[32m   2528\u001b[39m \u001b[38;5;28;01mif\u001b[39;00m \u001b[38;5;129;01mnot\u001b[39;00m \u001b[38;5;28misinstance\u001b[39m(state_dict, Mapping):\n\u001b[32m-> \u001b[39m\u001b[32m2529\u001b[39m     \u001b[38;5;28;01mraise\u001b[39;00m \u001b[38;5;167;01mTypeError\u001b[39;00m(\n\u001b[32m   2530\u001b[39m         \u001b[33mf\u001b[39m\u001b[33m\"\u001b[39m\u001b[33mExpected state_dict to be dict-like, got \u001b[39m\u001b[38;5;132;01m{\u001b[39;00m\u001b[38;5;28mtype\u001b[39m(state_dict)\u001b[38;5;132;01m}\u001b[39;00m\u001b[33m.\u001b[39m\u001b[33m\"\u001b[39m\n\u001b[32m   2531\u001b[39m     )\n\u001b[32m   2533\u001b[39m missing_keys: \u001b[38;5;28mlist\u001b[39m[\u001b[38;5;28mstr\u001b[39m] = []\n\u001b[32m   2534\u001b[39m unexpected_keys: \u001b[38;5;28mlist\u001b[39m[\u001b[38;5;28mstr\u001b[39m] = []\n",
      "\u001b[31mTypeError\u001b[39m: Expected state_dict to be dict-like, got <class 'NoneType'>."
     ]
    }
   ],
   "source": [
    "from validation import RMSE, NMSE\n",
    "\n",
    "Y_test_pred = my_NNRegressor.predict(X_test)\n",
    "\n",
    "print(RMSE(Y_test_pred, Y_test))\n",
    "print(NMSE(Y_test_pred, Y_test))"
   ]
  },
  {
   "cell_type": "code",
   "execution_count": null,
   "id": "401e52bc",
   "metadata": {},
   "outputs": [],
   "source": [
    "# === Dataset Class ===\n",
    "class EMGDataset(torch.utils.data.Dataset):\n",
    "    def __init__(self, X, y, standardize=True):\n",
    "        self.X = torch.tensor(X, dtype=torch.float32)\n",
    "        self.y = torch.tensor(y, dtype=torch.float32)\n",
    "        if standardize:\n",
    "            mean = self.X.mean(dim=(0, 2), keepdim=True)\n",
    "            std = self.X.std(dim=(0, 2), keepdim=True)\n",
    "            self.X = (self.X - mean) / (std + 1e-8)\n",
    "\n",
    "    def __len__(self):\n",
    "        return len(self.X)\n",
    "\n",
    "    def __getitem__(self, idx):\n",
    "        return self.X[idx], self.y[idx]\n",
    "\n",
    "# Model and training configs\n",
    "training_config = {\n",
    "    \"lr\": 1e-3,\n",
    "    \"epochs\": 100,\n",
    "    \"batch_size\": 64,\n",
    "    \"log_every\": 1\n",
    "}"
   ]
  },
  {
   "cell_type": "code",
   "execution_count": null,
   "id": "5709c5f7",
   "metadata": {},
   "outputs": [],
   "source": [
    "DATASET = 'freemoves'\n",
    "# FILTER = '_filt'\n",
    "X_PATH = f'data/{DATASET}/{DATASET}_dataset_X.npy'\n",
    "Y_PATH = f'data/{DATASET}/{DATASET}_dataset_Y.npy'\n",
    "\n",
    "X = np.load(X_PATH)\n",
    "Y = np.load(Y_PATH)\n",
    "\n",
    "tw_extractor = TimeWindowTransformer(size = 500, step = 100)\n",
    "label_extractor = LabelWindowExtractor(size = 500, step = 100)\n",
    "\n",
    "X_windows = tw_extractor.transform(X)\n",
    "Y_labels = label_extractor.transform(Y)\n",
    "\n",
    "train_val_idx = [0,1,2,4]\n",
    "test_idx = 3\n",
    "\n",
    "X_train_val = X_windows[train_val_idx].reshape(-1, *X_windows.shape[2:])\n",
    "Y_train_val = Y_labels[train_val_idx].reshape(-1, *Y_labels.shape[2:])\n",
    "\n",
    "X_test = X_windows[test_idx]\n",
    "Y_test = Y_labels[test_idx]\n",
    "\n",
    "print(X_train_val.shape)\n",
    "print(Y_train_val.shape)\n",
    "print(X_test.shape)\n",
    "print(Y_test.shape)"
   ]
  },
  {
   "cell_type": "code",
   "execution_count": null,
   "id": "c8142ddf",
   "metadata": {},
   "outputs": [],
   "source": [
    "cv = CrossValidationManager(\n",
    "    model_class = ConvNN,\n",
    "    model_config = {'end_dim': 51},\n",
    "    data = X_train_val,\n",
    "    labels = Y_train_val,\n",
    "    training_config = training_config,\n",
    "    dataset_class = EMGDataset,\n",
    "    n_folds = 4\n",
    ")\n",
    "\n",
    "cv.run()"
   ]
  }
 ],
 "metadata": {
  "kernelspec": {
   "display_name": "bgda",
   "language": "python",
   "name": "python3"
  },
  "language_info": {
   "codemirror_mode": {
    "name": "ipython",
    "version": 3
   },
   "file_extension": ".py",
   "mimetype": "text/x-python",
   "name": "python",
   "nbconvert_exporter": "python",
   "pygments_lexer": "ipython3",
   "version": "3.13.2"
  }
 },
 "nbformat": 4,
 "nbformat_minor": 5
}

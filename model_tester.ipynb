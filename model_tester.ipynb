{
 "cells": [
  {
   "cell_type": "code",
   "execution_count": null,
   "id": "eeac7663",
   "metadata": {},
   "outputs": [],
   "source": [
    "import torch\n",
    "import numpy as np\n",
    "\n",
    "from prep import TimeWindowTransformer, LabelWindowExtractor\n",
    "\n",
    "from regressors import NNRegressor\n",
    "from loss_functions import RMSELoss, NMSELoss\n",
    "from models import ConvNN, EMGConvNet, EMGConvNet2D\n",
    "\n",
    "from validation import RMSE, NMSE"
   ]
  },
  {
   "cell_type": "markdown",
   "id": "bcdbdf87",
   "metadata": {},
   "source": [
    "### Loading, windowing, splitting"
   ]
  },
  {
   "cell_type": "code",
   "execution_count": null,
   "id": "fe76dee9",
   "metadata": {},
   "outputs": [],
   "source": [
    "PATH = f'/Users/marco/PROJECTS/data/'\n",
    "# PATH = r'C:\\Users\\gianm\\Documents\\Uni\\Big Data\\F422\\project\\data\\\\'\n",
    "DATASET = 'freemoves' # change this to guided/freemoves if needed\n",
    "\n",
    "X = np.load(PATH + f'{DATASET}/{DATASET}_dataset_X.npy')\n",
    "Y = np.load(PATH + f'{DATASET}/{DATASET}_dataset_Y.npy')\n",
    "\n",
    "tw_extractor = TimeWindowTransformer(size = 500, step = 100)\n",
    "label_extractor = LabelWindowExtractor(size = 500, step = 100)\n",
    "\n",
    "X_windows = tw_extractor.transform(X)\n",
    "Y_labels = label_extractor.transform(Y)\n",
    "\n",
    "train_val_idx = [0,1,2,3]\n",
    "test_idx = 4\n",
    "\n",
    "X_train_val = X_windows[train_val_idx].reshape(-1, *X_windows.shape[2:])\n",
    "Y_train_val = Y_labels[train_val_idx].reshape(-1, *Y_labels.shape[2:])\n",
    "\n",
    "X_test = X_windows[test_idx]\n",
    "Y_test = Y_labels[test_idx]\n",
    "\n",
    "print(X_train_val.shape)\n",
    "print(Y_train_val.shape)\n",
    "print(X_test.shape)\n",
    "print(Y_test.shape)"
   ]
  },
  {
   "cell_type": "markdown",
   "id": "156980c0",
   "metadata": {},
   "source": [
    "### Testing Marco's model"
   ]
  },
  {
   "cell_type": "code",
   "execution_count": null,
   "id": "498487b3",
   "metadata": {},
   "outputs": [],
   "source": [
    "my_NNRegressor = NNRegressor(\n",
    "    model_class=ConvNN,\n",
    "    model_parameters={'end_dim': 51},\n",
    "    loss_fnc=RMSELoss(),\n",
    "    batch_size = 50,\n",
    "    learning_rate = 0.001,\n",
    "    max_epochs = 50,\n",
    "    patience = 10\n",
    ")\n",
    "\n",
    "my_NNRegressor.fit_with_validation(X_train_val, Y_train_val, X_test, Y_test)"
   ]
  },
  {
   "cell_type": "code",
   "execution_count": null,
   "id": "1dd32865",
   "metadata": {},
   "outputs": [],
   "source": [
    "# test on unseen data\n",
    "Y_test_pred = my_NNRegressor.predict(X_test)\n",
    "\n",
    "print(RMSE(Y_test_pred, Y_test))\n",
    "print(NMSE(Y_test_pred, Y_test))"
   ]
  },
  {
   "cell_type": "markdown",
   "id": "70b84af1",
   "metadata": {},
   "source": [
    "### Testing Thomas' models"
   ]
  },
  {
   "cell_type": "code",
   "execution_count": null,
   "id": "016598fe",
   "metadata": {},
   "outputs": [],
   "source": [
    "model_config = {\n",
    "    \"conv_layers_config\": [(16, 5, 1), (32, 5, 2)],\n",
    "    \"fc_layers_config\": [512, 256, 128, 64],\n",
    "    \"output_dim\": 51,\n",
    "    \"verbose\": False\n",
    "}\n",
    "\n",
    "my_NNRegressor = NNRegressor(\n",
    "    model_class=EMGConvNet,\n",
    "    model_parameters=model_config,\n",
    "    loss_fnc=RMSELoss(),\n",
    "    batch_size = 50,\n",
    "    learning_rate = 0.001,\n",
    "    max_epochs = 50,\n",
    "    patience = 10\n",
    ")\n",
    "\n",
    "# this shows the validation directly during training to gauge overfit/underfit\n",
    "my_NNRegressor.fit_with_validation(X_train_val, Y_train_val)"
   ]
  }
 ],
 "metadata": {
  "kernelspec": {
   "display_name": "bgda",
   "language": "python",
   "name": "python3"
  },
  "language_info": {
   "codemirror_mode": {
    "name": "ipython",
    "version": 3
   },
   "file_extension": ".py",
   "mimetype": "text/x-python",
   "name": "python",
   "nbconvert_exporter": "python",
   "pygments_lexer": "ipython3",
   "version": "3.13.2"
  }
 },
 "nbformat": 4,
 "nbformat_minor": 5
}

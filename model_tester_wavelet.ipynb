{
 "cells": [
  {
   "cell_type": "code",
   "execution_count": 1,
   "id": "eeac7663",
   "metadata": {},
   "outputs": [],
   "source": [
    "import numpy as np\n",
    "\n",
    "from prep import TimeWindowTransformer, LabelWindowExtractor\n",
    "\n",
    "from validation import RMSE, NMSE, cross_validate_NN"
   ]
  },
  {
   "cell_type": "markdown",
   "id": "bcdbdf87",
   "metadata": {},
   "source": [
    "### Loading, windowing"
   ]
  },
  {
   "cell_type": "code",
   "execution_count": 2,
   "id": "fe76dee9",
   "metadata": {},
   "outputs": [],
   "source": [
    "# PATH = f'/Users/marco/PROJECTS/data/'\n",
    "PATH = r'C:\\Users\\gianm\\Documents\\Uni\\Big Data\\F422\\project\\data\\\\'\n",
    "DATASET = 'freemoves' # change this to guided/freemoves if needed\n",
    "\n",
    "X = np.load(PATH + f'{DATASET}/{DATASET}_dataset_X.npy')\n",
    "Y = np.load(PATH + f'{DATASET}/{DATASET}_dataset_Y.npy')\n",
    "\n",
    "tw_extractor = TimeWindowTransformer(size = 500, step = 100)\n",
    "label_extractor = LabelWindowExtractor(size = 500, step = 100)\n",
    "\n",
    "X_windows = tw_extractor.transform(X)\n",
    "Y_labels = label_extractor.transform(Y)\n",
    "\n",
    "train_val_idx = [0,1,2,3]\n",
    "test_idx = 4\n",
    "\n",
    "X_train_val_folds = X_windows[train_val_idx]\n",
    "Y_train_val_folds = Y_labels[train_val_idx]\n",
    "\n",
    "X_test = X_windows[test_idx]\n",
    "Y_test = Y_labels[test_idx]"
   ]
  },
  {
   "cell_type": "code",
   "execution_count": 3,
   "id": "1dd32865",
   "metadata": {},
   "outputs": [],
   "source": [
    "from prep import TimeDomainTransformer\n",
    "\n",
    "from sklearn.pipeline import Pipeline\n",
    "from sklearn.preprocessing import StandardScaler\n",
    "from sklearn.neighbors import KNeighborsRegressor\n",
    "from sklearn.ensemble import RandomForestRegressor\n",
    "from sklearn.kernel_ridge import KernelRidge\n",
    "\n",
    "from validation import RMSE, NMSE, cross_validate_pipeline\n",
    "\n",
    "baseline1 = Pipeline(\n",
    "    [\n",
    "        ('feature_extraction', TimeDomainTransformer(sigma_mpr=0.3)),\n",
    "        ('scaler', StandardScaler()),\n",
    "        ('regressor', KernelRidge(\n",
    "            alpha = 0.001,\n",
    "            kernel='laplacian'))\n",
    "    ]\n",
    ")\n",
    "\n",
    "baseline2 = Pipeline(\n",
    "    [\n",
    "        ('feature_extraction', TimeDomainTransformer(sigma_mpr=0.3)),\n",
    "        ('scaler', StandardScaler()),\n",
    "        ('regressor', KNeighborsRegressor())\n",
    "    ]\n",
    ")\n",
    "\n",
    "baseline3 = Pipeline(\n",
    "    [\n",
    "        ('feature_extraction', TimeDomainTransformer()),\n",
    "        ('scaler', StandardScaler()),\n",
    "        ('regressor', RandomForestRegressor())\n",
    "    ])"
   ]
  },
  {
   "cell_type": "code",
   "execution_count": 4,
   "id": "177cdaa0",
   "metadata": {},
   "outputs": [
    {
     "name": "stdout",
     "output_type": "stream",
     "text": [
      "\n",
      "Model: Time domain features + Kernel Ridge\n",
      "\n",
      "Average Scores across folds:\n",
      "RMSE: train=0.0570, val=11.0242\n",
      "NMSE: train=0.0000, val=0.8166\n",
      "\n",
      "Model: Time domain features + KNN\n",
      "\n",
      "Average Scores across folds:\n",
      "RMSE: train=4.0959, val=12.2073\n",
      "NMSE: train=0.1024, val=0.9949\n",
      "\n",
      "Model: Time domain features + Random Forests\n",
      "\n",
      "Average Scores across folds:\n",
      "RMSE: train=2.4229, val=10.8465\n",
      "NMSE: train=0.0358, val=0.7863\n"
     ]
    }
   ],
   "source": [
    "# Evaluation\n",
    "metric_fns = {'RMSE': RMSE, 'NMSE': NMSE}\n",
    "models = {\n",
    "    'Time domain features + Kernel Ridge': baseline1,\n",
    "    'Time domain features + KNN': baseline2,\n",
    "    'Time domain features + Random Forests': baseline3\n",
    "}\n",
    "\n",
    "for model_name, model in models.items():\n",
    "    print(f'\\nModel: {model_name}')\n",
    "    result = cross_validate_pipeline(model, X_train_val_folds, Y_train_val_folds, metric_fns, verbose=1)"
   ]
  },
  {
   "cell_type": "code",
   "execution_count": 6,
   "id": "236438fc",
   "metadata": {},
   "outputs": [],
   "source": [
    "# Test Wavelet\n",
    "import pywt\n",
    "from sklearn.base import BaseEstimator, TransformerMixin\n",
    "import numpy as np\n",
    "\n",
    "class WaveletFeatureExtractor(BaseEstimator, TransformerMixin):\n",
    "    def __init__(self, wavelet='db4', level=3, stat_funcs=None):\n",
    "        self.wavelet = wavelet\n",
    "        self.level = level\n",
    "        self.stat_funcs = stat_funcs or [np.mean, np.std, np.max, np.min]\n",
    "\n",
    "    def fit(self, X, y=None):\n",
    "        return self\n",
    "\n",
    "    def transform(self, X):\n",
    "        # X shape: (n_samples, n_channels, window_size)\n",
    "        if X.ndim == 4:\n",
    "            X = X.reshape(-1, X.shape[2], X.shape[3])  # (n_samples, n_channels, window_size)\n",
    "\n",
    "        features = []\n",
    "        for sample in X:\n",
    "            sample_features = []\n",
    "            for channel in sample:\n",
    "                coeffs = pywt.wavedec(channel, self.wavelet, level=self.level)\n",
    "                for c in coeffs:\n",
    "                    sample_features.extend([f(c) for f in self.stat_funcs])\n",
    "            features.append(sample_features)\n",
    "        return np.array(features)"
   ]
  },
  {
   "cell_type": "code",
   "execution_count": 7,
   "id": "ff188975",
   "metadata": {},
   "outputs": [],
   "source": [
    "baseline_wavelet = Pipeline([\n",
    "    ('wavelet', WaveletFeatureExtractor(wavelet='db4', level=3)),\n",
    "    ('scaler', StandardScaler()),\n",
    "    ('regressor', KernelRidge(alpha=0.001, kernel='laplacian'))\n",
    "])\n",
    "baseline_wavelet_kn = Pipeline(\n",
    "    [\n",
    "        ('wavelet', WaveletFeatureExtractor(wavelet='db4', level=3)),\n",
    "        ('scaler', StandardScaler()),\n",
    "        ('regressor', KNeighborsRegressor())\n",
    "    ]\n",
    ")\n",
    "baseline_wavelet_rf = Pipeline([\n",
    "    ('wavelet', WaveletFeatureExtractor(wavelet='sym5', level=4)),\n",
    "    ('scaler', StandardScaler()),\n",
    "    ('regressor', RandomForestRegressor())\n",
    "])"
   ]
  },
  {
   "cell_type": "code",
   "execution_count": 8,
   "id": "5f52bcba",
   "metadata": {},
   "outputs": [
    {
     "name": "stdout",
     "output_type": "stream",
     "text": [
      "\n",
      "Model: Wavelet + Kernel Ridge\n",
      "\n",
      "Average Scores across folds:\n",
      "RMSE: train=0.0972, val=11.8307\n",
      "NMSE: train=0.0001, val=0.9406\n",
      "\n",
      "Model: Wavelet + KNN\n",
      "\n",
      "Average Scores across folds:\n",
      "RMSE: train=6.0292, val=12.8150\n",
      "NMSE: train=0.2217, val=1.0976\n",
      "\n",
      "Model: Wavelet + Random Forests\n",
      "\n",
      "Average Scores across folds:\n",
      "RMSE: train=2.7606, val=11.4190\n",
      "NMSE: train=0.0465, val=0.8750\n"
     ]
    }
   ],
   "source": [
    "# Evaluation\n",
    "metric_fns = {'RMSE': RMSE, 'NMSE': NMSE}\n",
    "models = {\n",
    "    'Wavelet + Kernel Ridge': baseline_wavelet,\n",
    "    'Wavelet + KNN': baseline_wavelet_kn,\n",
    "    'Wavelet + Random Forests': baseline_wavelet_rf\n",
    "}\n",
    "\n",
    "for model_name, model in models.items():\n",
    "    print(f'\\nModel: {model_name}')\n",
    "    result = cross_validate_pipeline(model, X_train_val_folds, Y_train_val_folds, metric_fns, verbose=1)"
   ]
  }
 ],
 "metadata": {
  "kernelspec": {
   "display_name": "test",
   "language": "python",
   "name": "python3"
  },
  "language_info": {
   "codemirror_mode": {
    "name": "ipython",
    "version": 3
   },
   "file_extension": ".py",
   "mimetype": "text/x-python",
   "name": "python",
   "nbconvert_exporter": "python",
   "pygments_lexer": "ipython3",
   "version": "3.12.7"
  }
 },
 "nbformat": 4,
 "nbformat_minor": 5
}

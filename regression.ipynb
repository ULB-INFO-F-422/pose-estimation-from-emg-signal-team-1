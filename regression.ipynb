{
 "cells": [
  {
   "cell_type": "code",
   "execution_count": 20,
   "id": "4d030ceb",
   "metadata": {},
   "outputs": [],
   "source": [
    "# Imports\n",
    "import numpy as np\n",
    "from sklearn.linear_model import Ridge\n",
    "from sklearn.kernel_ridge import KernelRidge\n",
    "from sklearn.svm import SVR\n",
    "from sklearn.model_selection import cross_val_score, KFold\n",
    "from sklearn.multioutput import MultiOutputRegressor, RegressorChain\n",
    "from sklearn.base import clone\n",
    "import matplotlib.pyplot as plt\n",
    "import seaborn as sns\n",
    "from tqdm.auto import tqdm\n",
    "from preprocessing import preprocess_dataset\n"
   ]
  },
  {
   "cell_type": "code",
   "execution_count": 7,
   "id": "9fc76ae9",
   "metadata": {},
   "outputs": [
    {
     "name": "stdout",
     "output_type": "stream",
     "text": [
      "X_train shape (after reshaping): (4, 2296, 96)\n",
      "Y_train shape (after reshaping): (4, 2296, 51)\n"
     ]
    }
   ],
   "source": [
    "# Load the preprocessed features dataset\n",
    "X_path = r'C:\\Users\\gianm\\Documents\\Uni\\Big Data\\F422\\project\\data\\guided\\guided_dataset_X.npy'\n",
    "Y_path = r'C:\\Users\\gianm\\Documents\\Uni\\Big Data\\F422\\project\\data\\guided\\guided_dataset_Y.npy'\n",
    "\n",
    "X_train_features, Y_train, X_val_features, Y_val = preprocess_dataset(X_path, Y_path, mode='features')\n",
    "\n",
    "# Reshape per session\n",
    "n_sessions, n_windows, n_electrodes, n_features_per_electrode = X_train_features.shape\n",
    "X_train = X_train_features.reshape(n_sessions, n_windows, -1)  # (sessions, windows, 8*12)\n",
    "n_sessions, n_windows, n_joints = Y_train.shape\n",
    "Y_train = Y_train.reshape(n_sessions, n_windows, n_joints)\n",
    "\n",
    "print(\"X_train shape (after reshaping):\", X_train.shape)\n",
    "print(\"Y_train shape (after reshaping):\", Y_train.shape)"
   ]
  },
  {
   "cell_type": "code",
   "execution_count": 18,
   "id": "f01d0107",
   "metadata": {},
   "outputs": [
    {
     "name": "stdout",
     "output_type": "stream",
     "text": [
      "Wrist joint indices: [0, 1, 2]\n",
      "Thumb joint indices: [3, 4, 5, 6, 7, 8, 9, 10, 11]\n",
      "Index joint indices: [12, 13, 14, 15, 16, 17, 18, 19, 20]\n",
      "Middle joint indices: [21, 22, 23, 24, 25, 26, 27, 28, 29]\n",
      "Ring joint indices: [30, 31, 32, 33, 34, 35, 36, 37, 38]\n",
      "Palm joint indices: [39, 40, 41]\n",
      "Little joint indices: [42, 43, 44, 45, 46, 47, 48, 49, 50]\n"
     ]
    }
   ],
   "source": [
    "# Helper to get joint indices from bone index\n",
    "def bone_to_joint_indices(bone_idx):\n",
    "    return [3*bone_idx, 3*bone_idx + 1, 3*bone_idx + 2]\n",
    "\n",
    "# Now define all groups (fingers + wrist + palm)\n",
    "group_bones = {\n",
    "    'wrist': [0],\n",
    "    'thumb': [1, 2, 3],\n",
    "    'index': [4, 5, 6],\n",
    "    'middle': [7, 8, 9],\n",
    "    'ring': [10, 11, 12],\n",
    "    'palm': [13],\n",
    "    'little': [14, 15, 16]\n",
    "}\n",
    "\n",
    "# Create joint indices for each group\n",
    "group_joint_indices = {}\n",
    "for group, bones in group_bones.items():\n",
    "    joints = []\n",
    "    for bone in bones:\n",
    "        joints.extend(bone_to_joint_indices(bone))\n",
    "    group_joint_indices[group] = joints\n",
    "\n",
    "# (Optional) print and check\n",
    "for group, joints in group_joint_indices.items():\n",
    "    print(f\"{group.capitalize()} joint indices: {joints}\")\n"
   ]
  },
  {
   "cell_type": "markdown",
   "id": "402be682",
   "metadata": {},
   "source": [
    "## Ridge regression"
   ]
  },
  {
   "cell_type": "code",
   "execution_count": null,
   "id": "f4af4184",
   "metadata": {},
   "outputs": [
    {
     "name": "stdout",
     "output_type": "stream",
     "text": [
      "\n",
      "Testing Ridge Regression with Session-Based CV\n"
     ]
    },
    {
     "name": "stderr",
     "output_type": "stream",
     "text": [
      "Cross-Validation Progress: 100%|██████████| 4/4 [00:01<00:00,  2.07it/s]"
     ]
    },
    {
     "name": "stdout",
     "output_type": "stream",
     "text": [
      "Session-Based Ridge CV RMSE: 7.0058 (+/- 0.5449)\n",
      "Session-Based Ridge CV NRMSE: 0.3255 (+/- 0.0247)\n"
     ]
    },
    {
     "name": "stderr",
     "output_type": "stream",
     "text": [
      "\n"
     ]
    }
   ],
   "source": [
    "# --- Ridge Regression with Leave-One-Session-Out Cross-Validation ---\n",
    "print(\"\\nTesting Ridge Regression with Session-Based CV\")\n",
    "\n",
    "ridge_cv_rmse = []\n",
    "ridge_cv_nrmse = []\n",
    "\n",
    "for val_session in tqdm(range(4), desc='Cross-Validation Progress'):\n",
    "    train_sessions = [s for s in range(4) if s != val_session]\n",
    "    \n",
    "    X_train_fold = X_train[train_sessions].reshape(-1, X_train.shape[-1])\n",
    "    Y_train_fold = Y_train[train_sessions].reshape(-1, Y_train.shape[-1])\n",
    "    \n",
    "    X_val_fold = X_train[val_session]\n",
    "    Y_val_fold = Y_train[val_session]\n",
    "    \n",
    "    model = MultiOutputRegressor(Ridge(alpha=1.0, fit_intercept=True))\n",
    "    model.fit(X_train_fold, Y_train_fold)\n",
    "    preds = model.predict(X_val_fold)\n",
    "    \n",
    "    rmse = np.sqrt(np.mean((preds - Y_val_fold) ** 2))\n",
    "    ridge_cv_rmse.append(rmse)\n",
    "    \n",
    "    std_ground_truth = np.std(Y_val_fold)\n",
    "    nrmse = rmse / std_ground_truth\n",
    "    ridge_cv_nrmse.append(nrmse)\n",
    "\n",
    "    # Print RMSE and NRMSE for this fold\n",
    "    print(f\"Fold {val_session}: RMSE = {rmse:.4f}, NRMSE = {nrmse:.4f}\")\n",
    "\n",
    "ridge_cv_rmse = np.array(ridge_cv_rmse)\n",
    "ridge_cv_nrmse = np.array(ridge_cv_nrmse)\n",
    "\n",
    "print(f\"Session-Based Ridge CV RMSE: {ridge_cv_rmse.mean():.4f} (+/- {ridge_cv_rmse.std():.4f})\")\n",
    "print(f\"Session-Based Ridge CV NRMSE: {ridge_cv_nrmse.mean():.4f} (+/- {ridge_cv_nrmse.std():.4f})\")"
   ]
  },
  {
   "cell_type": "code",
   "execution_count": null,
   "id": "d05567b0",
   "metadata": {},
   "outputs": [
    {
     "name": "stderr",
     "output_type": "stream",
     "text": [
      "Alpha Search: 100%|██████████| 10/10 [00:17<00:00,  1.78s/it]\n"
     ]
    },
    {
     "data": {
      "image/png": "[encoded data removed]",
      "text/plain": [
       "<Figure size 1200x500 with 2 Axes>"
      ]
     },
     "metadata": {},
     "output_type": "display_data"
    }
   ],
   "source": [
    "alphas = np.logspace(-3, 2, 10)  # 0.001 to 100\n",
    "rmse_list = []\n",
    "nrmse_list = []\n",
    "\n",
    "for alpha in tqdm(alphas, desc='Alpha Search'):\n",
    "    ridge_cv_rmse = []\n",
    "    ridge_cv_nrmse = []\n",
    "\n",
    "    for val_session in range(4):\n",
    "        train_sessions = [s for s in range(4) if s != val_session]\n",
    "\n",
    "        X_train_fold = X_train[train_sessions].reshape(-1, X_train.shape[-1])\n",
    "        Y_train_fold = Y_train[train_sessions].reshape(-1, Y_train.shape[-1])\n",
    "\n",
    "        X_val_fold = X_train[val_session]\n",
    "        Y_val_fold = Y_train[val_session]\n",
    "\n",
    "        model = MultiOutputRegressor(Ridge(alpha=alpha, fit_intercept=True))\n",
    "        model.fit(X_train_fold, Y_train_fold)\n",
    "        preds = model.predict(X_val_fold)\n",
    "\n",
    "        rmse = np.sqrt(np.mean((preds - Y_val_fold) ** 2))\n",
    "        std_ground_truth = np.std(Y_val_fold)\n",
    "        nrmse = rmse / std_ground_truth\n",
    "\n",
    "        ridge_cv_rmse.append(rmse)\n",
    "        ridge_cv_nrmse.append(nrmse)\n",
    "\n",
    "    rmse_list.append(np.mean(ridge_cv_rmse))\n",
    "    nrmse_list.append(np.mean(ridge_cv_nrmse))\n",
    "\n",
    "# --- Plotting ---\n",
    "plt.figure(figsize=(12,5))\n",
    "\n",
    "plt.subplot(1,2,1)\n",
    "plt.semilogx(alphas, rmse_list, marker='o')\n",
    "plt.xlabel('Alpha (log scale)')\n",
    "plt.ylabel('RMSE')\n",
    "plt.title('RMSE vs Alpha')\n",
    "plt.grid(True)\n",
    "\n",
    "plt.subplot(1,2,2)\n",
    "plt.semilogx(alphas, nrmse_list, marker='o')\n",
    "plt.xlabel('Alpha (log scale)')\n",
    "plt.ylabel('NRMSE')\n",
    "plt.title('NRMSE vs Alpha')\n",
    "plt.grid(True)\n",
    "\n",
    "plt.tight_layout()\n",
    "plt.show()\n"
   ]
  },
  {
   "cell_type": "markdown",
   "id": "5ec6fc54",
   "metadata": {},
   "source": [
    "## Chain Ridge regression"
   ]
  },
  {
   "cell_type": "code",
   "execution_count": null,
   "id": "6570902d",
   "metadata": {},
   "outputs": [
    {
     "name": "stdout",
     "output_type": "stream",
     "text": [
      "\n",
      "Testing Regressor Chains per Finger with Session-Based CV\n"
     ]
    },
    {
     "data": {
      "application/vnd.jupyter.widget-view+json": {
       "model_id": "3e275cd53d1141b2a317d58740540898",
       "version_major": 2,
       "version_minor": 0
      },
      "text/plain": [
       "Cross-Validation Progress:   0%|          | 0/4 [00:00<?, ?it/s]"
      ]
     },
     "metadata": {},
     "output_type": "display_data"
    },
    {
     "name": "stdout",
     "output_type": "stream",
     "text": [
      "Session-Based Regressor Chain CV RMSE: 7.0058 (+/- 0.5449)\n",
      "Session-Based Regressor Chain CV NRMSE: 0.3255 (+/- 0.0247)\n"
     ]
    }
   ],
   "source": [
    "# RegressionChain x group: wrist, thumb, index, middle, ring, little, palm\n",
    "\n",
    "# --- RegressorChains with Leave-One-Session-Out Cross-Validation ---\n",
    "print(\"\\nTesting Regressor Chains per Finger with Session-Based CV\")\n",
    "\n",
    "chain_cv_rmse = []\n",
    "chain_cv_nrmse = []\n",
    "\n",
    "for val_session in tqdm(range(4), desc='Cross-Validation Progress'):\n",
    "    train_sessions = [s for s in range(4) if s != val_session]\n",
    "\n",
    "    X_train_fold = X_train[train_sessions].reshape(-1, X_train.shape[-1])\n",
    "    Y_train_fold = Y_train[train_sessions].reshape(-1, Y_train.shape[-1])\n",
    "\n",
    "    X_val_fold = X_train[val_session]\n",
    "    Y_val_fold = Y_train[val_session]\n",
    "\n",
    "    # Train one model per group\n",
    "    models = {}\n",
    "    for group in group_joint_indices:\n",
    "        y_train_group = Y_train_fold[:, group_joint_indices[group]]\n",
    "\n",
    "        if group == 'palm':\n",
    "            model = Ridge(alpha=1.0)\n",
    "        else:\n",
    "            model = RegressorChain(Ridge(alpha=1.0), order=list(range(len(group_joint_indices[group]))))\n",
    "        \n",
    "        model.fit(X_train_fold, y_train_group)\n",
    "        models[group] = model\n",
    "\n",
    "    # Predict per group\n",
    "    preds = []\n",
    "    for group in group_joint_indices:\n",
    "        if group == 'palm':\n",
    "            pred = models[group].predict(X_val_fold)\n",
    "        else:\n",
    "            pred = models[group].predict(X_val_fold)\n",
    "        preds.append(pred)\n",
    "    \n",
    "    # Concatenate all predictions\n",
    "    preds_concat = np.concatenate(preds, axis=1)  # (n_samples, 51)\n",
    "\n",
    "    # Sort predictions into correct joint order\n",
    "    preds_ordered = np.zeros_like(Y_val_fold)\n",
    "    for group, indices in group_joint_indices.items():\n",
    "        preds_ordered[:, indices] = preds.pop(0)\n",
    "\n",
    "    # Calculate RMSE and NRMSE\n",
    "    rmse = np.sqrt(np.mean((preds_ordered - Y_val_fold) ** 2))\n",
    "    std_ground_truth = np.std(Y_val_fold)\n",
    "    nrmse = rmse / std_ground_truth\n",
    "\n",
    "    chain_cv_rmse.append(rmse)\n",
    "    chain_cv_nrmse.append(nrmse)\n",
    "\n",
    "    # Print RMSE and NRMSE for this fold\n",
    "    print(f\"Fold {val_session}: RMSE = {rmse:.4f}, NRMSE = {nrmse:.4f}\")\n",
    "\n",
    "chain_cv_rmse = np.array(chain_cv_rmse)\n",
    "chain_cv_nrmse = np.array(chain_cv_nrmse)\n",
    "\n",
    "print(f\"Session-Based Regressor Chain CV RMSE: {chain_cv_rmse.mean():.4f} (+/- {chain_cv_rmse.std():.4f})\")\n",
    "print(f\"Session-Based Regressor Chain CV NRMSE: {chain_cv_nrmse.mean():.4f} (+/- {chain_cv_nrmse.std():.4f})\")"
   ]
  },
  {
   "cell_type": "code",
   "execution_count": null,
   "id": "0b149163",
   "metadata": {},
   "outputs": [
    {
     "name": "stdout",
     "output_type": "stream",
     "text": [
      "\n",
      "Testing Bone-by-Bone Finger Chains with Session-Based CV\n"
     ]
    },
    {
     "data": {
      "application/vnd.jupyter.widget-view+json": {
       "model_id": "69684a678a974abb83c83c2cfdc7f6fe",
       "version_major": 2,
       "version_minor": 0
      },
      "text/plain": [
       "Cross-Validation Progress:   0%|          | 0/4 [00:00<?, ?it/s]"
      ]
     },
     "metadata": {},
     "output_type": "display_data"
    },
    {
     "name": "stdout",
     "output_type": "stream",
     "text": [
      "Session-Based Bone-by-Bone Chain CV RMSE: 7.0211 (+/- 0.5592)\n",
      "Session-Based Bone-by-Bone Chain CV NRMSE: 0.3262 (+/- 0.0254)\n"
     ]
    }
   ],
   "source": [
    "# RegressionChain bone by bone\n",
    "\n",
    "# --- Define the correct bones -> joint indices ---\n",
    "finger_bones = {\n",
    "    'thumb': [1, 2, 3],\n",
    "    'index': [4, 5, 6],\n",
    "    'middle': [7, 8, 9],\n",
    "    'ring': [10, 11, 12],\n",
    "    'little': [14, 15, 16]\n",
    "}\n",
    "\n",
    "special_bones = {\n",
    "    'wrist': [0],      # wrist is one bone (3 angles)\n",
    "    'palm': [13]       # palm is one bone (3 angles)\n",
    "}\n",
    "\n",
    "# --- True bone-by-bone chains Leave-One-Session-Out Cross-Validation ---\n",
    "print(\"\\nTesting Bone-by-Bone Finger Chains with Session-Based CV\")\n",
    "\n",
    "chain_cv_rmse = []\n",
    "chain_cv_nrmse = []\n",
    "\n",
    "for val_session in tqdm(range(4), desc='Cross-Validation Progress'):\n",
    "    train_sessions = [s for s in range(4) if s != val_session]\n",
    "\n",
    "    X_train_fold = X_train[train_sessions].reshape(-1, X_train.shape[-1])\n",
    "    Y_train_fold = Y_train[train_sessions].reshape(-1, Y_train.shape[-1])\n",
    "\n",
    "    X_val_fold = X_train[val_session]\n",
    "    Y_val_fold = Y_train[val_session]\n",
    "\n",
    "    # Start with empty prediction arrays\n",
    "    preds_train = np.zeros_like(Y_train_fold)\n",
    "    preds_val = np.zeros_like(Y_val_fold)\n",
    "\n",
    "    # Clone original X (because we will expand features during chaining)\n",
    "    X_train_current = X_train_fold.copy()\n",
    "    X_val_current = X_val_fold.copy()\n",
    "\n",
    "    # Step 3: Predict wrist first\n",
    "    wrist_joints = bone_to_joint_indices(0)\n",
    "    model_wrist = Ridge(alpha=1.0)\n",
    "    model_wrist.fit(X_train_current, Y_train_fold[:, wrist_joints])\n",
    "    preds_train[:, wrist_joints] = model_wrist.predict(X_train_current)\n",
    "    preds_val[:, wrist_joints] = model_wrist.predict(X_val_current)\n",
    "\n",
    "    # Now predict fingers one-by-one\n",
    "    for finger, bones in finger_bones.items():\n",
    "        for bone_idx in bones:\n",
    "            joints = bone_to_joint_indices(bone_idx)\n",
    "\n",
    "            # Train Ridge on current expanded features\n",
    "            model = Ridge(alpha=1.0)\n",
    "            model.fit(X_train_current, Y_train_fold[:, joints])\n",
    "\n",
    "            # Predict on training and validation\n",
    "            pred_train_bone = model.predict(X_train_current)\n",
    "            pred_val_bone = model.predict(X_val_current)\n",
    "\n",
    "            # Store predictions\n",
    "            preds_train[:, joints] = pred_train_bone\n",
    "            preds_val[:, joints] = pred_val_bone\n",
    "\n",
    "            # Expand features with predictions\n",
    "            X_train_current = np.concatenate([X_train_current, pred_train_bone], axis=1)\n",
    "            X_val_current = np.concatenate([X_val_current, pred_val_bone], axis=1)\n",
    "\n",
    "    # Finally predict palm\n",
    "    palm_joints = bone_to_joint_indices(13)\n",
    "    model_palm = Ridge(alpha=1.0)\n",
    "    model_palm.fit(X_train_current, Y_train_fold[:, palm_joints])\n",
    "    preds_train[:, palm_joints] = model_palm.predict(X_train_current)\n",
    "    preds_val[:, palm_joints] = model_palm.predict(X_val_current)\n",
    "\n",
    "    # --- Evaluate on Validation Set ---\n",
    "    rmse = np.sqrt(np.mean((preds_val - Y_val_fold) ** 2))\n",
    "    std_ground_truth = np.std(Y_val_fold)\n",
    "    nrmse = rmse / std_ground_truth\n",
    "\n",
    "    chain_cv_rmse.append(rmse)\n",
    "    chain_cv_nrmse.append(nrmse)\n",
    "\n",
    "    # Print RMSE and NRMSE for this fold\n",
    "    print(f\"Fold {val_session}: RMSE = {rmse:.4f}, NRMSE = {nrmse:.4f}\")\n",
    "\n",
    "chain_cv_rmse = np.array(chain_cv_rmse)\n",
    "chain_cv_nrmse = np.array(chain_cv_nrmse)\n",
    "\n",
    "print(f\"Session-Based Bone-by-Bone Chain CV RMSE: {chain_cv_rmse.mean():.4f} (+/- {chain_cv_rmse.std():.4f})\")\n",
    "print(f\"Session-Based Bone-by-Bone Chain CV NRMSE: {chain_cv_nrmse.mean():.4f} (+/- {chain_cv_nrmse.std():.4f})\")\n"
   ]
  },
  {
   "cell_type": "markdown",
   "id": "f8337454",
   "metadata": {},
   "source": [
    "## Kernel Ridge"
   ]
  },
  {
   "cell_type": "code",
   "execution_count": null,
   "id": "066d3e43",
   "metadata": {},
   "outputs": [
    {
     "name": "stdout",
     "output_type": "stream",
     "text": [
      "\n",
      "Testing Kernel Ridge Regression with Session-Based CV\n"
     ]
    },
    {
     "data": {
      "application/vnd.jupyter.widget-view+json": {
       "model_id": "1b8281a57fe7495da3b73a04f710f8aa",
       "version_major": 2,
       "version_minor": 0
      },
      "text/plain": [
       "Cross-Validation Progress:   0%|          | 0/4 [00:00<?, ?it/s]"
      ]
     },
     "metadata": {},
     "output_type": "display_data"
    },
    {
     "name": "stdout",
     "output_type": "stream",
     "text": [
      "Fold 0: RMSE = 22.3009, NRMSE = 1.0349\n"
     ]
    }
   ],
   "source": [
    "# --- Kernel Ridge Regression with Leave-One-Session-Out Cross-Validation ---\n",
    "print(\"\\nTesting Kernel Ridge Regression with Session-Based CV\")\n",
    "\n",
    "krr_cv_rmse = []\n",
    "krr_cv_nrmse = []\n",
    "\n",
    "for val_session in tqdm(range(4), desc='Cross-Validation Progress'):\n",
    "    train_sessions = [s for s in range(4) if s != val_session]\n",
    "    \n",
    "    X_train_fold = X_train[train_sessions].reshape(-1, X_train.shape[-1])\n",
    "    Y_train_fold = Y_train[train_sessions].reshape(-1, Y_train.shape[-1])\n",
    "    \n",
    "    X_val_fold = X_train[val_session]\n",
    "    Y_val_fold = Y_train[val_session]\n",
    "\n",
    "    # Define Kernel Ridge model\n",
    "    model = MultiOutputRegressor(\n",
    "        KernelRidge(alpha=0.001, kernel='rbf', gamma=1)  # you can tune gamma later\n",
    "    )\n",
    "    model.fit(X_train_fold, Y_train_fold)\n",
    "    preds = model.predict(X_val_fold)\n",
    "    \n",
    "    rmse = np.sqrt(np.mean((preds - Y_val_fold) ** 2))\n",
    "    krr_cv_rmse.append(rmse)\n",
    "    \n",
    "    std_ground_truth = np.std(Y_val_fold)\n",
    "    nrmse = rmse / std_ground_truth\n",
    "    krr_cv_nrmse.append(nrmse)\n",
    "\n",
    "    # Print RMSE and NRMSE for this fold\n",
    "    print(f\"Fold {val_session}: RMSE = {rmse:.4f}, NRMSE = {nrmse:.4f}\")\n",
    "\n",
    "krr_cv_rmse = np.array(krr_cv_rmse)\n",
    "krr_cv_nrmse = np.array(krr_cv_nrmse)\n",
    "\n",
    "print(f\"Session-Based Kernel Ridge CV RMSE: {krr_cv_rmse.mean():.4f} (+/- {krr_cv_rmse.std():.4f})\")\n",
    "print(f\"Session-Based Kernel Ridge CV NRMSE: {krr_cv_nrmse.mean():.4f} (+/- {krr_cv_nrmse.std():.4f})\")"
   ]
  },
  {
   "cell_type": "code",
   "execution_count": null,
   "id": "1e6eda11",
   "metadata": {},
   "outputs": [],
   "source": [
    "# --- Define parameter grid for Kernel Ridge ---\n",
    "param_grid = {\n",
    "    'alpha': [0.0001, 0.001, 0.01, 0.1, 1],\n",
    "    'gamma': [0.0001, 0.001, 0.01, 0.1, 1]\n",
    "}\n",
    "\n",
    "results = []\n",
    "\n",
    "print(\"\\nGrid Search over alpha and gamma for Kernel Ridge...\")\n",
    "\n",
    "# Manual grid search with session-based CV\n",
    "for alpha_val in tqdm(param_grid['alpha'], desc='Grid Alpha'):\n",
    "    for gamma_val in param_grid['gamma']:\n",
    "        \n",
    "        krr_cv_rmse = []\n",
    "        \n",
    "        for val_session in range(4):\n",
    "            train_sessions = [s for s in range(4) if s != val_session]\n",
    "\n",
    "            X_train_fold = X_train[train_sessions].reshape(-1, X_train.shape[-1])\n",
    "            Y_train_fold = Y_train[train_sessions].reshape(-1, Y_train.shape[-1])\n",
    "\n",
    "            X_val_fold = X_train[val_session]\n",
    "            Y_val_fold = Y_train[val_session]\n",
    "\n",
    "            model = MultiOutputRegressor(\n",
    "                KernelRidge(alpha=alpha_val, kernel='rbf', gamma=gamma_val)\n",
    "            )\n",
    "            model.fit(X_train_fold, Y_train_fold)\n",
    "            preds = model.predict(X_val_fold)\n",
    "\n",
    "            rmse = np.sqrt(np.mean((preds - Y_val_fold) ** 2))\n",
    "            krr_cv_rmse.append(rmse)\n",
    "        \n",
    "        mean_rmse = np.mean(krr_cv_rmse)\n",
    "        \n",
    "        results.append({\n",
    "            'param_alpha': alpha_val,\n",
    "            'param_gamma': gamma_val,\n",
    "            'mean_test_score': -mean_rmse  # Notice the minus sign: higher = better\n",
    "        })"
   ]
  },
  {
   "cell_type": "code",
   "execution_count": null,
   "id": "9d0c3ea2",
   "metadata": {},
   "outputs": [],
   "source": [
    "# Create a DataFrame\n",
    "results = pd.DataFrame(results)\n",
    "\n",
    "# Pivot into a matrix: rows=alpha, columns=gamma\n",
    "pivot = results.pivot(\n",
    "    index='param_alpha',\n",
    "    columns='param_gamma',\n",
    "    values='mean_test_score'\n",
    ").astype(float)\n",
    "\n",
    "# Plot Heatmap\n",
    "plt.figure(figsize=(8,6))\n",
    "sns.heatmap(\n",
    "    pivot,\n",
    "    annot=True,\n",
    "    fmt=\".3f\",\n",
    "    cmap=\"viridis\"\n",
    ")\n",
    "plt.xlabel('gamma')\n",
    "plt.ylabel('alpha')\n",
    "plt.title('Session-Based Cross-Validation RMSE (negated) over alpha and gamma (Kernel Ridge)')\n",
    "plt.show()"
   ]
  },
  {
   "cell_type": "markdown",
   "id": "3607c40e",
   "metadata": {},
   "source": [
    "## Support Vector Machine"
   ]
  },
  {
   "cell_type": "code",
   "execution_count": null,
   "id": "eb1ae42d",
   "metadata": {},
   "outputs": [
    {
     "name": "stdout",
     "output_type": "stream",
     "text": [
      "\n",
      "Testing SVR with Session-Based Cross-Validation\n"
     ]
    },
    {
     "name": "stderr",
     "output_type": "stream",
     "text": [
      "Cross-Validation Progress: 100%|██████████| 4/4 [11:18<00:00, 169.62s/it]"
     ]
    },
    {
     "name": "stdout",
     "output_type": "stream",
     "text": [
      "Session-Based SVR CV RMSE: 9.2888 (+/- 0.1991)\n",
      "Session-Based SVR CV NRMSE: 0.4317 (+/- 0.0092)\n"
     ]
    },
    {
     "name": "stderr",
     "output_type": "stream",
     "text": [
      "\n"
     ]
    }
   ],
   "source": [
    "# --- SVM with Leave-One-Session-Out Cross-Validation ---\n",
    "\n",
    "# SVM hyperparameters\n",
    "C_value = 1.0\n",
    "epsilon_value = 0.2\n",
    "kernel_type = 'rbf'  # or 'linear', 'poly', 'sigmoid'\n",
    "\n",
    "svr_cv_rmse = []\n",
    "svr_cv_nrmse = []\n",
    "\n",
    "print(\"\\nTesting SVR with Session-Based Cross-Validation\")\n",
    "\n",
    "for val_session in tqdm(range(4), desc='Cross-Validation Progress'):\n",
    "    train_sessions = [s for s in range(4) if s != val_session]\n",
    "\n",
    "    X_train_fold = X_train[train_sessions].reshape(-1, X_train.shape[-1])\n",
    "    Y_train_fold = Y_train[train_sessions].reshape(-1, Y_train.shape[-1])\n",
    "\n",
    "    X_val_fold = X_train[val_session]\n",
    "    Y_val_fold = Y_train[val_session]\n",
    "\n",
    "    model = MultiOutputRegressor(SVR(C=C_value, epsilon=epsilon_value, kernel=kernel_type))\n",
    "    model.fit(X_train_fold, Y_train_fold)\n",
    "    preds = model.predict(X_val_fold)\n",
    "\n",
    "    rmse = np.sqrt(np.mean((preds - Y_val_fold) ** 2))\n",
    "    std_ground_truth = np.std(Y_val_fold)\n",
    "    nrmse = rmse / std_ground_truth\n",
    "\n",
    "    svr_cv_rmse.append(rmse)\n",
    "    svr_cv_nrmse.append(nrmse)\n",
    "\n",
    "    # Print RMSE and NRMSE for this fold\n",
    "    print(f\"Fold {val_session}: RMSE = {rmse:.4f}, NRMSE = {nrmse:.4f}\")\n",
    "\n",
    "svr_cv_rmse = np.array(svr_cv_rmse)\n",
    "svr_cv_nrmse = np.array(svr_cv_nrmse)\n",
    "\n",
    "print(f\"Session-Based SVR CV RMSE: {svr_cv_rmse.mean():.4f} (+/- {svr_cv_rmse.std():.4f})\")\n",
    "print(f\"Session-Based SVR CV NRMSE: {svr_cv_nrmse.mean():.4f} (+/- {svr_cv_nrmse.std():.4f})\")\n"
   ]
  },
  {
   "cell_type": "code",
   "execution_count": null,
   "id": "766ae4c5",
   "metadata": {},
   "outputs": [
    {
     "name": "stdout",
     "output_type": "stream",
     "text": [
      "\n",
      "Grid Search over C and gamma...\n"
     ]
    },
    {
     "data": {
      "application/vnd.jupyter.widget-view+json": {
       "model_id": "7d0e6ad1f0394712928c0f29c41419e3",
       "version_major": 2,
       "version_minor": 0
      },
      "text/plain": [
       "Grid C:   0%|          | 0/5 [00:00<?, ?it/s]"
      ]
     },
     "metadata": {},
     "output_type": "display_data"
    },
    {
     "ename": "KeyboardInterrupt",
     "evalue": "",
     "output_type": "error",
     "traceback": [
      "\u001b[1;31m---------------------------------------------------------------------------\u001b[0m",
      "\u001b[1;31mKeyboardInterrupt\u001b[0m                         Traceback (most recent call last)",
      "Cell \u001b[1;32mIn[13], line 29\u001b[0m\n\u001b[0;32m     27\u001b[0m model \u001b[38;5;241m=\u001b[39m MultiOutputRegressor(SVR(C\u001b[38;5;241m=\u001b[39mC_val, gamma\u001b[38;5;241m=\u001b[39mgamma_val, kernel\u001b[38;5;241m=\u001b[39m\u001b[38;5;124m'\u001b[39m\u001b[38;5;124mrbf\u001b[39m\u001b[38;5;124m'\u001b[39m))\n\u001b[0;32m     28\u001b[0m model\u001b[38;5;241m.\u001b[39mfit(X_train_fold, Y_train_fold)\n\u001b[1;32m---> 29\u001b[0m preds \u001b[38;5;241m=\u001b[39m \u001b[43mmodel\u001b[49m\u001b[38;5;241;43m.\u001b[39;49m\u001b[43mpredict\u001b[49m\u001b[43m(\u001b[49m\u001b[43mX_val_fold\u001b[49m\u001b[43m)\u001b[49m\n\u001b[0;32m     31\u001b[0m rmse \u001b[38;5;241m=\u001b[39m np\u001b[38;5;241m.\u001b[39msqrt(np\u001b[38;5;241m.\u001b[39mmean((preds \u001b[38;5;241m-\u001b[39m Y_val_fold) \u001b[38;5;241m*\u001b[39m\u001b[38;5;241m*\u001b[39m \u001b[38;5;241m2\u001b[39m))\n\u001b[0;32m     32\u001b[0m svr_cv_rmse\u001b[38;5;241m.\u001b[39mappend(rmse)\n",
      "File \u001b[1;32mc:\\Users\\gianm\\miniforge3\\envs\\test\\Lib\\site-packages\\sklearn\\multioutput.py:310\u001b[0m, in \u001b[0;36m_MultiOutputEstimator.predict\u001b[1;34m(self, X)\u001b[0m\n\u001b[0;32m    307\u001b[0m \u001b[38;5;28;01mif\u001b[39;00m \u001b[38;5;129;01mnot\u001b[39;00m \u001b[38;5;28mhasattr\u001b[39m(\u001b[38;5;28mself\u001b[39m\u001b[38;5;241m.\u001b[39mestimators_[\u001b[38;5;241m0\u001b[39m], \u001b[38;5;124m\"\u001b[39m\u001b[38;5;124mpredict\u001b[39m\u001b[38;5;124m\"\u001b[39m):\n\u001b[0;32m    308\u001b[0m     \u001b[38;5;28;01mraise\u001b[39;00m \u001b[38;5;167;01mValueError\u001b[39;00m(\u001b[38;5;124m\"\u001b[39m\u001b[38;5;124mThe base estimator should implement a predict method\u001b[39m\u001b[38;5;124m\"\u001b[39m)\n\u001b[1;32m--> 310\u001b[0m y \u001b[38;5;241m=\u001b[39m \u001b[43mParallel\u001b[49m\u001b[43m(\u001b[49m\u001b[43mn_jobs\u001b[49m\u001b[38;5;241;43m=\u001b[39;49m\u001b[38;5;28;43mself\u001b[39;49m\u001b[38;5;241;43m.\u001b[39;49m\u001b[43mn_jobs\u001b[49m\u001b[43m)\u001b[49m\u001b[43m(\u001b[49m\n\u001b[0;32m    311\u001b[0m \u001b[43m    \u001b[49m\u001b[43mdelayed\u001b[49m\u001b[43m(\u001b[49m\u001b[43me\u001b[49m\u001b[38;5;241;43m.\u001b[39;49m\u001b[43mpredict\u001b[49m\u001b[43m)\u001b[49m\u001b[43m(\u001b[49m\u001b[43mX\u001b[49m\u001b[43m)\u001b[49m\u001b[43m \u001b[49m\u001b[38;5;28;43;01mfor\u001b[39;49;00m\u001b[43m \u001b[49m\u001b[43me\u001b[49m\u001b[43m \u001b[49m\u001b[38;5;129;43;01min\u001b[39;49;00m\u001b[43m \u001b[49m\u001b[38;5;28;43mself\u001b[39;49m\u001b[38;5;241;43m.\u001b[39;49m\u001b[43mestimators_\u001b[49m\n\u001b[0;32m    312\u001b[0m \u001b[43m\u001b[49m\u001b[43m)\u001b[49m\n\u001b[0;32m    314\u001b[0m \u001b[38;5;28;01mreturn\u001b[39;00m np\u001b[38;5;241m.\u001b[39masarray(y)\u001b[38;5;241m.\u001b[39mT\n",
      "File \u001b[1;32mc:\\Users\\gianm\\miniforge3\\envs\\test\\Lib\\site-packages\\sklearn\\utils\\parallel.py:74\u001b[0m, in \u001b[0;36mParallel.__call__\u001b[1;34m(self, iterable)\u001b[0m\n\u001b[0;32m     69\u001b[0m config \u001b[38;5;241m=\u001b[39m get_config()\n\u001b[0;32m     70\u001b[0m iterable_with_config \u001b[38;5;241m=\u001b[39m (\n\u001b[0;32m     71\u001b[0m     (_with_config(delayed_func, config), args, kwargs)\n\u001b[0;32m     72\u001b[0m     \u001b[38;5;28;01mfor\u001b[39;00m delayed_func, args, kwargs \u001b[38;5;129;01min\u001b[39;00m iterable\n\u001b[0;32m     73\u001b[0m )\n\u001b[1;32m---> 74\u001b[0m \u001b[38;5;28;01mreturn\u001b[39;00m \u001b[38;5;28;43msuper\u001b[39;49m\u001b[43m(\u001b[49m\u001b[43m)\u001b[49m\u001b[38;5;241;43m.\u001b[39;49m\u001b[38;5;21;43m__call__\u001b[39;49m\u001b[43m(\u001b[49m\u001b[43miterable_with_config\u001b[49m\u001b[43m)\u001b[49m\n",
      "File \u001b[1;32mc:\\Users\\gianm\\miniforge3\\envs\\test\\Lib\\site-packages\\joblib\\parallel.py:1918\u001b[0m, in \u001b[0;36mParallel.__call__\u001b[1;34m(self, iterable)\u001b[0m\n\u001b[0;32m   1916\u001b[0m     output \u001b[38;5;241m=\u001b[39m \u001b[38;5;28mself\u001b[39m\u001b[38;5;241m.\u001b[39m_get_sequential_output(iterable)\n\u001b[0;32m   1917\u001b[0m     \u001b[38;5;28mnext\u001b[39m(output)\n\u001b[1;32m-> 1918\u001b[0m     \u001b[38;5;28;01mreturn\u001b[39;00m output \u001b[38;5;28;01mif\u001b[39;00m \u001b[38;5;28mself\u001b[39m\u001b[38;5;241m.\u001b[39mreturn_generator \u001b[38;5;28;01melse\u001b[39;00m \u001b[38;5;28;43mlist\u001b[39;49m\u001b[43m(\u001b[49m\u001b[43moutput\u001b[49m\u001b[43m)\u001b[49m\n\u001b[0;32m   1920\u001b[0m \u001b[38;5;66;03m# Let's create an ID that uniquely identifies the current call. If the\u001b[39;00m\n\u001b[0;32m   1921\u001b[0m \u001b[38;5;66;03m# call is interrupted early and that the same instance is immediately\u001b[39;00m\n\u001b[0;32m   1922\u001b[0m \u001b[38;5;66;03m# re-used, this id will be used to prevent workers that were\u001b[39;00m\n\u001b[0;32m   1923\u001b[0m \u001b[38;5;66;03m# concurrently finalizing a task from the previous call to run the\u001b[39;00m\n\u001b[0;32m   1924\u001b[0m \u001b[38;5;66;03m# callback.\u001b[39;00m\n\u001b[0;32m   1925\u001b[0m \u001b[38;5;28;01mwith\u001b[39;00m \u001b[38;5;28mself\u001b[39m\u001b[38;5;241m.\u001b[39m_lock:\n",
      "File \u001b[1;32mc:\\Users\\gianm\\miniforge3\\envs\\test\\Lib\\site-packages\\joblib\\parallel.py:1847\u001b[0m, in \u001b[0;36mParallel._get_sequential_output\u001b[1;34m(self, iterable)\u001b[0m\n\u001b[0;32m   1845\u001b[0m \u001b[38;5;28mself\u001b[39m\u001b[38;5;241m.\u001b[39mn_dispatched_batches \u001b[38;5;241m+\u001b[39m\u001b[38;5;241m=\u001b[39m \u001b[38;5;241m1\u001b[39m\n\u001b[0;32m   1846\u001b[0m \u001b[38;5;28mself\u001b[39m\u001b[38;5;241m.\u001b[39mn_dispatched_tasks \u001b[38;5;241m+\u001b[39m\u001b[38;5;241m=\u001b[39m \u001b[38;5;241m1\u001b[39m\n\u001b[1;32m-> 1847\u001b[0m res \u001b[38;5;241m=\u001b[39m \u001b[43mfunc\u001b[49m\u001b[43m(\u001b[49m\u001b[38;5;241;43m*\u001b[39;49m\u001b[43margs\u001b[49m\u001b[43m,\u001b[49m\u001b[43m \u001b[49m\u001b[38;5;241;43m*\u001b[39;49m\u001b[38;5;241;43m*\u001b[39;49m\u001b[43mkwargs\u001b[49m\u001b[43m)\u001b[49m\n\u001b[0;32m   1848\u001b[0m \u001b[38;5;28mself\u001b[39m\u001b[38;5;241m.\u001b[39mn_completed_tasks \u001b[38;5;241m+\u001b[39m\u001b[38;5;241m=\u001b[39m \u001b[38;5;241m1\u001b[39m\n\u001b[0;32m   1849\u001b[0m \u001b[38;5;28mself\u001b[39m\u001b[38;5;241m.\u001b[39mprint_progress()\n",
      "File \u001b[1;32mc:\\Users\\gianm\\miniforge3\\envs\\test\\Lib\\site-packages\\sklearn\\utils\\parallel.py:136\u001b[0m, in \u001b[0;36m_FuncWrapper.__call__\u001b[1;34m(self, *args, **kwargs)\u001b[0m\n\u001b[0;32m    134\u001b[0m     config \u001b[38;5;241m=\u001b[39m {}\n\u001b[0;32m    135\u001b[0m \u001b[38;5;28;01mwith\u001b[39;00m config_context(\u001b[38;5;241m*\u001b[39m\u001b[38;5;241m*\u001b[39mconfig):\n\u001b[1;32m--> 136\u001b[0m     \u001b[38;5;28;01mreturn\u001b[39;00m \u001b[38;5;28;43mself\u001b[39;49m\u001b[38;5;241;43m.\u001b[39;49m\u001b[43mfunction\u001b[49m\u001b[43m(\u001b[49m\u001b[38;5;241;43m*\u001b[39;49m\u001b[43margs\u001b[49m\u001b[43m,\u001b[49m\u001b[43m \u001b[49m\u001b[38;5;241;43m*\u001b[39;49m\u001b[38;5;241;43m*\u001b[39;49m\u001b[43mkwargs\u001b[49m\u001b[43m)\u001b[49m\n",
      "File \u001b[1;32mc:\\Users\\gianm\\miniforge3\\envs\\test\\Lib\\site-packages\\sklearn\\svm\\_base.py:430\u001b[0m, in \u001b[0;36mBaseLibSVM.predict\u001b[1;34m(self, X)\u001b[0m\n\u001b[0;32m    428\u001b[0m X \u001b[38;5;241m=\u001b[39m \u001b[38;5;28mself\u001b[39m\u001b[38;5;241m.\u001b[39m_validate_for_predict(X)\n\u001b[0;32m    429\u001b[0m predict \u001b[38;5;241m=\u001b[39m \u001b[38;5;28mself\u001b[39m\u001b[38;5;241m.\u001b[39m_sparse_predict \u001b[38;5;28;01mif\u001b[39;00m \u001b[38;5;28mself\u001b[39m\u001b[38;5;241m.\u001b[39m_sparse \u001b[38;5;28;01melse\u001b[39;00m \u001b[38;5;28mself\u001b[39m\u001b[38;5;241m.\u001b[39m_dense_predict\n\u001b[1;32m--> 430\u001b[0m \u001b[38;5;28;01mreturn\u001b[39;00m \u001b[43mpredict\u001b[49m\u001b[43m(\u001b[49m\u001b[43mX\u001b[49m\u001b[43m)\u001b[49m\n",
      "File \u001b[1;32mc:\\Users\\gianm\\miniforge3\\envs\\test\\Lib\\site-packages\\sklearn\\svm\\_base.py:449\u001b[0m, in \u001b[0;36mBaseLibSVM._dense_predict\u001b[1;34m(self, X)\u001b[0m\n\u001b[0;32m    441\u001b[0m         \u001b[38;5;28;01mraise\u001b[39;00m \u001b[38;5;167;01mValueError\u001b[39;00m(\n\u001b[0;32m    442\u001b[0m             \u001b[38;5;124m\"\u001b[39m\u001b[38;5;124mX.shape[1] = \u001b[39m\u001b[38;5;132;01m%d\u001b[39;00m\u001b[38;5;124m should be equal to \u001b[39m\u001b[38;5;132;01m%d\u001b[39;00m\u001b[38;5;124m, \u001b[39m\u001b[38;5;124m\"\u001b[39m\n\u001b[0;32m    443\u001b[0m             \u001b[38;5;124m\"\u001b[39m\u001b[38;5;124mthe number of samples at training time\u001b[39m\u001b[38;5;124m\"\u001b[39m\n\u001b[0;32m    444\u001b[0m             \u001b[38;5;241m%\u001b[39m (X\u001b[38;5;241m.\u001b[39mshape[\u001b[38;5;241m1\u001b[39m], \u001b[38;5;28mself\u001b[39m\u001b[38;5;241m.\u001b[39mshape_fit_[\u001b[38;5;241m0\u001b[39m])\n\u001b[0;32m    445\u001b[0m         )\n\u001b[0;32m    447\u001b[0m svm_type \u001b[38;5;241m=\u001b[39m LIBSVM_IMPL\u001b[38;5;241m.\u001b[39mindex(\u001b[38;5;28mself\u001b[39m\u001b[38;5;241m.\u001b[39m_impl)\n\u001b[1;32m--> 449\u001b[0m \u001b[38;5;28;01mreturn\u001b[39;00m \u001b[43mlibsvm\u001b[49m\u001b[38;5;241;43m.\u001b[39;49m\u001b[43mpredict\u001b[49m\u001b[43m(\u001b[49m\n\u001b[0;32m    450\u001b[0m \u001b[43m    \u001b[49m\u001b[43mX\u001b[49m\u001b[43m,\u001b[49m\n\u001b[0;32m    451\u001b[0m \u001b[43m    \u001b[49m\u001b[38;5;28;43mself\u001b[39;49m\u001b[38;5;241;43m.\u001b[39;49m\u001b[43msupport_\u001b[49m\u001b[43m,\u001b[49m\n\u001b[0;32m    452\u001b[0m \u001b[43m    \u001b[49m\u001b[38;5;28;43mself\u001b[39;49m\u001b[38;5;241;43m.\u001b[39;49m\u001b[43msupport_vectors_\u001b[49m\u001b[43m,\u001b[49m\n\u001b[0;32m    453\u001b[0m \u001b[43m    \u001b[49m\u001b[38;5;28;43mself\u001b[39;49m\u001b[38;5;241;43m.\u001b[39;49m\u001b[43m_n_support\u001b[49m\u001b[43m,\u001b[49m\n\u001b[0;32m    454\u001b[0m \u001b[43m    \u001b[49m\u001b[38;5;28;43mself\u001b[39;49m\u001b[38;5;241;43m.\u001b[39;49m\u001b[43m_dual_coef_\u001b[49m\u001b[43m,\u001b[49m\n\u001b[0;32m    455\u001b[0m \u001b[43m    \u001b[49m\u001b[38;5;28;43mself\u001b[39;49m\u001b[38;5;241;43m.\u001b[39;49m\u001b[43m_intercept_\u001b[49m\u001b[43m,\u001b[49m\n\u001b[0;32m    456\u001b[0m \u001b[43m    \u001b[49m\u001b[38;5;28;43mself\u001b[39;49m\u001b[38;5;241;43m.\u001b[39;49m\u001b[43m_probA\u001b[49m\u001b[43m,\u001b[49m\n\u001b[0;32m    457\u001b[0m \u001b[43m    \u001b[49m\u001b[38;5;28;43mself\u001b[39;49m\u001b[38;5;241;43m.\u001b[39;49m\u001b[43m_probB\u001b[49m\u001b[43m,\u001b[49m\n\u001b[0;32m    458\u001b[0m \u001b[43m    \u001b[49m\u001b[43msvm_type\u001b[49m\u001b[38;5;241;43m=\u001b[39;49m\u001b[43msvm_type\u001b[49m\u001b[43m,\u001b[49m\n\u001b[0;32m    459\u001b[0m \u001b[43m    \u001b[49m\u001b[43mkernel\u001b[49m\u001b[38;5;241;43m=\u001b[39;49m\u001b[43mkernel\u001b[49m\u001b[43m,\u001b[49m\n\u001b[0;32m    460\u001b[0m \u001b[43m    \u001b[49m\u001b[43mdegree\u001b[49m\u001b[38;5;241;43m=\u001b[39;49m\u001b[38;5;28;43mself\u001b[39;49m\u001b[38;5;241;43m.\u001b[39;49m\u001b[43mdegree\u001b[49m\u001b[43m,\u001b[49m\n\u001b[0;32m    461\u001b[0m \u001b[43m    \u001b[49m\u001b[43mcoef0\u001b[49m\u001b[38;5;241;43m=\u001b[39;49m\u001b[38;5;28;43mself\u001b[39;49m\u001b[38;5;241;43m.\u001b[39;49m\u001b[43mcoef0\u001b[49m\u001b[43m,\u001b[49m\n\u001b[0;32m    462\u001b[0m \u001b[43m    \u001b[49m\u001b[43mgamma\u001b[49m\u001b[38;5;241;43m=\u001b[39;49m\u001b[38;5;28;43mself\u001b[39;49m\u001b[38;5;241;43m.\u001b[39;49m\u001b[43m_gamma\u001b[49m\u001b[43m,\u001b[49m\n\u001b[0;32m    463\u001b[0m \u001b[43m    \u001b[49m\u001b[43mcache_size\u001b[49m\u001b[38;5;241;43m=\u001b[39;49m\u001b[38;5;28;43mself\u001b[39;49m\u001b[38;5;241;43m.\u001b[39;49m\u001b[43mcache_size\u001b[49m\u001b[43m,\u001b[49m\n\u001b[0;32m    464\u001b[0m \u001b[43m\u001b[49m\u001b[43m)\u001b[49m\n",
      "\u001b[1;31mKeyboardInterrupt\u001b[0m: "
     ]
    }
   ],
   "source": [
    "# # --- Define parameter grid for Kernel Ridge ---\n",
    "# param_grid = {\n",
    "#     'C': [0.01, 0.1, 1, 10, 100],\n",
    "#     'gamma': [0.0001, 0.001, 0.01, 0.1, 1]\n",
    "# }\n",
    "\n",
    "# # Empty list to collect results\n",
    "# results = []\n",
    "\n",
    "# print(\"\\nGrid Search over C and gamma...\")\n",
    "\n",
    "# # Manual grid search with session-based CV\n",
    "# for C_val in tqdm(param_grid['C'], desc='Grid C'):\n",
    "#     for gamma_val in param_grid['gamma']:\n",
    "        \n",
    "#         svr_cv_rmse = []\n",
    "        \n",
    "#         for val_session in range(4):\n",
    "#             train_sessions = [s for s in range(4) if s != val_session]\n",
    "\n",
    "#             X_train_fold = X_train[train_sessions].reshape(-1, X_train.shape[-1])\n",
    "#             Y_train_fold = Y_train[train_sessions].reshape(-1, Y_train.shape[-1])\n",
    "\n",
    "#             X_val_fold = X_train[val_session]\n",
    "#             Y_val_fold = Y_train[val_session]\n",
    "\n",
    "#             model = MultiOutputRegressor(SVR(C=C_val, gamma=gamma_val, kernel='rbf'))\n",
    "#             model.fit(X_train_fold, Y_train_fold)\n",
    "#             preds = model.predict(X_val_fold)\n",
    "\n",
    "#             rmse = np.sqrt(np.mean((preds - Y_val_fold) ** 2))\n",
    "#             svr_cv_rmse.append(rmse)\n",
    "        \n",
    "#         mean_rmse = np.mean(svr_cv_rmse)\n",
    "        \n",
    "#         results.append({\n",
    "#             'param_C': C_val,\n",
    "#             'param_gamma': gamma_val,\n",
    "#             'mean_test_score': -mean_rmse  # Notice the minus sign: lower RMSE is better\n",
    "#         })"
   ]
  },
  {
   "cell_type": "code",
   "execution_count": null,
   "id": "c9605803",
   "metadata": {},
   "outputs": [],
   "source": [
    "# Convert results to DataFrame\n",
    "results = pd.DataFrame(results)\n",
    "\n",
    "# Pivot into table: rows=C, columns=gamma\n",
    "pivot = results.pivot(\n",
    "    index='param_C',\n",
    "    columns='param_gamma',\n",
    "    values='mean_test_score'\n",
    ").astype(float)\n",
    "\n",
    "# Plot Heatmap\n",
    "plt.figure(figsize=(8,6))\n",
    "sns.heatmap(\n",
    "    pivot,\n",
    "    annot=True,\n",
    "    fmt=\".3f\",\n",
    "    cmap=\"viridis\"\n",
    ")\n",
    "plt.xlabel('gamma')\n",
    "plt.ylabel('C')\n",
    "plt.title('Session-Based Cross-Validation RMSE (negated) over C and gamma')\n",
    "plt.show()"
   ]
  }
 ],
 "metadata": {
  "kernelspec": {
   "display_name": "test",
   "language": "python",
   "name": "python3"
  },
  "language_info": {
   "codemirror_mode": {
    "name": "ipython",
    "version": 3
   },
   "file_extension": ".py",
   "mimetype": "text/x-python",
   "name": "python",
   "nbconvert_exporter": "python",
   "pygments_lexer": "ipython3",
   "version": "3.12.7"
  }
 },
 "nbformat": 4,
 "nbformat_minor": 5
}

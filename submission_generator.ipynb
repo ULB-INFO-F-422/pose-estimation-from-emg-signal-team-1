{
 "cells": [
  {
   "cell_type": "code",
   "execution_count": 86,
   "id": "6ee26eba",
   "metadata": {},
   "outputs": [],
   "source": [
    "import numpy as np\n",
    "\n",
    "from sklearn.pipeline import Pipeline\n",
    "from sklearn.preprocessing import StandardScaler\n",
    "from sklearn.neighbors import KNeighborsRegressor\n",
    "from sklearn.ensemble import RandomForestRegressor\n",
    "from sklearn.kernel_ridge import KernelRidge\n",
    "\n",
    "from config.regressors import VotingRegressor, StackingRegressor, NNRegressor\n",
    "\n",
    "from config.models import ConvNN\n",
    "\n",
    "from config.loss_functions import RMSELoss\n",
    "\n",
    "import pyriemann\n",
    "import pyriemann.regression\n",
    "\n",
    "from config.transformers import TimeDomainTransformer, TimeWindowTransformer, LabelWindowExtractor\n",
    "from config.validation import RMSE, NMSE, cross_validate_pipeline"
   ]
  },
  {
   "cell_type": "markdown",
   "id": "41ea8cb9",
   "metadata": {},
   "source": [
    "# Models"
   ]
  },
  {
   "cell_type": "markdown",
   "id": "455d5401",
   "metadata": {},
   "source": [
    "### Baseline models"
   ]
  },
  {
   "cell_type": "code",
   "execution_count": 87,
   "id": "c52f725c",
   "metadata": {},
   "outputs": [],
   "source": [
    "baseline_guided_kr = Pipeline(\n",
    "    [\n",
    "        ('feature_extraction', TimeDomainTransformer(sigma_mpr=0.3)),\n",
    "        ('scaler', StandardScaler()),\n",
    "        ('regressor', KernelRidge(\n",
    "            alpha = 0.01,\n",
    "            gamma = 0.01,\n",
    "            kernel='laplacian'))\n",
    "    ]\n",
    ")\n",
    "\n",
    "baseline_guided_knn = Pipeline(\n",
    "    [\n",
    "        ('feature_extraction', TimeDomainTransformer(sigma_mpr=0.3)),\n",
    "        ('scaler', StandardScaler()),\n",
    "        ('regressor', KNeighborsRegressor(\n",
    "            n_neighbors = 5))\n",
    "    ]\n",
    ")\n",
    "\n",
    "baseline_guided_rf = Pipeline(\n",
    "    [\n",
    "        ('feature_extraction', TimeDomainTransformer(sigma_mpr=0.3)),\n",
    "        ('scaler', StandardScaler()),\n",
    "        ('regressor', RandomForestRegressor(\n",
    "            n_estimators = 50,\n",
    "            max_depth = 10))\n",
    "    ]\n",
    ")"
   ]
  },
  {
   "cell_type": "markdown",
   "id": "0785ada4",
   "metadata": {},
   "source": [
    "### Riemannian models"
   ]
  },
  {
   "cell_type": "code",
   "execution_count": 88,
   "id": "c84f91d1",
   "metadata": {},
   "outputs": [],
   "source": [
    "# Riemannian geometry of covariance matrices\n",
    "riem1 = Pipeline(\n",
    "    [\n",
    "        ('feature_extraction', pyriemann.estimation.Covariances()),\n",
    "        ('transformation', pyriemann.tangentspace.TangentSpace(\n",
    "            metric = 'riemann',\n",
    "            tsupdate = True)),\n",
    "        ('scaler', StandardScaler()),\n",
    "        ('regressor', KernelRidge(\n",
    "            alpha = 0.01,\n",
    "            gamma = 0.01,\n",
    "            kernel='laplacian'))\n",
    "    ]\n",
    ")\n",
    "\n",
    "riem2 = Pipeline(\n",
    "    [\n",
    "        ('feature_extraction', pyriemann.estimation.Covariances()),\n",
    "        ('transformation', pyriemann.tangentspace.TangentSpace(\n",
    "            metric = 'riemann',\n",
    "            tsupdate = True)),\n",
    "        ('scaler', StandardScaler()),\n",
    "        ('regressor', KNeighborsRegressor(\n",
    "            n_neighbors = 5))\n",
    "    ]\n",
    ")\n",
    "\n",
    "riem3 = Pipeline(\n",
    "    [\n",
    "        ('feature_extraction', pyriemann.estimation.Covariances()),\n",
    "        ('transformation', pyriemann.tangentspace.TangentSpace(\n",
    "            metric = 'riemann',\n",
    "            tsupdate = True)),\n",
    "        ('scaler', StandardScaler()),\n",
    "        ('regressor', RandomForestRegressor(\n",
    "            n_estimators = 50,\n",
    "            max_depth = 10))\n",
    "    ]\n",
    ")"
   ]
  },
  {
   "cell_type": "markdown",
   "id": "f4ed2284",
   "metadata": {},
   "source": [
    "### Ensemble models"
   ]
  },
  {
   "cell_type": "code",
   "execution_count": 89,
   "id": "f6488776",
   "metadata": {},
   "outputs": [],
   "source": [
    "voting_estimator = VotingRegressor(\n",
    "    estimators = [\n",
    "        baseline_guided_kr,\n",
    "        baseline_guided_knn,\n",
    "        baseline_guided_rf,\n",
    "        riem1,\n",
    "        riem2,\n",
    "        riem3\n",
    "    ]\n",
    ")\n",
    "\n",
    "stacking_estimator = StackingRegressor(\n",
    "    estimators = [\n",
    "        baseline_guided_kr,\n",
    "        baseline_guided_knn,\n",
    "        baseline_guided_rf,\n",
    "        riem1,\n",
    "        riem2,\n",
    "        riem3\n",
    "    ],\n",
    "    end_estimator = RandomForestRegressor(\n",
    "        n_estimators = 50,\n",
    "        max_depth = 10)\n",
    ")"
   ]
  },
  {
   "cell_type": "markdown",
   "id": "ae29bf95",
   "metadata": {},
   "source": [
    "# Final generalization evaluation"
   ]
  },
  {
   "cell_type": "code",
   "execution_count": 90,
   "id": "d464e9ef",
   "metadata": {},
   "outputs": [],
   "source": [
    "PATH = f'/Users/marco/PROJECTS/data/'\n",
    "    # PATH = r'C:\\Users\\gianm\\Documents\\Uni\\Big Data\\F422\\project\\data\\\\'\n",
    "\n",
    "model = baseline_guided_kr\n",
    "step = 100\n",
    "\n",
    "metric_fns = {'RMSE': RMSE, 'NMSE': NMSE}"
   ]
  },
  {
   "cell_type": "code",
   "execution_count": 91,
   "id": "3a016181",
   "metadata": {},
   "outputs": [],
   "source": [
    "tw_extractor = TimeWindowTransformer(size = 500, step = step)\n",
    "label_extractor = LabelWindowExtractor(size = 500, step = step)\n",
    "\n",
    "# guided\n",
    "X_guided = np.load(PATH + f'guided/guided_dataset_X.npy')\n",
    "Y_guided = np.load(PATH + f'guided/guided_dataset_Y.npy')\n",
    "X_guided_windows = tw_extractor.transform(X_guided)\n",
    "Y_guided_labels = label_extractor.transform(Y_guided)\n",
    "\n",
    "# freemoves\n",
    "X_freemoves = np.load(PATH + f'freemoves/freemoves_dataset_X.npy')\n",
    "Y_freemoves = np.load(PATH + f'freemoves/freemoves_dataset_Y.npy')\n",
    "X_freemoves_windows = tw_extractor.transform(X_freemoves)\n",
    "Y_freemoves_labels = label_extractor.transform(Y_freemoves)\n",
    "\n",
    "# # stacked\n",
    "# X_stacked_windows = np.concatenate([X_guided_windows, X_freemoves_windows], axis=1)\n",
    "# Y_stacked_labels = np.concatenate([Y_guided_labels, Y_freemoves_labels], axis=1)"
   ]
  },
  {
   "cell_type": "markdown",
   "id": "2cb5119d",
   "metadata": {},
   "source": [
    "#### RMSE guided"
   ]
  },
  {
   "cell_type": "code",
   "execution_count": 92,
   "id": "20e448b0",
   "metadata": {},
   "outputs": [
    {
     "name": "stdout",
     "output_type": "stream",
     "text": [
      "\n",
      "Average Scores across folds:\n",
      "RMSE: train=0.1576, val=4.5220\n",
      "NMSE: train=0.0001, val=0.1032\n"
     ]
    }
   ],
   "source": [
    "results_guided = cross_validate_pipeline(model, X_guided_windows, Y_guided_labels, metric_fns, n_folds=5, verbose=1)"
   ]
  },
  {
   "cell_type": "markdown",
   "id": "ebba378b",
   "metadata": {},
   "source": [
    "#### RMSE freemoves"
   ]
  },
  {
   "cell_type": "code",
   "execution_count": 93,
   "id": "6021fae5",
   "metadata": {},
   "outputs": [
    {
     "name": "stdout",
     "output_type": "stream",
     "text": [
      "\n",
      "Average Scores across folds:\n",
      "RMSE: train=0.5261, val=10.5424\n",
      "NMSE: train=0.0018, val=0.7883\n"
     ]
    }
   ],
   "source": [
    "results_freemoves = cross_validate_pipeline(model, X_freemoves_windows, Y_freemoves_labels, metric_fns, n_folds=5, verbose=1)"
   ]
  },
  {
   "cell_type": "markdown",
   "id": "1f68ce3c",
   "metadata": {},
   "source": [
    "#### RMSE total"
   ]
  },
  {
   "cell_type": "code",
   "execution_count": 94,
   "id": "a62f06fb",
   "metadata": {},
   "outputs": [
    {
     "data": {
      "text/plain": [
       "np.float64(8.111433178886406)"
      ]
     },
     "execution_count": 94,
     "metadata": {},
     "output_type": "execute_result"
    }
   ],
   "source": [
    "results_combined = \\\n",
    "    ((results_guided['avg_val_RMSE']**2 * X_guided.shape[0] + \\\n",
    "    results_freemoves['avg_val_RMSE']**2 * X_freemoves.shape[0])/(X_guided.shape[0]+X_freemoves.shape[0]))**0.5\n",
    "\n",
    "results_combined # I think that this should be the result that is most correlated to the score"
   ]
  },
  {
   "cell_type": "markdown",
   "id": "5ba40ba5",
   "metadata": {},
   "source": [
    "# Submission\n"
   ]
  },
  {
   "cell_type": "markdown",
   "id": "f431d83a",
   "metadata": {},
   "source": [
    "### Guided training and predictions"
   ]
  },
  {
   "cell_type": "code",
   "execution_count": 95,
   "id": "4346b0b8",
   "metadata": {},
   "outputs": [],
   "source": [
    "DATASET = 'guided'\n",
    "\n",
    "# training\n",
    "X = np.load(PATH + f'{DATASET}/{DATASET}_dataset_X.npy')\n",
    "Y = np.load(PATH + f'{DATASET}/{DATASET}_dataset_Y.npy')\n",
    "\n",
    "tw_extractor = TimeWindowTransformer(size = 500, step = step)\n",
    "label_extractor = LabelWindowExtractor(size = 500, step = step)\n",
    "\n",
    "X_windows = tw_extractor.transform(X)\n",
    "Y_labels = label_extractor.transform(Y)\n",
    "\n",
    "X_train = X_windows.reshape(-1, *X_windows.shape[2:])\n",
    "Y_train = Y_labels.reshape(-1, *Y_labels.shape[2:])\n",
    "\n",
    "model.fit(X_train, Y_train)\n",
    "\n",
    "# predicting\n",
    "X_test = np.load(PATH + f'{DATASET}/{DATASET}_testset_X.npy')\n",
    "X_test = X_test.reshape(-1, *X_windows.shape[2:])\n",
    "\n",
    "Y_guided_pred = model.predict(X_test)"
   ]
  },
  {
   "cell_type": "markdown",
   "id": "b298626a",
   "metadata": {},
   "source": [
    "### Freemoves training and predictions"
   ]
  },
  {
   "cell_type": "code",
   "execution_count": 96,
   "id": "0a73f541",
   "metadata": {},
   "outputs": [],
   "source": [
    "DATASET = 'freemoves'\n",
    "\n",
    "# training\n",
    "X = np.load(PATH + f'{DATASET}/{DATASET}_dataset_X.npy')\n",
    "Y = np.load(PATH + f'{DATASET}/{DATASET}_dataset_Y.npy')\n",
    "\n",
    "tw_extractor = TimeWindowTransformer(size = 500, step = step)\n",
    "label_extractor = LabelWindowExtractor(size = 500, step = step)\n",
    "\n",
    "X_windows = tw_extractor.transform(X)\n",
    "Y_labels = label_extractor.transform(Y)\n",
    "\n",
    "X_train = X_windows.reshape(-1, *X_windows.shape[2:])\n",
    "Y_train = Y_labels.reshape(-1, *Y_labels.shape[2:])\n",
    "\n",
    "model.fit(X_train, Y_train)\n",
    "\n",
    "# predicting\n",
    "X_test = np.load(PATH + f'{DATASET}/{DATASET}_testset_X.npy')\n",
    "X_test = X_test.reshape(-1, *X_windows.shape[2:])\n",
    "\n",
    "Y_freemoves_pred = model.predict(X_test)"
   ]
  },
  {
   "cell_type": "markdown",
   "id": "f64d74dd",
   "metadata": {},
   "source": [
    "### CSV generation"
   ]
  },
  {
   "cell_type": "code",
   "execution_count": 97,
   "id": "9222528f",
   "metadata": {},
   "outputs": [],
   "source": [
    "# import pandas as pd\n",
    "\n",
    "# fname = 'stacked_step_250.csv'\n",
    "\n",
    "# Y_pred = np.vstack([Y_guided_pred, Y_freemoves_pred])\n",
    "# Y_pred_df = pd.DataFrame(Y_pred)\n",
    "# Y_pred_df.to_csv(fname, index=False, header=None)"
   ]
  }
 ],
 "metadata": {
  "kernelspec": {
   "display_name": "bgda",
   "language": "python",
   "name": "python3"
  },
  "language_info": {
   "codemirror_mode": {
    "name": "ipython",
    "version": 3
   },
   "file_extension": ".py",
   "mimetype": "text/x-python",
   "name": "python",
   "nbconvert_exporter": "python",
   "pygments_lexer": "ipython3",
   "version": "3.13.2"
  }
 },
 "nbformat": 4,
 "nbformat_minor": 5
}

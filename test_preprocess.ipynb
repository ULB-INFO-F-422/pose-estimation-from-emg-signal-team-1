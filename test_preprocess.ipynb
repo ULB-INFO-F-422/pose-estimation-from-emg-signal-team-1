{
 "cells": [
  {
   "cell_type": "code",
   "execution_count": 1,
   "id": "e50b72ff",
   "metadata": {},
   "outputs": [
    {
     "name": "stdout",
     "output_type": "stream",
     "text": [
      "Testing raw data loading...\n",
      "X_train_raw shape: (4, 8, 230000)\n",
      "Y_train_raw shape: (4, 51, 230000)\n",
      "X_val_raw shape: (8, 230000)\n",
      "Y_val_raw shape: (51, 230000)\n"
     ]
    }
   ],
   "source": [
    "# test_preprocessing.py\n",
    "\n",
    "from preprocessing import preprocess_dataset\n",
    "\n",
    "# Set the paths to your .npy files\n",
    "X_path = r'C:\\Users\\gianm\\Documents\\Uni\\Big Data\\F422\\project\\data\\guided\\guided_dataset_X.npy'\n",
    "Y_path = r'C:\\Users\\gianm\\Documents\\Uni\\Big Data\\F422\\project\\data\\guided\\guided_dataset_Y.npy'\n",
    "\n",
    "# Test loading raw data\n",
    "print(\"Testing raw data loading...\")\n",
    "X_train_raw, Y_train_raw, X_val_raw, Y_val_raw = preprocess_dataset(X_path, Y_path, mode='raw')\n",
    "print(f\"X_train_raw shape: {X_train_raw.shape}\")\n",
    "print(f\"Y_train_raw shape: {Y_train_raw.shape}\")\n",
    "print(f\"X_val_raw shape: {X_val_raw.shape}\")\n",
    "print(f\"Y_val_raw shape: {Y_val_raw.shape}\")"
   ]
  },
  {
   "cell_type": "code",
   "execution_count": 2,
   "id": "dab00b1d",
   "metadata": {},
   "outputs": [
    {
     "name": "stdout",
     "output_type": "stream",
     "text": [
      "\n",
      "Testing windowed data...\n",
      "X_train_windows shape: (4, 2296, 8, 500)\n",
      "Y_train_windows shape: (4, 2296, 51)\n",
      "X_val_windows shape: (1, 2296, 8, 500)\n",
      "Y_val_windows shape: (1, 2296, 51)\n"
     ]
    }
   ],
   "source": [
    "# Test creating time windows\n",
    "print(\"\\nTesting windowed data...\")\n",
    "X_train_windows, Y_train_windows, X_val_windows, Y_val_windows = preprocess_dataset(X_path, Y_path, mode='windows')\n",
    "print(f\"X_train_windows shape: {X_train_windows.shape}\")\n",
    "print(f\"Y_train_windows shape: {Y_train_windows.shape}\")\n",
    "print(f\"X_val_windows shape: {X_val_windows.shape}\")\n",
    "print(f\"Y_val_windows shape: {Y_val_windows.shape}\")"
   ]
  },
  {
   "cell_type": "code",
   "execution_count": 2,
   "id": "9ac0d59e",
   "metadata": {},
   "outputs": [
    {
     "name": "stdout",
     "output_type": "stream",
     "text": [
      "\n",
      "Testing time domain features...\n",
      "X_train_features shape: (4, 2296, 8, 12)\n",
      "Y_train_features shape: (4, 2296, 51)\n",
      "X_val_features shape: (1, 2296, 8, 12)\n",
      "Y_val_features shape: (1, 2296, 51)\n"
     ]
    }
   ],
   "source": [
    "# Test extracting time domain features\n",
    "print(\"\\nTesting time domain features...\")\n",
    "X_train_features, Y_train_features, X_val_features, Y_val_features = preprocess_dataset(X_path, Y_path, mode='features')\n",
    "print(f\"X_train_features shape: {X_train_features.shape}\")\n",
    "print(f\"Y_train_features shape: {Y_train_features.shape}\")\n",
    "print(f\"X_val_features shape: {X_val_features.shape}\")\n",
    "print(f\"Y_val_features shape: {Y_val_features.shape}\")"
   ]
  }
 ],
 "metadata": {
  "kernelspec": {
   "display_name": "test",
   "language": "python",
   "name": "python3"
  },
  "language_info": {
   "codemirror_mode": {
    "name": "ipython",
    "version": 3
   },
   "file_extension": ".py",
   "mimetype": "text/x-python",
   "name": "python",
   "nbconvert_exporter": "python",
   "pygments_lexer": "ipython3",
   "version": "3.12.7"
  }
 },
 "nbformat": 4,
 "nbformat_minor": 5
}
